{
 "cells": [
  {
   "cell_type": "markdown",
   "metadata": {},
   "source": [
    "# DATA"
   ]
  },
  {
   "attachments": {},
   "cell_type": "markdown",
   "metadata": {},
   "source": [
    "IMPORT MODUL"
   ]
  },
  {
   "cell_type": "code",
   "execution_count": 1,
   "metadata": {},
   "outputs": [],
   "source": [
    "import pandas as pd\n",
    "import numpy as np\n",
    "from sklearn.model_selection import train_test_split\n",
    "from sklearn.ensemble import RandomForestClassifier\n",
    "from sklearn.svm import SVC\n",
    "from sklearn.neighbors import KNeighborsClassifier\n",
    "from sklearn.ensemble import VotingClassifier\n",
    "from sklearn.metrics import confusion_matrix\n",
    "import matplotlib.pyplot as plt\n",
    "from matplotlib import style \n",
    "from sklearn.metrics import roc_curve, auc\n",
    "from sklearn.model_selection import cross_val_score\n",
    "from sklearn.model_selection import KFold, cross_validate\n",
    "from sklearn.model_selection import GridSearchCV, RandomizedSearchCV\n",
    "import joblib\n",
    "from sklearn.metrics import ConfusionMatrixDisplay"
   ]
  },
  {
   "attachments": {},
   "cell_type": "markdown",
   "metadata": {},
   "source": [
    "MEMANGGGIL DATA"
   ]
  },
  {
   "cell_type": "code",
   "execution_count": 2,
   "metadata": {},
   "outputs": [],
   "source": [
    "file1 = open(\"C:/00. Kuliah/00. Skripsi/06 Data/00 Fix Feature/ASCII/Jalan_sekunder.asc\",\"r\")\n",
    "\n",
    "lines = file1.readlines()\n",
    "\n",
    "array1 =[]\n",
    "index = 0\n",
    "for line in lines:\n",
    "    if index < 107:\n",
    "        index+=1\n",
    "        continue\n",
    "\n",
    "    list_line = line.split()\n",
    "    for a in list_line:\n",
    "        if a != \"*\":\n",
    "            array1.append(float(a))\n",
    "\n",
    "file1.close()"
   ]
  },
  {
   "cell_type": "code",
   "execution_count": 3,
   "metadata": {},
   "outputs": [],
   "source": [
    "file2 = open(\"C:/00. Kuliah/00. Skripsi/06 Data/00 Fix Feature/ASCII/Jalan_tersier.asc\",\"r\")\n",
    "\n",
    "lines = file2.readlines()\n",
    "\n",
    "array2 =[]\n",
    "index = 0\n",
    "for line in lines:\n",
    "    if index < 107:\n",
    "        index+=1\n",
    "        continue\n",
    "\n",
    "    list_line = line.split()\n",
    "    for a in list_line:\n",
    "        if a != \"*\":\n",
    "            array2.append(float(a))\n",
    "\n",
    "file2.close()"
   ]
  },
  {
   "cell_type": "code",
   "execution_count": 4,
   "metadata": {},
   "outputs": [],
   "source": [
    "file3 = open(\"C:/00. Kuliah/00. Skripsi/06 Data/00 Fix Feature/ASCII/Landuse.asc\",\"r\")\n",
    "\n",
    "lines = file3.readlines()\n",
    "\n",
    "array3 =[]\n",
    "index = 0\n",
    "for line in lines:\n",
    "    if index < 107:\n",
    "        index+=1\n",
    "        continue\n",
    "\n",
    "    list_line = line.split()\n",
    "    for a in list_line:\n",
    "        if a != \"*\":\n",
    "            array3.append(float(a))\n",
    "\n",
    "file3.close()"
   ]
  },
  {
   "cell_type": "code",
   "execution_count": 5,
   "metadata": {},
   "outputs": [],
   "source": [
    "file4 = open(\"C:/00. Kuliah/00. Skripsi/06 Data/00 Fix Feature/ASCII/NDVI.asc\",\"r\")\n",
    "\n",
    "lines = file4.readlines()\n",
    "\n",
    "array4 =[]\n",
    "index = 0\n",
    "for line in lines:\n",
    "    if index < 107:\n",
    "        index+=1\n",
    "        continue\n",
    "\n",
    "    list_line = line.split()\n",
    "    for a in list_line:\n",
    "        if a != \"*\":\n",
    "            array4.append(float(a))\n",
    "\n",
    "file4.close()"
   ]
  },
  {
   "cell_type": "code",
   "execution_count": 6,
   "metadata": {},
   "outputs": [],
   "source": [
    "file5 = open(\"C:/00. Kuliah/00. Skripsi/06 Data/00 Fix Feature/ASCII/Slope.asc\",\"r\")\n",
    "\n",
    "lines = file5.readlines()\n",
    "\n",
    "array5 =[]\n",
    "index = 0\n",
    "for line in lines:\n",
    "    if index < 107:\n",
    "        index+=1\n",
    "        continue\n",
    "\n",
    "    list_line = line.split()\n",
    "    for a in list_line:\n",
    "        if a != \"*\":\n",
    "            array5.append(float(a))\n",
    "\n",
    "file5.close()"
   ]
  },
  {
   "cell_type": "code",
   "execution_count": 7,
   "metadata": {},
   "outputs": [],
   "source": [
    "file6 = open(\"C:/00. Kuliah/00. Skripsi/06 Data/00 Fix Feature/ASCII/TWI.asc\",\"r\")\n",
    "\n",
    "lines = file6.readlines()\n",
    "\n",
    "array6 =[]\n",
    "index = 0\n",
    "for line in lines:\n",
    "    if index < 107:\n",
    "        index+=1\n",
    "        continue\n",
    "\n",
    "    list_line = line.split()\n",
    "    for a in list_line:\n",
    "        if a != \"*\":\n",
    "            array6.append(float(a))\n",
    "\n",
    "file6.close()"
   ]
  },
  {
   "cell_type": "code",
   "execution_count": 8,
   "metadata": {},
   "outputs": [],
   "source": [
    "file7 = open(\"C:/00. Kuliah/00. Skripsi/06 Data/00 Fix Feature/ASCII/Elevasi.asc\",\"r\")\n",
    "\n",
    "lines = file7.readlines()\n",
    "\n",
    "array7 =[]\n",
    "index = 0\n",
    "for line in lines:\n",
    "    if index < 107:\n",
    "        index+=1\n",
    "        continue\n",
    "\n",
    "    list_line = line.split()\n",
    "    for a in list_line:\n",
    "        if a != \"*\":\n",
    "            array7.append(float(a))\n",
    "\n",
    "file7.close()"
   ]
  },
  {
   "cell_type": "code",
   "execution_count": 9,
   "metadata": {},
   "outputs": [],
   "source": [
    "file8 = open(\"C:/00. Kuliah/00. Skripsi/06 Data/00 Fix Feature/ASCII/TRMM.asc\",\"r\")\n",
    "\n",
    "lines = file8.readlines()\n",
    "\n",
    "array8 =[]\n",
    "index = 0\n",
    "for line in lines:\n",
    "    if index < 107:\n",
    "        index+=1\n",
    "        continue\n",
    "\n",
    "    list_line = line.split()\n",
    "    for a in list_line:\n",
    "        if a != \"*\":\n",
    "            array8.append(float(a))\n",
    "\n",
    "file8.close()"
   ]
  },
  {
   "cell_type": "code",
   "execution_count": 10,
   "metadata": {},
   "outputs": [],
   "source": [
    "file9 = open(\"C:/00. Kuliah/00. Skripsi/06 Data/00 Fix Feature/ASCII/Litologi.asc\",\"r\")\n",
    "\n",
    "lines = file9.readlines()\n",
    "\n",
    "array9 =[]\n",
    "index = 0\n",
    "for line in lines:\n",
    "    if index < 107:\n",
    "        index+=1\n",
    "        continue\n",
    "\n",
    "    list_line = line.split()\n",
    "    for a in list_line:\n",
    "        if a != \"*\":\n",
    "            array9.append(float(a))\n",
    "\n",
    "file9.close()"
   ]
  },
  {
   "cell_type": "code",
   "execution_count": 11,
   "metadata": {},
   "outputs": [],
   "source": [
    "file10 = open(\"C:/00. Kuliah/00. Skripsi/06 Data/00 Fix Feature/ASCII/Inventory_Longsor.asc\",\"r\")\n",
    "\n",
    "lines = file10.readlines()\n",
    "\n",
    "array10 =[]\n",
    "index = 0\n",
    "for line in lines:\n",
    "    if index < 107:\n",
    "        index+=1\n",
    "        continue\n",
    "\n",
    "    list_line = line.split()\n",
    "    for a in list_line:\n",
    "        if a != \"*\":\n",
    "            if a>'0':\n",
    "                array10.append(1)\n",
    "            else:\n",
    "                array10.append(0)\n",
    "\n",
    "file10.close()"
   ]
  },
  {
   "attachments": {},
   "cell_type": "markdown",
   "metadata": {},
   "source": [
    "PENGECEKAN BANYAK DATA PADA SEMUA FAKTOR LONGSOR"
   ]
  },
  {
   "cell_type": "code",
   "execution_count": 12,
   "metadata": {},
   "outputs": [
    {
     "name": "stdout",
     "output_type": "stream",
     "text": [
      "JUMLAH DATA\n",
      "1. jln_sekunder :854963\n",
      "2. jln_tersier :854963\n",
      "3. landuse :854963\n",
      "4. NDVI :854963\n",
      "5. Slope :854963\n",
      "6. TWI :854963\n",
      "7. Elevasi :854963\n",
      "8. TRMM :854963\n",
      "9. Litologi :854963\n",
      "10. inventory :854963\n"
     ]
    }
   ],
   "source": [
    "print(\"JUMLAH DATA\")\n",
    "print(f'1. jln_sekunder :{len(array1)}')\n",
    "print(f'2. jln_tersier :{len(array2)}')\n",
    "print(f'3. landuse :{len(array3)}')\n",
    "print(f'4. NDVI :{len(array4)}')\n",
    "print(f'5. Slope :{len(array5)}')\n",
    "print(f'6. TWI :{len(array6)}')\n",
    "print(f'7. Elevasi :{len(array7)}')\n",
    "print(f'8. TRMM :{len(array8)}')\n",
    "print(f'9. Litologi :{len(array9)}')\n",
    "\n",
    "print(f'10. inventory :{len(array10)}')"
   ]
  },
  {
   "attachments": {},
   "cell_type": "markdown",
   "metadata": {},
   "source": [
    "TABEL FEATURE DAN TARGET"
   ]
  },
  {
   "cell_type": "code",
   "execution_count": 13,
   "metadata": {},
   "outputs": [
    {
     "data": {
      "text/html": [
       "<div>\n",
       "<style scoped>\n",
       "    .dataframe tbody tr th:only-of-type {\n",
       "        vertical-align: middle;\n",
       "    }\n",
       "\n",
       "    .dataframe tbody tr th {\n",
       "        vertical-align: top;\n",
       "    }\n",
       "\n",
       "    .dataframe thead th {\n",
       "        text-align: right;\n",
       "    }\n",
       "</style>\n",
       "<table border=\"1\" class=\"dataframe\">\n",
       "  <thead>\n",
       "    <tr style=\"text-align: right;\">\n",
       "      <th></th>\n",
       "      <th>Jl.Sekunder</th>\n",
       "      <th>Jl.Terser</th>\n",
       "      <th>Landuse</th>\n",
       "      <th>NDVI</th>\n",
       "      <th>Slope</th>\n",
       "      <th>TWI</th>\n",
       "      <th>Elevasi</th>\n",
       "      <th>TRMM</th>\n",
       "      <th>Litologi</th>\n",
       "      <th>Inventory</th>\n",
       "    </tr>\n",
       "  </thead>\n",
       "  <tbody>\n",
       "    <tr>\n",
       "      <th>0</th>\n",
       "      <td>0.020280</td>\n",
       "      <td>0.015578</td>\n",
       "      <td>1441.0</td>\n",
       "      <td>0.600571</td>\n",
       "      <td>8.089682</td>\n",
       "      <td>8.378140</td>\n",
       "      <td>106.0</td>\n",
       "      <td>2641.176025</td>\n",
       "      <td>100.0</td>\n",
       "      <td>0</td>\n",
       "    </tr>\n",
       "    <tr>\n",
       "      <th>1</th>\n",
       "      <td>0.020535</td>\n",
       "      <td>0.015436</td>\n",
       "      <td>1441.0</td>\n",
       "      <td>0.600302</td>\n",
       "      <td>5.199060</td>\n",
       "      <td>6.026731</td>\n",
       "      <td>104.0</td>\n",
       "      <td>2641.182617</td>\n",
       "      <td>100.0</td>\n",
       "      <td>0</td>\n",
       "    </tr>\n",
       "    <tr>\n",
       "      <th>2</th>\n",
       "      <td>0.020791</td>\n",
       "      <td>0.015298</td>\n",
       "      <td>1441.0</td>\n",
       "      <td>0.600033</td>\n",
       "      <td>7.201212</td>\n",
       "      <td>9.180512</td>\n",
       "      <td>104.0</td>\n",
       "      <td>2641.188965</td>\n",
       "      <td>100.0</td>\n",
       "      <td>0</td>\n",
       "    </tr>\n",
       "    <tr>\n",
       "      <th>3</th>\n",
       "      <td>0.021047</td>\n",
       "      <td>0.015164</td>\n",
       "      <td>1441.0</td>\n",
       "      <td>0.599764</td>\n",
       "      <td>9.928665</td>\n",
       "      <td>7.117791</td>\n",
       "      <td>105.0</td>\n",
       "      <td>2641.195557</td>\n",
       "      <td>100.0</td>\n",
       "      <td>0</td>\n",
       "    </tr>\n",
       "    <tr>\n",
       "      <th>4</th>\n",
       "      <td>0.019915</td>\n",
       "      <td>0.015488</td>\n",
       "      <td>1441.0</td>\n",
       "      <td>0.602781</td>\n",
       "      <td>11.150697</td>\n",
       "      <td>9.659223</td>\n",
       "      <td>101.0</td>\n",
       "      <td>2641.025146</td>\n",
       "      <td>100.0</td>\n",
       "      <td>0</td>\n",
       "    </tr>\n",
       "    <tr>\n",
       "      <th>...</th>\n",
       "      <td>...</td>\n",
       "      <td>...</td>\n",
       "      <td>...</td>\n",
       "      <td>...</td>\n",
       "      <td>...</td>\n",
       "      <td>...</td>\n",
       "      <td>...</td>\n",
       "      <td>...</td>\n",
       "      <td>...</td>\n",
       "      <td>...</td>\n",
       "    </tr>\n",
       "    <tr>\n",
       "      <th>854958</th>\n",
       "      <td>0.008722</td>\n",
       "      <td>0.034351</td>\n",
       "      <td>1532.0</td>\n",
       "      <td>0.636456</td>\n",
       "      <td>2.834059</td>\n",
       "      <td>4.656544</td>\n",
       "      <td>415.0</td>\n",
       "      <td>2388.905518</td>\n",
       "      <td>79.0</td>\n",
       "      <td>0</td>\n",
       "    </tr>\n",
       "    <tr>\n",
       "      <th>854959</th>\n",
       "      <td>0.007857</td>\n",
       "      <td>0.035426</td>\n",
       "      <td>1532.0</td>\n",
       "      <td>0.639016</td>\n",
       "      <td>9.068975</td>\n",
       "      <td>7.630423</td>\n",
       "      <td>401.0</td>\n",
       "      <td>2388.076416</td>\n",
       "      <td>79.0</td>\n",
       "      <td>0</td>\n",
       "    </tr>\n",
       "    <tr>\n",
       "      <th>854960</th>\n",
       "      <td>0.008056</td>\n",
       "      <td>0.035183</td>\n",
       "      <td>1532.0</td>\n",
       "      <td>0.638667</td>\n",
       "      <td>7.192831</td>\n",
       "      <td>6.811593</td>\n",
       "      <td>405.0</td>\n",
       "      <td>2388.165771</td>\n",
       "      <td>79.0</td>\n",
       "      <td>0</td>\n",
       "    </tr>\n",
       "    <tr>\n",
       "      <th>854961</th>\n",
       "      <td>0.008259</td>\n",
       "      <td>0.034939</td>\n",
       "      <td>1532.0</td>\n",
       "      <td>0.638318</td>\n",
       "      <td>2.334001</td>\n",
       "      <td>6.464548</td>\n",
       "      <td>407.0</td>\n",
       "      <td>2388.255371</td>\n",
       "      <td>79.0</td>\n",
       "      <td>0</td>\n",
       "    </tr>\n",
       "    <tr>\n",
       "      <th>854962</th>\n",
       "      <td>0.008467</td>\n",
       "      <td>0.034697</td>\n",
       "      <td>1532.0</td>\n",
       "      <td>0.637969</td>\n",
       "      <td>4.622764</td>\n",
       "      <td>8.531234</td>\n",
       "      <td>407.0</td>\n",
       "      <td>2388.344727</td>\n",
       "      <td>79.0</td>\n",
       "      <td>0</td>\n",
       "    </tr>\n",
       "  </tbody>\n",
       "</table>\n",
       "<p>854963 rows × 10 columns</p>\n",
       "</div>"
      ],
      "text/plain": [
       "        Jl.Sekunder  Jl.Terser  Landuse      NDVI      Slope       TWI  \\\n",
       "0          0.020280   0.015578   1441.0  0.600571   8.089682  8.378140   \n",
       "1          0.020535   0.015436   1441.0  0.600302   5.199060  6.026731   \n",
       "2          0.020791   0.015298   1441.0  0.600033   7.201212  9.180512   \n",
       "3          0.021047   0.015164   1441.0  0.599764   9.928665  7.117791   \n",
       "4          0.019915   0.015488   1441.0  0.602781  11.150697  9.659223   \n",
       "...             ...        ...      ...       ...        ...       ...   \n",
       "854958     0.008722   0.034351   1532.0  0.636456   2.834059  4.656544   \n",
       "854959     0.007857   0.035426   1532.0  0.639016   9.068975  7.630423   \n",
       "854960     0.008056   0.035183   1532.0  0.638667   7.192831  6.811593   \n",
       "854961     0.008259   0.034939   1532.0  0.638318   2.334001  6.464548   \n",
       "854962     0.008467   0.034697   1532.0  0.637969   4.622764  8.531234   \n",
       "\n",
       "        Elevasi         TRMM  Litologi  Inventory  \n",
       "0         106.0  2641.176025     100.0          0  \n",
       "1         104.0  2641.182617     100.0          0  \n",
       "2         104.0  2641.188965     100.0          0  \n",
       "3         105.0  2641.195557     100.0          0  \n",
       "4         101.0  2641.025146     100.0          0  \n",
       "...         ...          ...       ...        ...  \n",
       "854958    415.0  2388.905518      79.0          0  \n",
       "854959    401.0  2388.076416      79.0          0  \n",
       "854960    405.0  2388.165771      79.0          0  \n",
       "854961    407.0  2388.255371      79.0          0  \n",
       "854962    407.0  2388.344727      79.0          0  \n",
       "\n",
       "[854963 rows x 10 columns]"
      ]
     },
     "execution_count": 13,
     "metadata": {},
     "output_type": "execute_result"
    }
   ],
   "source": [
    "data = {'Jl.Sekunder':array1,'Jl.Terser':array2,'Landuse':array3,'NDVI':array4,\n",
    "        'Slope':array5,'TWI':array6,'Elevasi':array7,'TRMM':array8,'Litologi':array9}\n",
    "target = {'Inventory':array10}\n",
    "\n",
    "data_df = pd.DataFrame(data)\n",
    "target_df = pd.DataFrame(target)\n",
    "\n",
    "x = data_df\n",
    "y = target_df\n",
    "\n",
    "landslide = pd.merge(x,y,left_index=True,right_index=True)\n",
    "\n",
    "landslide"
   ]
  },
  {
   "attachments": {},
   "cell_type": "markdown",
   "metadata": {},
   "source": [
    "MEMISAHKAN DATA LONGSOR DAN TIDAK LONGSOR "
   ]
  },
  {
   "cell_type": "code",
   "execution_count": 14,
   "metadata": {},
   "outputs": [],
   "source": [
    "longsor_positif = landslide[landslide['Inventory'].isin([1])]\n",
    "longsor_negatif = landslide[landslide['Inventory'].isin([0])]"
   ]
  },
  {
   "cell_type": "code",
   "execution_count": 15,
   "metadata": {},
   "outputs": [
    {
     "data": {
      "text/html": [
       "<div>\n",
       "<style scoped>\n",
       "    .dataframe tbody tr th:only-of-type {\n",
       "        vertical-align: middle;\n",
       "    }\n",
       "\n",
       "    .dataframe tbody tr th {\n",
       "        vertical-align: top;\n",
       "    }\n",
       "\n",
       "    .dataframe thead th {\n",
       "        text-align: right;\n",
       "    }\n",
       "</style>\n",
       "<table border=\"1\" class=\"dataframe\">\n",
       "  <thead>\n",
       "    <tr style=\"text-align: right;\">\n",
       "      <th></th>\n",
       "      <th>Jl.Sekunder</th>\n",
       "      <th>Jl.Terser</th>\n",
       "      <th>Landuse</th>\n",
       "      <th>NDVI</th>\n",
       "      <th>Slope</th>\n",
       "      <th>TWI</th>\n",
       "      <th>Elevasi</th>\n",
       "      <th>TRMM</th>\n",
       "      <th>Litologi</th>\n",
       "      <th>Inventory</th>\n",
       "    </tr>\n",
       "  </thead>\n",
       "  <tbody>\n",
       "    <tr>\n",
       "      <th>0</th>\n",
       "      <td>0.020280</td>\n",
       "      <td>0.015578</td>\n",
       "      <td>1441.0</td>\n",
       "      <td>0.600571</td>\n",
       "      <td>8.089682</td>\n",
       "      <td>8.378140</td>\n",
       "      <td>106.0</td>\n",
       "      <td>2641.176025</td>\n",
       "      <td>100.0</td>\n",
       "      <td>0</td>\n",
       "    </tr>\n",
       "    <tr>\n",
       "      <th>1</th>\n",
       "      <td>0.020535</td>\n",
       "      <td>0.015436</td>\n",
       "      <td>1441.0</td>\n",
       "      <td>0.600302</td>\n",
       "      <td>5.199060</td>\n",
       "      <td>6.026731</td>\n",
       "      <td>104.0</td>\n",
       "      <td>2641.182617</td>\n",
       "      <td>100.0</td>\n",
       "      <td>0</td>\n",
       "    </tr>\n",
       "    <tr>\n",
       "      <th>2</th>\n",
       "      <td>0.020791</td>\n",
       "      <td>0.015298</td>\n",
       "      <td>1441.0</td>\n",
       "      <td>0.600033</td>\n",
       "      <td>7.201212</td>\n",
       "      <td>9.180512</td>\n",
       "      <td>104.0</td>\n",
       "      <td>2641.188965</td>\n",
       "      <td>100.0</td>\n",
       "      <td>0</td>\n",
       "    </tr>\n",
       "    <tr>\n",
       "      <th>3</th>\n",
       "      <td>0.021047</td>\n",
       "      <td>0.015164</td>\n",
       "      <td>1441.0</td>\n",
       "      <td>0.599764</td>\n",
       "      <td>9.928665</td>\n",
       "      <td>7.117791</td>\n",
       "      <td>105.0</td>\n",
       "      <td>2641.195557</td>\n",
       "      <td>100.0</td>\n",
       "      <td>0</td>\n",
       "    </tr>\n",
       "    <tr>\n",
       "      <th>4</th>\n",
       "      <td>0.019915</td>\n",
       "      <td>0.015488</td>\n",
       "      <td>1441.0</td>\n",
       "      <td>0.602781</td>\n",
       "      <td>11.150697</td>\n",
       "      <td>9.659223</td>\n",
       "      <td>101.0</td>\n",
       "      <td>2641.025146</td>\n",
       "      <td>100.0</td>\n",
       "      <td>0</td>\n",
       "    </tr>\n",
       "    <tr>\n",
       "      <th>...</th>\n",
       "      <td>...</td>\n",
       "      <td>...</td>\n",
       "      <td>...</td>\n",
       "      <td>...</td>\n",
       "      <td>...</td>\n",
       "      <td>...</td>\n",
       "      <td>...</td>\n",
       "      <td>...</td>\n",
       "      <td>...</td>\n",
       "      <td>...</td>\n",
       "    </tr>\n",
       "    <tr>\n",
       "      <th>854958</th>\n",
       "      <td>0.008722</td>\n",
       "      <td>0.034351</td>\n",
       "      <td>1532.0</td>\n",
       "      <td>0.636456</td>\n",
       "      <td>2.834059</td>\n",
       "      <td>4.656544</td>\n",
       "      <td>415.0</td>\n",
       "      <td>2388.905518</td>\n",
       "      <td>79.0</td>\n",
       "      <td>0</td>\n",
       "    </tr>\n",
       "    <tr>\n",
       "      <th>854959</th>\n",
       "      <td>0.007857</td>\n",
       "      <td>0.035426</td>\n",
       "      <td>1532.0</td>\n",
       "      <td>0.639016</td>\n",
       "      <td>9.068975</td>\n",
       "      <td>7.630423</td>\n",
       "      <td>401.0</td>\n",
       "      <td>2388.076416</td>\n",
       "      <td>79.0</td>\n",
       "      <td>0</td>\n",
       "    </tr>\n",
       "    <tr>\n",
       "      <th>854960</th>\n",
       "      <td>0.008056</td>\n",
       "      <td>0.035183</td>\n",
       "      <td>1532.0</td>\n",
       "      <td>0.638667</td>\n",
       "      <td>7.192831</td>\n",
       "      <td>6.811593</td>\n",
       "      <td>405.0</td>\n",
       "      <td>2388.165771</td>\n",
       "      <td>79.0</td>\n",
       "      <td>0</td>\n",
       "    </tr>\n",
       "    <tr>\n",
       "      <th>854961</th>\n",
       "      <td>0.008259</td>\n",
       "      <td>0.034939</td>\n",
       "      <td>1532.0</td>\n",
       "      <td>0.638318</td>\n",
       "      <td>2.334001</td>\n",
       "      <td>6.464548</td>\n",
       "      <td>407.0</td>\n",
       "      <td>2388.255371</td>\n",
       "      <td>79.0</td>\n",
       "      <td>0</td>\n",
       "    </tr>\n",
       "    <tr>\n",
       "      <th>854962</th>\n",
       "      <td>0.008467</td>\n",
       "      <td>0.034697</td>\n",
       "      <td>1532.0</td>\n",
       "      <td>0.637969</td>\n",
       "      <td>4.622764</td>\n",
       "      <td>8.531234</td>\n",
       "      <td>407.0</td>\n",
       "      <td>2388.344727</td>\n",
       "      <td>79.0</td>\n",
       "      <td>0</td>\n",
       "    </tr>\n",
       "  </tbody>\n",
       "</table>\n",
       "<p>849406 rows × 10 columns</p>\n",
       "</div>"
      ],
      "text/plain": [
       "        Jl.Sekunder  Jl.Terser  Landuse      NDVI      Slope       TWI  \\\n",
       "0          0.020280   0.015578   1441.0  0.600571   8.089682  8.378140   \n",
       "1          0.020535   0.015436   1441.0  0.600302   5.199060  6.026731   \n",
       "2          0.020791   0.015298   1441.0  0.600033   7.201212  9.180512   \n",
       "3          0.021047   0.015164   1441.0  0.599764   9.928665  7.117791   \n",
       "4          0.019915   0.015488   1441.0  0.602781  11.150697  9.659223   \n",
       "...             ...        ...      ...       ...        ...       ...   \n",
       "854958     0.008722   0.034351   1532.0  0.636456   2.834059  4.656544   \n",
       "854959     0.007857   0.035426   1532.0  0.639016   9.068975  7.630423   \n",
       "854960     0.008056   0.035183   1532.0  0.638667   7.192831  6.811593   \n",
       "854961     0.008259   0.034939   1532.0  0.638318   2.334001  6.464548   \n",
       "854962     0.008467   0.034697   1532.0  0.637969   4.622764  8.531234   \n",
       "\n",
       "        Elevasi         TRMM  Litologi  Inventory  \n",
       "0         106.0  2641.176025     100.0          0  \n",
       "1         104.0  2641.182617     100.0          0  \n",
       "2         104.0  2641.188965     100.0          0  \n",
       "3         105.0  2641.195557     100.0          0  \n",
       "4         101.0  2641.025146     100.0          0  \n",
       "...         ...          ...       ...        ...  \n",
       "854958    415.0  2388.905518      79.0          0  \n",
       "854959    401.0  2388.076416      79.0          0  \n",
       "854960    405.0  2388.165771      79.0          0  \n",
       "854961    407.0  2388.255371      79.0          0  \n",
       "854962    407.0  2388.344727      79.0          0  \n",
       "\n",
       "[849406 rows x 10 columns]"
      ]
     },
     "execution_count": 15,
     "metadata": {},
     "output_type": "execute_result"
    }
   ],
   "source": [
    "longsor_negatif"
   ]
  },
  {
   "attachments": {},
   "cell_type": "markdown",
   "metadata": {},
   "source": [
    "MEMBUAT TRANING SET DAN TESTING SET"
   ]
  },
  {
   "cell_type": "code",
   "execution_count": 16,
   "metadata": {},
   "outputs": [
    {
     "name": "stdout",
     "output_type": "stream",
     "text": [
      "Jumlah longsor 5557\n"
     ]
    }
   ],
   "source": [
    "#menghitung jumlah data longsor\n",
    "longsor_count = array10.count(1)\n",
    "print('Jumlah longsor', longsor_count)"
   ]
  },
  {
   "cell_type": "code",
   "execution_count": 17,
   "metadata": {},
   "outputs": [],
   "source": [
    "#jumlah data \n",
    "n_positif1 = 1000 \n",
    "n_positif2 = 3000\n",
    "n_positif3 = 5557\n",
    "\n",
    "n_quary1 = 80 \n",
    "n_quary2 = 240\n",
    "n_quary3 = 440"
   ]
  },
  {
   "cell_type": "code",
   "execution_count": 18,
   "metadata": {},
   "outputs": [],
   "source": [
    "# If you don't specify the random_state in the code, then every time you run(execute) your code a new random value is generated and the train and test datasets would have different values each time.\n",
    "\n",
    "# However, if a fixed value is assigned like random_state = 0 or 1 or 42 or any other integer then no matter how many times you execute your code the result would be the same .i.e, same values in train and test datasets"
   ]
  },
  {
   "attachments": {},
   "cell_type": "markdown",
   "metadata": {},
   "source": [
    "Komposisi jumlah data penelitian 5557:8800"
   ]
  },
  {
   "cell_type": "code",
   "execution_count": 19,
   "metadata": {},
   "outputs": [
    {
     "data": {
      "text/html": [
       "<div>\n",
       "<style scoped>\n",
       "    .dataframe tbody tr th:only-of-type {\n",
       "        vertical-align: middle;\n",
       "    }\n",
       "\n",
       "    .dataframe tbody tr th {\n",
       "        vertical-align: top;\n",
       "    }\n",
       "\n",
       "    .dataframe thead th {\n",
       "        text-align: right;\n",
       "    }\n",
       "</style>\n",
       "<table border=\"1\" class=\"dataframe\">\n",
       "  <thead>\n",
       "    <tr style=\"text-align: right;\">\n",
       "      <th></th>\n",
       "      <th>Jl.Sekunder</th>\n",
       "      <th>Jl.Terser</th>\n",
       "      <th>Landuse</th>\n",
       "      <th>NDVI</th>\n",
       "      <th>Slope</th>\n",
       "      <th>TWI</th>\n",
       "      <th>Elevasi</th>\n",
       "      <th>TRMM</th>\n",
       "      <th>Litologi</th>\n",
       "      <th>Inventory</th>\n",
       "    </tr>\n",
       "  </thead>\n",
       "  <tbody>\n",
       "    <tr>\n",
       "      <th>16056</th>\n",
       "      <td>0.031018</td>\n",
       "      <td>0.000878</td>\n",
       "      <td>1471.0</td>\n",
       "      <td>0.601640</td>\n",
       "      <td>3.500454</td>\n",
       "      <td>4.796541</td>\n",
       "      <td>143.0</td>\n",
       "      <td>2627.112793</td>\n",
       "      <td>93.0</td>\n",
       "      <td>0</td>\n",
       "    </tr>\n",
       "    <tr>\n",
       "      <th>20516</th>\n",
       "      <td>0.011198</td>\n",
       "      <td>0.003611</td>\n",
       "      <td>1471.0</td>\n",
       "      <td>0.609113</td>\n",
       "      <td>6.378932</td>\n",
       "      <td>8.683089</td>\n",
       "      <td>89.0</td>\n",
       "      <td>2625.574463</td>\n",
       "      <td>93.0</td>\n",
       "      <td>0</td>\n",
       "    </tr>\n",
       "    <tr>\n",
       "      <th>9263</th>\n",
       "      <td>0.030757</td>\n",
       "      <td>0.002500</td>\n",
       "      <td>590.0</td>\n",
       "      <td>0.633359</td>\n",
       "      <td>6.954458</td>\n",
       "      <td>9.216416</td>\n",
       "      <td>133.0</td>\n",
       "      <td>2631.850342</td>\n",
       "      <td>100.0</td>\n",
       "      <td>0</td>\n",
       "    </tr>\n",
       "    <tr>\n",
       "      <th>7298</th>\n",
       "      <td>0.032615</td>\n",
       "      <td>0.011111</td>\n",
       "      <td>1890.0</td>\n",
       "      <td>0.632560</td>\n",
       "      <td>17.408785</td>\n",
       "      <td>4.477691</td>\n",
       "      <td>123.0</td>\n",
       "      <td>2633.549072</td>\n",
       "      <td>93.0</td>\n",
       "      <td>0</td>\n",
       "    </tr>\n",
       "    <tr>\n",
       "      <th>28595</th>\n",
       "      <td>0.043605</td>\n",
       "      <td>0.002833</td>\n",
       "      <td>1535.0</td>\n",
       "      <td>0.557915</td>\n",
       "      <td>4.796565</td>\n",
       "      <td>7.678177</td>\n",
       "      <td>79.0</td>\n",
       "      <td>2624.371826</td>\n",
       "      <td>35.0</td>\n",
       "      <td>0</td>\n",
       "    </tr>\n",
       "    <tr>\n",
       "      <th>...</th>\n",
       "      <td>...</td>\n",
       "      <td>...</td>\n",
       "      <td>...</td>\n",
       "      <td>...</td>\n",
       "      <td>...</td>\n",
       "      <td>...</td>\n",
       "      <td>...</td>\n",
       "      <td>...</td>\n",
       "      <td>...</td>\n",
       "      <td>...</td>\n",
       "    </tr>\n",
       "    <tr>\n",
       "      <th>844864</th>\n",
       "      <td>0.011564</td>\n",
       "      <td>0.051446</td>\n",
       "      <td>1511.0</td>\n",
       "      <td>0.609729</td>\n",
       "      <td>15.683980</td>\n",
       "      <td>5.595649</td>\n",
       "      <td>386.0</td>\n",
       "      <td>2421.268066</td>\n",
       "      <td>79.0</td>\n",
       "      <td>0</td>\n",
       "    </tr>\n",
       "    <tr>\n",
       "      <th>823022</th>\n",
       "      <td>0.006346</td>\n",
       "      <td>0.042984</td>\n",
       "      <td>1307.0</td>\n",
       "      <td>0.619220</td>\n",
       "      <td>11.823537</td>\n",
       "      <td>7.293873</td>\n",
       "      <td>370.0</td>\n",
       "      <td>2435.989746</td>\n",
       "      <td>79.0</td>\n",
       "      <td>0</td>\n",
       "    </tr>\n",
       "    <tr>\n",
       "      <th>825328</th>\n",
       "      <td>0.020392</td>\n",
       "      <td>0.044953</td>\n",
       "      <td>1498.0</td>\n",
       "      <td>0.578509</td>\n",
       "      <td>6.139505</td>\n",
       "      <td>5.975167</td>\n",
       "      <td>702.0</td>\n",
       "      <td>2455.481201</td>\n",
       "      <td>79.0</td>\n",
       "      <td>0</td>\n",
       "    </tr>\n",
       "    <tr>\n",
       "      <th>850485</th>\n",
       "      <td>0.008170</td>\n",
       "      <td>0.055406</td>\n",
       "      <td>2167.0</td>\n",
       "      <td>0.602098</td>\n",
       "      <td>6.751108</td>\n",
       "      <td>7.043567</td>\n",
       "      <td>379.0</td>\n",
       "      <td>2410.220215</td>\n",
       "      <td>79.0</td>\n",
       "      <td>0</td>\n",
       "    </tr>\n",
       "    <tr>\n",
       "      <th>825121</th>\n",
       "      <td>0.002992</td>\n",
       "      <td>0.049280</td>\n",
       "      <td>1304.0</td>\n",
       "      <td>0.611629</td>\n",
       "      <td>8.108398</td>\n",
       "      <td>4.512846</td>\n",
       "      <td>416.0</td>\n",
       "      <td>2437.642822</td>\n",
       "      <td>79.0</td>\n",
       "      <td>0</td>\n",
       "    </tr>\n",
       "  </tbody>\n",
       "</table>\n",
       "<p>8800 rows × 10 columns</p>\n",
       "</div>"
      ],
      "text/plain": [
       "        Jl.Sekunder  Jl.Terser  Landuse      NDVI      Slope       TWI  \\\n",
       "16056      0.031018   0.000878   1471.0  0.601640   3.500454  4.796541   \n",
       "20516      0.011198   0.003611   1471.0  0.609113   6.378932  8.683089   \n",
       "9263       0.030757   0.002500    590.0  0.633359   6.954458  9.216416   \n",
       "7298       0.032615   0.011111   1890.0  0.632560  17.408785  4.477691   \n",
       "28595      0.043605   0.002833   1535.0  0.557915   4.796565  7.678177   \n",
       "...             ...        ...      ...       ...        ...       ...   \n",
       "844864     0.011564   0.051446   1511.0  0.609729  15.683980  5.595649   \n",
       "823022     0.006346   0.042984   1307.0  0.619220  11.823537  7.293873   \n",
       "825328     0.020392   0.044953   1498.0  0.578509   6.139505  5.975167   \n",
       "850485     0.008170   0.055406   2167.0  0.602098   6.751108  7.043567   \n",
       "825121     0.002992   0.049280   1304.0  0.611629   8.108398  4.512846   \n",
       "\n",
       "        Elevasi         TRMM  Litologi  Inventory  \n",
       "16056     143.0  2627.112793      93.0          0  \n",
       "20516      89.0  2625.574463      93.0          0  \n",
       "9263      133.0  2631.850342     100.0          0  \n",
       "7298      123.0  2633.549072      93.0          0  \n",
       "28595      79.0  2624.371826      35.0          0  \n",
       "...         ...          ...       ...        ...  \n",
       "844864    386.0  2421.268066      79.0          0  \n",
       "823022    370.0  2435.989746      79.0          0  \n",
       "825328    702.0  2455.481201      79.0          0  \n",
       "850485    379.0  2410.220215      79.0          0  \n",
       "825121    416.0  2437.642822      79.0          0  \n",
       "\n",
       "[8800 rows x 10 columns]"
      ]
     },
     "execution_count": 19,
     "metadata": {},
     "output_type": "execute_result"
    }
   ],
   "source": [
    "positif3_sampel=longsor_positif.sample(n=n_positif3,replace=False,random_state=42)\n",
    "\n",
    "neg3_quarry1=longsor_negatif[:42471].sample(n=n_quary3,replace=False,random_state=42)\n",
    "neg3_quarry2=longsor_negatif[42471:84942].sample(n=n_quary3,replace=False,random_state=42)\n",
    "neg3_quarry3=longsor_negatif[84942:127413].sample(n=n_quary3,replace=False,random_state=42)\n",
    "neg3_quarry4=longsor_negatif[127413:169884].sample(n=n_quary3,replace=False,random_state=42)\n",
    "neg3_quarry5=longsor_negatif[169884:212355].sample(n=n_quary3,replace=False,random_state=42)\n",
    "neg3_quarry6=longsor_negatif[212355:254826].sample(n=n_quary3,replace=False,random_state=42)\n",
    "neg3_quarry7=longsor_negatif[254826:297297].sample(n=n_quary3,replace=False,random_state=42)\n",
    "neg3_quarry8=longsor_negatif[297297:339768].sample(n=n_quary3,replace=False,random_state=42)\n",
    "neg3_quarry9=longsor_negatif[339768:382239].sample(n=n_quary3,replace=False,random_state=42)\n",
    "neg3_quarry10=longsor_negatif[382239:424710].sample(n=n_quary3,replace=False,random_state=42)\n",
    "neg3_quarry11=longsor_negatif[424710:467181].sample(n=n_quary3,replace=False,random_state=42)\n",
    "neg3_quarry12=longsor_negatif[467181:509652].sample(n=n_quary3,replace=False,random_state=42)\n",
    "neg3_quarry13=longsor_negatif[509652:552123].sample(n=n_quary3,replace=False,random_state=42)\n",
    "neg3_quarry14=longsor_negatif[552123:594594].sample(n=n_quary3,replace=False,random_state=42)\n",
    "neg3_quarry15=longsor_negatif[594594:637065].sample(n=n_quary3,replace=False,random_state=42)\n",
    "neg3_quarry16=longsor_negatif[637065:679536].sample(n=n_quary3,replace=False,random_state=42)\n",
    "neg3_quarry17=longsor_negatif[679536:722007].sample(n=n_quary3,replace=False,random_state=42)\n",
    "neg3_quarry18=longsor_negatif[722007:764478].sample(n=n_quary3,replace=False,random_state=42)\n",
    "neg3_quarry19=longsor_negatif[764478:806949].sample(n=n_quary3,replace=False,random_state=42)\n",
    "neg3_quarry20=longsor_negatif[806949:849406].sample(n=n_quary3,replace=False,random_state=42)\n",
    "\n",
    "negatif3_sample = pd.concat([neg3_quarry1,neg3_quarry2,neg3_quarry3,neg3_quarry4,neg3_quarry5,neg3_quarry6,neg3_quarry7,\n",
    "                             neg3_quarry8,neg3_quarry9,neg3_quarry10,neg3_quarry11,neg3_quarry12,neg3_quarry13,neg3_quarry14,\n",
    "                             neg3_quarry15,neg3_quarry16,neg3_quarry17,neg3_quarry18,neg3_quarry19,neg3_quarry20])\n",
    "\n",
    "negatif3_sample"
   ]
  },
  {
   "attachments": {},
   "cell_type": "markdown",
   "metadata": {},
   "source": [
    "SPLIT DATA"
   ]
  },
  {
   "cell_type": "code",
   "execution_count": 20,
   "metadata": {},
   "outputs": [],
   "source": [
    "x_taklongsor = negatif3_sample.iloc[:,:9]\n",
    "y_taklongsor = negatif3_sample.iloc[:,9:]\n",
    "\n",
    "x_longsor = positif3_sampel.iloc[:,:9]\n",
    "y_longsor = positif3_sampel.iloc[:,9:]\n"
   ]
  },
  {
   "cell_type": "code",
   "execution_count": 21,
   "metadata": {},
   "outputs": [
    {
     "data": {
      "text/html": [
       "<div>\n",
       "<style scoped>\n",
       "    .dataframe tbody tr th:only-of-type {\n",
       "        vertical-align: middle;\n",
       "    }\n",
       "\n",
       "    .dataframe tbody tr th {\n",
       "        vertical-align: top;\n",
       "    }\n",
       "\n",
       "    .dataframe thead th {\n",
       "        text-align: right;\n",
       "    }\n",
       "</style>\n",
       "<table border=\"1\" class=\"dataframe\">\n",
       "  <thead>\n",
       "    <tr style=\"text-align: right;\">\n",
       "      <th></th>\n",
       "      <th>Jl.Sekunder</th>\n",
       "      <th>Jl.Terser</th>\n",
       "      <th>Landuse</th>\n",
       "      <th>NDVI</th>\n",
       "      <th>Slope</th>\n",
       "      <th>TWI</th>\n",
       "      <th>Elevasi</th>\n",
       "      <th>TRMM</th>\n",
       "      <th>Litologi</th>\n",
       "    </tr>\n",
       "  </thead>\n",
       "  <tbody>\n",
       "    <tr>\n",
       "      <th>751767</th>\n",
       "      <td>0.011111</td>\n",
       "      <td>0.019007</td>\n",
       "      <td>827.0</td>\n",
       "      <td>0.597305</td>\n",
       "      <td>11.141773</td>\n",
       "      <td>8.593884</td>\n",
       "      <td>367.0</td>\n",
       "      <td>2476.858887</td>\n",
       "      <td>79.0</td>\n",
       "    </tr>\n",
       "    <tr>\n",
       "      <th>749387</th>\n",
       "      <td>0.007683</td>\n",
       "      <td>0.016114</td>\n",
       "      <td>2103.0</td>\n",
       "      <td>0.593219</td>\n",
       "      <td>5.404640</td>\n",
       "      <td>7.269501</td>\n",
       "      <td>551.0</td>\n",
       "      <td>2489.615723</td>\n",
       "      <td>79.0</td>\n",
       "    </tr>\n",
       "    <tr>\n",
       "      <th>689711</th>\n",
       "      <td>0.048580</td>\n",
       "      <td>0.002561</td>\n",
       "      <td>1542.0</td>\n",
       "      <td>0.451890</td>\n",
       "      <td>27.239832</td>\n",
       "      <td>5.651691</td>\n",
       "      <td>1066.0</td>\n",
       "      <td>2534.917969</td>\n",
       "      <td>151.0</td>\n",
       "    </tr>\n",
       "    <tr>\n",
       "      <th>197970</th>\n",
       "      <td>0.001111</td>\n",
       "      <td>0.006724</td>\n",
       "      <td>2056.0</td>\n",
       "      <td>0.610531</td>\n",
       "      <td>9.359432</td>\n",
       "      <td>6.006179</td>\n",
       "      <td>403.0</td>\n",
       "      <td>2621.154053</td>\n",
       "      <td>79.0</td>\n",
       "    </tr>\n",
       "    <tr>\n",
       "      <th>347494</th>\n",
       "      <td>0.020647</td>\n",
       "      <td>0.007479</td>\n",
       "      <td>1478.0</td>\n",
       "      <td>0.600249</td>\n",
       "      <td>12.543889</td>\n",
       "      <td>9.111942</td>\n",
       "      <td>730.0</td>\n",
       "      <td>2623.592041</td>\n",
       "      <td>143.0</td>\n",
       "    </tr>\n",
       "    <tr>\n",
       "      <th>...</th>\n",
       "      <td>...</td>\n",
       "      <td>...</td>\n",
       "      <td>...</td>\n",
       "      <td>...</td>\n",
       "      <td>...</td>\n",
       "      <td>...</td>\n",
       "      <td>...</td>\n",
       "      <td>...</td>\n",
       "      <td>...</td>\n",
       "    </tr>\n",
       "    <tr>\n",
       "      <th>640332</th>\n",
       "      <td>0.021056</td>\n",
       "      <td>0.007098</td>\n",
       "      <td>1536.0</td>\n",
       "      <td>0.621698</td>\n",
       "      <td>9.821375</td>\n",
       "      <td>6.182590</td>\n",
       "      <td>509.0</td>\n",
       "      <td>2535.111084</td>\n",
       "      <td>79.0</td>\n",
       "    </tr>\n",
       "    <tr>\n",
       "      <th>773890</th>\n",
       "      <td>0.014299</td>\n",
       "      <td>0.020263</td>\n",
       "      <td>1530.0</td>\n",
       "      <td>0.592213</td>\n",
       "      <td>12.962822</td>\n",
       "      <td>9.586256</td>\n",
       "      <td>362.0</td>\n",
       "      <td>2463.569580</td>\n",
       "      <td>79.0</td>\n",
       "    </tr>\n",
       "    <tr>\n",
       "      <th>775270</th>\n",
       "      <td>0.015321</td>\n",
       "      <td>0.021346</td>\n",
       "      <td>2135.0</td>\n",
       "      <td>0.594581</td>\n",
       "      <td>3.640496</td>\n",
       "      <td>5.380386</td>\n",
       "      <td>382.0</td>\n",
       "      <td>2463.137695</td>\n",
       "      <td>79.0</td>\n",
       "    </tr>\n",
       "    <tr>\n",
       "      <th>807784</th>\n",
       "      <td>0.010577</td>\n",
       "      <td>0.033958</td>\n",
       "      <td>1530.0</td>\n",
       "      <td>0.626381</td>\n",
       "      <td>4.581453</td>\n",
       "      <td>6.117636</td>\n",
       "      <td>291.0</td>\n",
       "      <td>2436.355469</td>\n",
       "      <td>79.0</td>\n",
       "    </tr>\n",
       "    <tr>\n",
       "      <th>333670</th>\n",
       "      <td>0.019444</td>\n",
       "      <td>0.014164</td>\n",
       "      <td>1306.0</td>\n",
       "      <td>0.593653</td>\n",
       "      <td>10.784261</td>\n",
       "      <td>5.533576</td>\n",
       "      <td>723.0</td>\n",
       "      <td>2624.928955</td>\n",
       "      <td>143.0</td>\n",
       "    </tr>\n",
       "  </tbody>\n",
       "</table>\n",
       "<p>5557 rows × 9 columns</p>\n",
       "</div>"
      ],
      "text/plain": [
       "        Jl.Sekunder  Jl.Terser  Landuse      NDVI      Slope       TWI  \\\n",
       "751767     0.011111   0.019007    827.0  0.597305  11.141773  8.593884   \n",
       "749387     0.007683   0.016114   2103.0  0.593219   5.404640  7.269501   \n",
       "689711     0.048580   0.002561   1542.0  0.451890  27.239832  5.651691   \n",
       "197970     0.001111   0.006724   2056.0  0.610531   9.359432  6.006179   \n",
       "347494     0.020647   0.007479   1478.0  0.600249  12.543889  9.111942   \n",
       "...             ...        ...      ...       ...        ...       ...   \n",
       "640332     0.021056   0.007098   1536.0  0.621698   9.821375  6.182590   \n",
       "773890     0.014299   0.020263   1530.0  0.592213  12.962822  9.586256   \n",
       "775270     0.015321   0.021346   2135.0  0.594581   3.640496  5.380386   \n",
       "807784     0.010577   0.033958   1530.0  0.626381   4.581453  6.117636   \n",
       "333670     0.019444   0.014164   1306.0  0.593653  10.784261  5.533576   \n",
       "\n",
       "        Elevasi         TRMM  Litologi  \n",
       "751767    367.0  2476.858887      79.0  \n",
       "749387    551.0  2489.615723      79.0  \n",
       "689711   1066.0  2534.917969     151.0  \n",
       "197970    403.0  2621.154053      79.0  \n",
       "347494    730.0  2623.592041     143.0  \n",
       "...         ...          ...       ...  \n",
       "640332    509.0  2535.111084      79.0  \n",
       "773890    362.0  2463.569580      79.0  \n",
       "775270    382.0  2463.137695      79.0  \n",
       "807784    291.0  2436.355469      79.0  \n",
       "333670    723.0  2624.928955     143.0  \n",
       "\n",
       "[5557 rows x 9 columns]"
      ]
     },
     "execution_count": 21,
     "metadata": {},
     "output_type": "execute_result"
    }
   ],
   "source": [
    "x_longsor"
   ]
  },
  {
   "cell_type": "code",
   "execution_count": 22,
   "metadata": {},
   "outputs": [],
   "source": [
    "Xn = np.array(x_taklongsor)\n",
    "Yn = np.array(y_taklongsor)\n",
    "Xp = np.array(x_longsor)\n",
    "Yp = np.array(y_longsor)"
   ]
  },
  {
   "attachments": {},
   "cell_type": "markdown",
   "metadata": {},
   "source": [
    "# DATA UJI"
   ]
  },
  {
   "attachments": {},
   "cell_type": "markdown",
   "metadata": {},
   "source": [
    "Porsi data train : test = 10% : 90%"
   ]
  },
  {
   "cell_type": "code",
   "execution_count": 23,
   "metadata": {},
   "outputs": [],
   "source": [
    "Xn_train10, Xn_test90, Yn_train10, Yn_test90= train_test_split(Xn,Yn,test_size=0.9,random_state=42)\n",
    "\n",
    "Xp_train10, Xp_test90, Yp_train10, Yp_test90 = train_test_split(Xp,Yp,test_size=0.9,random_state=42)\n"
   ]
  },
  {
   "cell_type": "code",
   "execution_count": 24,
   "metadata": {},
   "outputs": [],
   "source": [
    "x_train10 = np.concatenate((Xn_train10,Xp_train10))\n",
    "y_train10 = np.concatenate((Yn_train10,Yp_train10))\n",
    "x_test90 = np.concatenate((Xn_test90,Xp_test90))\n",
    "y_test90 =np.concatenate((Yn_test90,Yp_test90))"
   ]
  },
  {
   "cell_type": "code",
   "execution_count": 25,
   "metadata": {},
   "outputs": [
    {
     "name": "stdout",
     "output_type": "stream",
     "text": [
      "dimensi feature 2\n",
      "dimensi target 2\n"
     ]
    }
   ],
   "source": [
    "print (\"dimensi feature\",x_train10.ndim)\n",
    "print (\"dimensi target\",y_train10.ndim)"
   ]
  },
  {
   "cell_type": "code",
   "execution_count": 26,
   "metadata": {},
   "outputs": [],
   "source": [
    "y_train10 = y_train10.flatten()\n",
    "y_test90 = y_test90.flatten()"
   ]
  },
  {
   "cell_type": "code",
   "execution_count": 27,
   "metadata": {},
   "outputs": [
    {
     "name": "stdout",
     "output_type": "stream",
     "text": [
      "dimensi target 1\n"
     ]
    }
   ],
   "source": [
    "print (\"dimensi target\",y_train10.ndim)"
   ]
  },
  {
   "cell_type": "code",
   "execution_count": 28,
   "metadata": {},
   "outputs": [
    {
     "name": "stdout",
     "output_type": "stream",
     "text": [
      "y_train: [0 0 0 ... 1 1 1]\n",
      "y_test: [0 0 0 ... 1 1 1]\n"
     ]
    }
   ],
   "source": [
    "print(f'y_train: {y_train10}')\n",
    "print(f'y_test: {y_test90}')"
   ]
  },
  {
   "attachments": {},
   "cell_type": "markdown",
   "metadata": {},
   "source": [
    "Porsi data train : test = 20% : 80%"
   ]
  },
  {
   "cell_type": "code",
   "execution_count": 29,
   "metadata": {},
   "outputs": [],
   "source": [
    "Xn_train20, Xn_test80, Yn_train20, Yn_test80 = train_test_split(Xn,Yn,test_size=0.8,random_state=42)\n",
    "\n",
    "Xp_train20, Xp_test80, Yp_train20, Yp_test80 = train_test_split(Xp,Yp,test_size=0.8,random_state=42)"
   ]
  },
  {
   "cell_type": "code",
   "execution_count": 30,
   "metadata": {},
   "outputs": [],
   "source": [
    "x_train20 = np.concatenate((Xn_train20,Xp_train20))\n",
    "y_train20 = np.concatenate((Yn_train20,Yp_train20))\n",
    "x_test80 = np.concatenate((Xn_test80,Xp_test80))\n",
    "y_test80 =np.concatenate((Yn_test80,Yp_test80))"
   ]
  },
  {
   "cell_type": "code",
   "execution_count": 31,
   "metadata": {},
   "outputs": [
    {
     "name": "stdout",
     "output_type": "stream",
     "text": [
      "dimensi feature 2\n",
      "dimensi target 2\n"
     ]
    }
   ],
   "source": [
    "print (\"dimensi feature\",x_train20.ndim)\n",
    "print (\"dimensi target\",y_train20.ndim)"
   ]
  },
  {
   "cell_type": "code",
   "execution_count": 32,
   "metadata": {},
   "outputs": [],
   "source": [
    "y_train20 = y_train20.flatten()\n",
    "y_test80 = y_test80.flatten()"
   ]
  },
  {
   "cell_type": "code",
   "execution_count": 33,
   "metadata": {},
   "outputs": [
    {
     "name": "stdout",
     "output_type": "stream",
     "text": [
      "y_train: [0 0 0 ... 1 1 1]\n",
      "y_test: [0 0 0 ... 1 1 1]\n"
     ]
    }
   ],
   "source": [
    "print(f'y_train: {y_train20}')\n",
    "print(f'y_test: {y_test80}')"
   ]
  },
  {
   "attachments": {},
   "cell_type": "markdown",
   "metadata": {},
   "source": [
    "Porsi data train : test = 30% : 70%"
   ]
  },
  {
   "cell_type": "code",
   "execution_count": 34,
   "metadata": {},
   "outputs": [],
   "source": [
    "Xn_train30, Xn_test70, Yn_train30, Yn_test70 = train_test_split(Xn,Yn,test_size=0.7,random_state=42)\n",
    "\n",
    "Xp_train30, Xp_test70, Yp_train30, Yp_test70 = train_test_split(Xp,Yp,test_size=0.7,random_state=42)"
   ]
  },
  {
   "cell_type": "code",
   "execution_count": 35,
   "metadata": {},
   "outputs": [],
   "source": [
    "x_train30 = np.concatenate((Xn_train30,Xp_train30))\n",
    "y_train30 = np.concatenate((Yn_train30,Yp_train30))\n",
    "x_test70 = np.concatenate((Xn_test70,Xp_test70))\n",
    "y_test70 = np.concatenate((Yn_test70,Yp_test70))"
   ]
  },
  {
   "cell_type": "code",
   "execution_count": 36,
   "metadata": {},
   "outputs": [
    {
     "name": "stdout",
     "output_type": "stream",
     "text": [
      "dimensi feature 2\n",
      "dimensi target 2\n"
     ]
    }
   ],
   "source": [
    "print (\"dimensi feature\",x_train30.ndim)\n",
    "print (\"dimensi target\",y_train30.ndim)"
   ]
  },
  {
   "cell_type": "code",
   "execution_count": 37,
   "metadata": {},
   "outputs": [],
   "source": [
    "y_train30 = y_train30.flatten()\n",
    "y_test70 = y_test70.flatten()"
   ]
  },
  {
   "cell_type": "code",
   "execution_count": 38,
   "metadata": {},
   "outputs": [
    {
     "name": "stdout",
     "output_type": "stream",
     "text": [
      "y_train: [0 0 0 ... 1 1 1]\n",
      "y_test: [0 0 0 ... 1 1 1]\n"
     ]
    }
   ],
   "source": [
    "print(f'y_train: {y_train30}')\n",
    "print(f'y_test: {y_test70}')"
   ]
  },
  {
   "attachments": {},
   "cell_type": "markdown",
   "metadata": {},
   "source": [
    "Porsi data train : test = 40% : 60%"
   ]
  },
  {
   "cell_type": "code",
   "execution_count": 39,
   "metadata": {},
   "outputs": [],
   "source": [
    "Xn_train40, Xn_test60, Yn_train40, Yn_test60 = train_test_split(Xn,Yn,test_size=0.6,random_state=42)\n",
    "\n",
    "Xp_train40, Xp_test60, Yp_train40, Yp_test60 = train_test_split(Xp,Yp,test_size=0.6,random_state=42)"
   ]
  },
  {
   "cell_type": "code",
   "execution_count": 40,
   "metadata": {},
   "outputs": [],
   "source": [
    "x_train40 = np.concatenate((Xn_train40,Xp_train40))\n",
    "y_train40 = np.concatenate((Yn_train40,Yp_train40))\n",
    "x_test60 = np.concatenate((Xn_test60,Xp_test60))\n",
    "y_test60 = np.concatenate((Yn_test60,Yp_test60))"
   ]
  },
  {
   "cell_type": "code",
   "execution_count": 41,
   "metadata": {},
   "outputs": [
    {
     "name": "stdout",
     "output_type": "stream",
     "text": [
      "dimensi feature 2\n",
      "dimensi target 2\n"
     ]
    }
   ],
   "source": [
    "print (\"dimensi feature\",x_train40.ndim)\n",
    "print (\"dimensi target\",y_train40.ndim)"
   ]
  },
  {
   "cell_type": "code",
   "execution_count": 42,
   "metadata": {},
   "outputs": [],
   "source": [
    "y_train40 = y_train40.flatten()\n",
    "y_test60 = y_test60.flatten()"
   ]
  },
  {
   "cell_type": "code",
   "execution_count": 43,
   "metadata": {},
   "outputs": [
    {
     "name": "stdout",
     "output_type": "stream",
     "text": [
      "y_train: [0 0 0 ... 1 1 1]\n",
      "y_test: [0 0 0 ... 1 1 1]\n"
     ]
    }
   ],
   "source": [
    "print(f'y_train: {y_train40}')\n",
    "print(f'y_test: {y_test60}')"
   ]
  },
  {
   "attachments": {},
   "cell_type": "markdown",
   "metadata": {},
   "source": [
    "Porsi data train : test = 50% : 50%"
   ]
  },
  {
   "cell_type": "code",
   "execution_count": 44,
   "metadata": {},
   "outputs": [],
   "source": [
    "Xn_train50, Xn_test50, Yn_train50, Yn_test50 = train_test_split(Xn,Yn,test_size=0.5,random_state=42)\n",
    "\n",
    "Xp_train50, Xp_test50, Yp_train50, Yp_test50 = train_test_split(Xp,Yp,test_size=0.5,random_state=42)"
   ]
  },
  {
   "cell_type": "code",
   "execution_count": 45,
   "metadata": {},
   "outputs": [],
   "source": [
    "x_train50 = np.concatenate((Xn_train50,Xp_train50))\n",
    "y_train50 = np.concatenate((Yn_train50,Yp_train50))\n",
    "x_test50 = np.concatenate((Xn_test50,Xp_test50))\n",
    "y_test50 =np.concatenate((Yn_test50,Yp_test50))"
   ]
  },
  {
   "cell_type": "code",
   "execution_count": 46,
   "metadata": {},
   "outputs": [
    {
     "name": "stdout",
     "output_type": "stream",
     "text": [
      "dimensi feature 2\n",
      "dimensi target 2\n"
     ]
    }
   ],
   "source": [
    "print (\"dimensi feature\",x_train50.ndim)\n",
    "print (\"dimensi target\",y_train50.ndim)"
   ]
  },
  {
   "cell_type": "code",
   "execution_count": 47,
   "metadata": {},
   "outputs": [],
   "source": [
    "y_train50 = y_train50.flatten()\n",
    "y_test50 = y_test50.flatten()"
   ]
  },
  {
   "cell_type": "code",
   "execution_count": 48,
   "metadata": {},
   "outputs": [
    {
     "name": "stdout",
     "output_type": "stream",
     "text": [
      "y_train: [0 0 0 ... 1 1 1]\n",
      "y_test: [0 0 0 ... 1 1 1]\n"
     ]
    }
   ],
   "source": [
    "print(f'y_train: {y_train50}')\n",
    "print(f'y_test: {y_test50}')"
   ]
  },
  {
   "attachments": {},
   "cell_type": "markdown",
   "metadata": {},
   "source": [
    "Porsi data train : test = 60% : 40%"
   ]
  },
  {
   "cell_type": "code",
   "execution_count": 49,
   "metadata": {},
   "outputs": [],
   "source": [
    "Xn_train60, Xn_test40, Yn_train60, Yn_test40 = train_test_split(Xn,Yn,test_size=0.4,random_state=42)\n",
    "\n",
    "Xp_train60, Xp_test40, Yp_train60, Yp_test40 = train_test_split(Xp,Yp,test_size=0.4,random_state=42)"
   ]
  },
  {
   "cell_type": "code",
   "execution_count": 50,
   "metadata": {},
   "outputs": [],
   "source": [
    "x_train60 = np.concatenate((Xn_train60,Xp_train60))\n",
    "y_train60 = np.concatenate((Yn_train60,Yp_train60))\n",
    "x_test40 = np.concatenate((Xn_test40,Xp_test40))\n",
    "y_test40 = np.concatenate((Yn_test40,Yp_test40))"
   ]
  },
  {
   "cell_type": "code",
   "execution_count": 51,
   "metadata": {},
   "outputs": [
    {
     "name": "stdout",
     "output_type": "stream",
     "text": [
      "dimensi feature 2\n",
      "dimensi target 2\n"
     ]
    }
   ],
   "source": [
    "print (\"dimensi feature\",x_train60.ndim)\n",
    "print (\"dimensi target\",y_train60.ndim)"
   ]
  },
  {
   "cell_type": "code",
   "execution_count": 52,
   "metadata": {},
   "outputs": [],
   "source": [
    "y_train60 = y_train60.flatten()\n",
    "y_test40 = y_test40.flatten()"
   ]
  },
  {
   "cell_type": "code",
   "execution_count": 53,
   "metadata": {},
   "outputs": [
    {
     "name": "stdout",
     "output_type": "stream",
     "text": [
      "y_train: [0 0 0 ... 1 1 1]\n",
      "y_test: [0 0 0 ... 1 1 1]\n"
     ]
    }
   ],
   "source": [
    "print(f'y_train: {y_train60}')\n",
    "print(f'y_test: {y_test40}')"
   ]
  },
  {
   "attachments": {},
   "cell_type": "markdown",
   "metadata": {},
   "source": [
    "Porsi data train : test = 70% : 30%"
   ]
  },
  {
   "cell_type": "code",
   "execution_count": 54,
   "metadata": {},
   "outputs": [],
   "source": [
    "Xn_train70, Xn_test30, Yn_train70, Yn_test30 = train_test_split(Xn,Yn,test_size=0.3,random_state=42)\n",
    "\n",
    "Xp_train70, Xp_test30, Yp_train70, Yp_test30 = train_test_split(Xp,Yp,test_size=0.3,random_state=42)"
   ]
  },
  {
   "cell_type": "code",
   "execution_count": 55,
   "metadata": {},
   "outputs": [],
   "source": [
    "x_train70 = np.concatenate((Xn_train70,Xp_train70))\n",
    "y_train70 = np.concatenate((Yn_train70,Yp_train70))\n",
    "x_test30 = np.concatenate((Xn_test30,Xp_test30))\n",
    "y_test30 =np.concatenate((Yn_test30,Yp_test30))"
   ]
  },
  {
   "cell_type": "code",
   "execution_count": 56,
   "metadata": {},
   "outputs": [
    {
     "name": "stdout",
     "output_type": "stream",
     "text": [
      "dimensi feature 2\n",
      "dimensi target 2\n"
     ]
    }
   ],
   "source": [
    "print (\"dimensi feature\",x_train70.ndim)\n",
    "print (\"dimensi target\",y_train70.ndim)"
   ]
  },
  {
   "cell_type": "code",
   "execution_count": 57,
   "metadata": {},
   "outputs": [],
   "source": [
    "y_train70 = y_train70.flatten()\n",
    "y_test30 = y_test30.flatten()"
   ]
  },
  {
   "cell_type": "code",
   "execution_count": 58,
   "metadata": {},
   "outputs": [
    {
     "name": "stdout",
     "output_type": "stream",
     "text": [
      "y_train: [0 0 0 ... 1 1 1]\n",
      "y_test: [0 0 0 ... 1 1 1]\n"
     ]
    }
   ],
   "source": [
    "print(f'y_train: {y_train70}')\n",
    "print(f'y_test: {y_test30}')"
   ]
  },
  {
   "attachments": {},
   "cell_type": "markdown",
   "metadata": {},
   "source": [
    "Porsi data train : test = 80% : 20%"
   ]
  },
  {
   "cell_type": "code",
   "execution_count": 59,
   "metadata": {},
   "outputs": [],
   "source": [
    "Xn_train80, Xn_test20, Yn_train80, Yn_test20 = train_test_split(Xn,Yn,test_size=0.2,random_state=42)\n",
    "\n",
    "Xp_train80, Xp_test20, Yp_train80, Yp_test20 = train_test_split(Xp,Yp,test_size=0.2,random_state=42)"
   ]
  },
  {
   "cell_type": "code",
   "execution_count": 60,
   "metadata": {},
   "outputs": [],
   "source": [
    "x_train80 = np.concatenate((Xn_train80,Xp_train80))\n",
    "y_train80 = np.concatenate((Yn_train80,Yp_train80))\n",
    "x_test20 = np.concatenate((Xn_test20,Xp_test20))\n",
    "y_test20 = np.concatenate((Yn_test20,Yp_test20))"
   ]
  },
  {
   "cell_type": "code",
   "execution_count": 61,
   "metadata": {},
   "outputs": [
    {
     "name": "stdout",
     "output_type": "stream",
     "text": [
      "dimensi feature 2\n",
      "dimensi target 2\n"
     ]
    }
   ],
   "source": [
    "print (\"dimensi feature\",x_train80.ndim)\n",
    "print (\"dimensi target\",y_train80.ndim)"
   ]
  },
  {
   "cell_type": "code",
   "execution_count": 62,
   "metadata": {},
   "outputs": [],
   "source": [
    "y_train80 = y_train80.flatten()\n",
    "y_test20 = y_test20.flatten()"
   ]
  },
  {
   "cell_type": "code",
   "execution_count": 63,
   "metadata": {},
   "outputs": [
    {
     "name": "stdout",
     "output_type": "stream",
     "text": [
      "y_train: [0 0 0 ... 1 1 1]\n",
      "y_test: [0 0 0 ... 1 1 1]\n"
     ]
    }
   ],
   "source": [
    "print(f'y_train: {y_train80}')\n",
    "print(f'y_test: {y_test20}')"
   ]
  },
  {
   "attachments": {},
   "cell_type": "markdown",
   "metadata": {},
   "source": [
    "Porsi data train : test = 90% : 10%"
   ]
  },
  {
   "cell_type": "code",
   "execution_count": 64,
   "metadata": {},
   "outputs": [],
   "source": [
    "Xn_train90, Xn_test10, Yn_train90, Yn_test10 = train_test_split(Xn,Yn,test_size=0.1,random_state=42)\n",
    "\n",
    "Xp_train90, Xp_test10, Yp_train90, Yp_test10 = train_test_split(Xp,Yp,test_size=0.1,random_state=42)"
   ]
  },
  {
   "cell_type": "code",
   "execution_count": 65,
   "metadata": {},
   "outputs": [],
   "source": [
    "x_train90 = np.concatenate((Xn_train90,Xp_train90))\n",
    "y_train90 = np.concatenate((Yn_train90,Yp_train90))\n",
    "x_test10 = np.concatenate((Xn_test10,Xp_test10))\n",
    "y_test10 = np.concatenate((Yn_test10,Yp_test10))"
   ]
  },
  {
   "cell_type": "code",
   "execution_count": 66,
   "metadata": {},
   "outputs": [
    {
     "name": "stdout",
     "output_type": "stream",
     "text": [
      "dimensi feature 2\n",
      "dimensi target 2\n"
     ]
    }
   ],
   "source": [
    "print (\"dimensi feature\",x_train90.ndim)\n",
    "print (\"dimensi target\",y_train90.ndim)"
   ]
  },
  {
   "cell_type": "code",
   "execution_count": 67,
   "metadata": {},
   "outputs": [],
   "source": [
    "y_train90 = y_train90.flatten()\n",
    "y_test10 = y_test10.flatten()"
   ]
  },
  {
   "cell_type": "code",
   "execution_count": 68,
   "metadata": {},
   "outputs": [
    {
     "name": "stdout",
     "output_type": "stream",
     "text": [
      "y_train: [0 0 0 ... 1 1 1]\n",
      "y_test: [0 0 0 ... 1 1 1]\n"
     ]
    }
   ],
   "source": [
    "print(f'y_train: {y_train90}')\n",
    "print(f'y_test: {y_test10}')"
   ]
  },
  {
   "attachments": {},
   "cell_type": "markdown",
   "metadata": {},
   "source": [
    "# CEK PARAMETER"
   ]
  },
  {
   "attachments": {},
   "cell_type": "markdown",
   "metadata": {},
   "source": [
    "Cek Parameter Setiap Proporsi (SVM)"
   ]
  },
  {
   "cell_type": "code",
   "execution_count": 69,
   "metadata": {},
   "outputs": [],
   "source": [
    "x_all = np.concatenate((Xn,Xp))\n",
    "y_all = np.concatenate((Yn,Yp))\n",
    "\n",
    "y_all = y_all.flatten()"
   ]
  },
  {
   "cell_type": "code",
   "execution_count": 70,
   "metadata": {},
   "outputs": [],
   "source": [
    "classifiers =[]\n",
    "\n",
    "rf = RandomForestClassifier(random_state = 0)\n",
    "classifiers.append(rf)\n",
    "\n",
    "svm = SVC (random_state=0, probability=True)\n",
    "classifiers.append(svm)\n",
    "\n",
    "knn = KNeighborsClassifier()\n",
    "classifiers.append(knn)"
   ]
  },
  {
   "cell_type": "code",
   "execution_count": 77,
   "metadata": {},
   "outputs": [],
   "source": [
    "parameters=[]\n",
    "parameters_rf = {\"criterion\":['gini'],\n",
    "               \"n_estimators\":[1200]}\n",
    "parameters.append(parameters_rf)\n",
    "\n",
    "parameters_svm = {\"gamma\": [0.002,0.003,0.004,0.005,0.008,0.009,'scale','auto'],\n",
    "               \"C\":[1,2,3,4,5]}\n",
    "parameters.append(parameters_svm)\n",
    "\n",
    "parameters_knn = {\"n_neighbors\": [3,5,7,9,11,13],\n",
    "                 \"weights\": ['uniform','distance'],\n",
    "                 \"leaf_size\":[20,25,30]}\n",
    "parameters.append(parameters_knn)"
   ]
  },
  {
   "cell_type": "code",
   "execution_count": 78,
   "metadata": {},
   "outputs": [
    {
     "name": "stderr",
     "output_type": "stream",
     "text": [
      "  0%|          | 0/3 [00:00<?, ?it/s]"
     ]
    },
    {
     "name": "stdout",
     "output_type": "stream",
     "text": [
      "Fitting 10 folds for each of 1 candidates, totalling 10 fits\n",
      "[CV 1/10] END criterion=gini, n_estimators=1200;, score=1.000 total time= 1.4min\n",
      "[CV 2/10] END criterion=gini, n_estimators=1200;, score=0.997 total time= 1.4min\n",
      "[CV 3/10] END criterion=gini, n_estimators=1200;, score=0.986 total time= 1.4min\n",
      "[CV 4/10] END criterion=gini, n_estimators=1200;, score=0.988 total time= 1.3min\n",
      "[CV 5/10] END criterion=gini, n_estimators=1200;, score=0.973 total time= 1.3min\n",
      "[CV 6/10] END criterion=gini, n_estimators=1200;, score=0.976 total time= 1.8min\n",
      "[CV 7/10] END criterion=gini, n_estimators=1200;, score=0.908 total time= 1.2min\n",
      "[CV 8/10] END criterion=gini, n_estimators=1200;, score=0.871 total time= 1.2min\n",
      "[CV 9/10] END criterion=gini, n_estimators=1200;, score=0.906 total time= 1.2min\n",
      "[CV 10/10] END criterion=gini, n_estimators=1200;, score=0.741 total time= 1.3min\n"
     ]
    },
    {
     "name": "stderr",
     "output_type": "stream",
     "text": [
      " 33%|███▎      | 1/3 [15:00<30:01, 900.91s/it]"
     ]
    },
    {
     "name": "stdout",
     "output_type": "stream",
     "text": [
      "Fitting 10 folds for each of 40 candidates, totalling 400 fits\n",
      "[CV 1/10] END .................C=1, gamma=0.002;, score=0.991 total time= 1.4min\n",
      "[CV 2/10] END .................C=1, gamma=0.002;, score=0.975 total time= 1.4min\n",
      "[CV 3/10] END .................C=1, gamma=0.002;, score=0.956 total time= 1.3min\n",
      "[CV 4/10] END .................C=1, gamma=0.002;, score=0.950 total time= 1.3min\n",
      "[CV 5/10] END .................C=1, gamma=0.002;, score=0.918 total time= 1.3min\n",
      "[CV 6/10] END .................C=1, gamma=0.002;, score=0.931 total time= 1.3min\n",
      "[CV 7/10] END .................C=1, gamma=0.002;, score=0.932 total time= 1.3min\n",
      "[CV 8/10] END .................C=1, gamma=0.002;, score=0.889 total time= 1.3min\n",
      "[CV 9/10] END .................C=1, gamma=0.002;, score=0.927 total time= 1.3min\n",
      "[CV 10/10] END ................C=1, gamma=0.002;, score=0.917 total time= 1.3min\n",
      "[CV 1/10] END .................C=1, gamma=0.003;, score=0.993 total time= 1.5min\n",
      "[CV 2/10] END .................C=1, gamma=0.003;, score=0.977 total time= 1.6min\n",
      "[CV 3/10] END .................C=1, gamma=0.003;, score=0.960 total time= 1.5min\n",
      "[CV 4/10] END .................C=1, gamma=0.003;, score=0.956 total time= 1.6min\n",
      "[CV 5/10] END .................C=1, gamma=0.003;, score=0.924 total time= 1.5min\n",
      "[CV 6/10] END .................C=1, gamma=0.003;, score=0.942 total time= 1.4min\n",
      "[CV 7/10] END .................C=1, gamma=0.003;, score=0.942 total time= 1.4min\n",
      "[CV 8/10] END .................C=1, gamma=0.003;, score=0.908 total time= 1.4min\n",
      "[CV 9/10] END .................C=1, gamma=0.003;, score=0.940 total time= 1.4min\n",
      "[CV 10/10] END ................C=1, gamma=0.003;, score=0.927 total time= 1.4min\n",
      "[CV 1/10] END .................C=1, gamma=0.004;, score=0.997 total time= 1.7min\n",
      "[CV 2/10] END .................C=1, gamma=0.004;, score=0.976 total time= 1.7min\n",
      "[CV 3/10] END .................C=1, gamma=0.004;, score=0.960 total time= 1.8min\n",
      "[CV 4/10] END .................C=1, gamma=0.004;, score=0.958 total time= 1.8min\n",
      "[CV 5/10] END .................C=1, gamma=0.004;, score=0.927 total time= 1.7min\n",
      "[CV 6/10] END .................C=1, gamma=0.004;, score=0.945 total time= 1.7min\n",
      "[CV 7/10] END .................C=1, gamma=0.004;, score=0.949 total time= 1.6min\n",
      "[CV 8/10] END .................C=1, gamma=0.004;, score=0.917 total time= 1.6min\n",
      "[CV 9/10] END .................C=1, gamma=0.004;, score=0.947 total time= 1.6min\n",
      "[CV 10/10] END ................C=1, gamma=0.004;, score=0.930 total time= 1.6min\n",
      "[CV 1/10] END .................C=1, gamma=0.005;, score=0.997 total time= 1.9min\n",
      "[CV 2/10] END .................C=1, gamma=0.005;, score=0.976 total time= 1.9min\n",
      "[CV 3/10] END .................C=1, gamma=0.005;, score=0.960 total time= 1.8min\n",
      "[CV 4/10] END .................C=1, gamma=0.005;, score=0.959 total time= 2.6min\n",
      "[CV 5/10] END .................C=1, gamma=0.005;, score=0.928 total time= 2.3min\n",
      "[CV 6/10] END .................C=1, gamma=0.005;, score=0.948 total time= 2.1min\n",
      "[CV 7/10] END .................C=1, gamma=0.005;, score=0.952 total time= 2.6min\n",
      "[CV 8/10] END .................C=1, gamma=0.005;, score=0.922 total time= 2.2min\n",
      "[CV 9/10] END .................C=1, gamma=0.005;, score=0.951 total time= 2.2min\n",
      "[CV 10/10] END ................C=1, gamma=0.005;, score=0.934 total time= 2.0min\n",
      "[CV 1/10] END .................C=1, gamma=0.008;, score=0.997 total time= 3.3min\n",
      "[CV 2/10] END .................C=1, gamma=0.008;, score=0.973 total time= 3.3min\n",
      "[CV 3/10] END .................C=1, gamma=0.008;, score=0.959 total time= 3.7min\n",
      "[CV 4/10] END .................C=1, gamma=0.008;, score=0.960 total time= 4.0min\n",
      "[CV 5/10] END .................C=1, gamma=0.008;, score=0.930 total time= 3.6min\n",
      "[CV 6/10] END .................C=1, gamma=0.008;, score=0.954 total time= 3.3min\n",
      "[CV 7/10] END .................C=1, gamma=0.008;, score=0.954 total time= 2.6min\n",
      "[CV 8/10] END .................C=1, gamma=0.008;, score=0.934 total time= 2.9min\n",
      "[CV 9/10] END .................C=1, gamma=0.008;, score=0.957 total time= 2.4min\n",
      "[CV 10/10] END ................C=1, gamma=0.008;, score=0.940 total time= 2.5min\n",
      "[CV 1/10] END .................C=1, gamma=0.009;, score=0.997 total time= 3.7min\n",
      "[CV 2/10] END .................C=1, gamma=0.009;, score=0.973 total time= 3.5min\n",
      "[CV 3/10] END .................C=1, gamma=0.009;, score=0.959 total time= 3.8min\n",
      "[CV 4/10] END .................C=1, gamma=0.009;, score=0.960 total time= 3.7min\n",
      "[CV 5/10] END .................C=1, gamma=0.009;, score=0.929 total time= 3.5min\n",
      "[CV 6/10] END .................C=1, gamma=0.009;, score=0.954 total time= 3.2min\n",
      "[CV 7/10] END .................C=1, gamma=0.009;, score=0.954 total time= 3.4min\n",
      "[CV 8/10] END .................C=1, gamma=0.009;, score=0.936 total time= 3.7min\n",
      "[CV 9/10] END .................C=1, gamma=0.009;, score=0.958 total time= 3.7min\n",
      "[CV 10/10] END ................C=1, gamma=0.009;, score=0.944 total time= 3.6min\n",
      "[CV 1/10] END .................C=1, gamma=scale;, score=0.985 total time= 1.6min\n",
      "[CV 2/10] END .................C=1, gamma=scale;, score=0.911 total time= 1.4min\n",
      "[CV 3/10] END .................C=1, gamma=scale;, score=0.777 total time= 1.5min\n",
      "[CV 4/10] END .................C=1, gamma=scale;, score=0.693 total time= 1.6min\n",
      "[CV 5/10] END .................C=1, gamma=scale;, score=0.671 total time= 1.8min\n",
      "[CV 6/10] END .................C=1, gamma=scale;, score=0.707 total time= 2.1min\n",
      "[CV 7/10] END .................C=1, gamma=scale;, score=0.659 total time= 1.9min\n",
      "[CV 8/10] END .................C=1, gamma=scale;, score=0.633 total time= 1.6min\n",
      "[CV 9/10] END .................C=1, gamma=scale;, score=0.603 total time= 1.6min\n",
      "[CV 10/10] END ................C=1, gamma=scale;, score=0.436 total time= 1.5min\n",
      "[CV 1/10] END ..................C=1, gamma=auto;, score=0.974 total time= 7.4min\n",
      "[CV 2/10] END ..................C=1, gamma=auto;, score=0.956 total time= 7.1min\n",
      "[CV 3/10] END ..................C=1, gamma=auto;, score=0.939 total time= 5.9min\n",
      "[CV 4/10] END ..................C=1, gamma=auto;, score=0.949 total time= 5.2min\n",
      "[CV 5/10] END ..................C=1, gamma=auto;, score=0.915 total time= 5.1min\n",
      "[CV 6/10] END ..................C=1, gamma=auto;, score=0.931 total time= 5.1min\n",
      "[CV 7/10] END ..................C=1, gamma=auto;, score=0.948 total time= 5.1min\n",
      "[CV 8/10] END ..................C=1, gamma=auto;, score=0.932 total time= 5.2min\n",
      "[CV 9/10] END ..................C=1, gamma=auto;, score=0.957 total time= 5.2min\n",
      "[CV 10/10] END .................C=1, gamma=auto;, score=0.939 total time= 5.6min\n",
      "[CV 1/10] END .................C=2, gamma=0.002;, score=0.993 total time= 1.3min\n",
      "[CV 2/10] END .................C=2, gamma=0.002;, score=0.974 total time= 1.4min\n",
      "[CV 3/10] END .................C=2, gamma=0.002;, score=0.960 total time= 1.3min\n",
      "[CV 4/10] END .................C=2, gamma=0.002;, score=0.956 total time= 1.6min\n",
      "[CV 5/10] END .................C=2, gamma=0.002;, score=0.920 total time= 1.2min\n",
      "[CV 6/10] END .................C=2, gamma=0.002;, score=0.933 total time= 1.2min\n",
      "[CV 7/10] END .................C=2, gamma=0.002;, score=0.932 total time= 1.2min\n",
      "[CV 8/10] END .................C=2, gamma=0.002;, score=0.897 total time= 1.1min\n",
      "[CV 9/10] END .................C=2, gamma=0.002;, score=0.925 total time= 1.1min\n",
      "[CV 10/10] END ................C=2, gamma=0.002;, score=0.917 total time= 1.2min\n",
      "[CV 1/10] END .................C=2, gamma=0.003;, score=0.996 total time= 1.4min\n",
      "[CV 2/10] END .................C=2, gamma=0.003;, score=0.976 total time= 1.4min\n",
      "[CV 3/10] END .................C=2, gamma=0.003;, score=0.962 total time= 1.4min\n",
      "[CV 4/10] END .................C=2, gamma=0.003;, score=0.960 total time= 1.5min\n",
      "[CV 5/10] END .................C=2, gamma=0.003;, score=0.927 total time= 1.4min\n",
      "[CV 6/10] END .................C=2, gamma=0.003;, score=0.944 total time= 1.4min\n",
      "[CV 7/10] END .................C=2, gamma=0.003;, score=0.942 total time= 1.3min\n",
      "[CV 8/10] END .................C=2, gamma=0.003;, score=0.917 total time= 1.3min\n",
      "[CV 9/10] END .................C=2, gamma=0.003;, score=0.939 total time= 1.3min\n",
      "[CV 10/10] END ................C=2, gamma=0.003;, score=0.932 total time= 1.3min\n",
      "[CV 1/10] END .................C=2, gamma=0.004;, score=0.996 total time= 1.6min\n",
      "[CV 2/10] END .................C=2, gamma=0.004;, score=0.974 total time= 1.6min\n",
      "[CV 3/10] END .................C=2, gamma=0.004;, score=0.961 total time= 1.7min\n",
      "[CV 4/10] END .................C=2, gamma=0.004;, score=0.960 total time= 1.7min\n",
      "[CV 5/10] END .................C=2, gamma=0.004;, score=0.930 total time= 1.7min\n",
      "[CV 6/10] END .................C=2, gamma=0.004;, score=0.949 total time= 1.5min\n",
      "[CV 7/10] END .................C=2, gamma=0.004;, score=0.950 total time= 1.6min\n",
      "[CV 8/10] END .................C=2, gamma=0.004;, score=0.925 total time= 1.5min\n",
      "[CV 9/10] END .................C=2, gamma=0.004;, score=0.946 total time= 1.6min\n",
      "[CV 10/10] END ................C=2, gamma=0.004;, score=0.936 total time= 1.5min\n",
      "[CV 1/10] END .................C=2, gamma=0.005;, score=0.997 total time= 1.9min\n",
      "[CV 2/10] END .................C=2, gamma=0.005;, score=0.974 total time= 1.7min\n",
      "[CV 3/10] END .................C=2, gamma=0.005;, score=0.962 total time= 1.7min\n",
      "[CV 4/10] END .................C=2, gamma=0.005;, score=0.960 total time= 1.8min\n",
      "[CV 5/10] END .................C=2, gamma=0.005;, score=0.930 total time= 1.8min\n",
      "[CV 6/10] END .................C=2, gamma=0.005;, score=0.951 total time= 1.8min\n",
      "[CV 7/10] END .................C=2, gamma=0.005;, score=0.955 total time= 1.6min\n",
      "[CV 8/10] END .................C=2, gamma=0.005;, score=0.931 total time= 1.6min\n",
      "[CV 9/10] END .................C=2, gamma=0.005;, score=0.950 total time= 1.6min\n",
      "[CV 10/10] END ................C=2, gamma=0.005;, score=0.935 total time= 1.6min\n",
      "[CV 1/10] END .................C=2, gamma=0.008;, score=0.997 total time= 3.0min\n",
      "[CV 2/10] END .................C=2, gamma=0.008;, score=0.974 total time= 2.9min\n",
      "[CV 3/10] END .................C=2, gamma=0.008;, score=0.960 total time= 2.8min\n",
      "[CV 4/10] END .................C=2, gamma=0.008;, score=0.960 total time= 2.7min\n",
      "[CV 5/10] END .................C=2, gamma=0.008;, score=0.927 total time= 2.7min\n",
      "[CV 6/10] END .................C=2, gamma=0.008;, score=0.958 total time= 2.6min\n",
      "[CV 7/10] END .................C=2, gamma=0.008;, score=0.958 total time= 2.8min\n",
      "[CV 8/10] END .................C=2, gamma=0.008;, score=0.943 total time= 2.8min\n",
      "[CV 9/10] END .................C=2, gamma=0.008;, score=0.958 total time= 2.8min\n",
      "[CV 10/10] END ................C=2, gamma=0.008;, score=0.942 total time= 2.7min\n",
      "[CV 1/10] END .................C=2, gamma=0.009;, score=0.997 total time= 2.9min\n",
      "[CV 2/10] END .................C=2, gamma=0.009;, score=0.975 total time= 2.9min\n",
      "[CV 3/10] END .................C=2, gamma=0.009;, score=0.959 total time= 2.8min\n",
      "[CV 4/10] END .................C=2, gamma=0.009;, score=0.959 total time= 2.9min\n",
      "[CV 5/10] END .................C=2, gamma=0.009;, score=0.927 total time= 3.1min\n",
      "[CV 6/10] END .................C=2, gamma=0.009;, score=0.959 total time= 3.0min\n",
      "[CV 7/10] END .................C=2, gamma=0.009;, score=0.958 total time= 2.7min\n",
      "[CV 8/10] END .................C=2, gamma=0.009;, score=0.945 total time= 2.6min\n",
      "[CV 9/10] END .................C=2, gamma=0.009;, score=0.958 total time= 2.7min\n",
      "[CV 10/10] END ................C=2, gamma=0.009;, score=0.946 total time= 2.7min\n",
      "[CV 1/10] END .................C=2, gamma=scale;, score=0.984 total time= 1.1min\n",
      "[CV 2/10] END .................C=2, gamma=scale;, score=0.909 total time= 1.1min\n",
      "[CV 3/10] END .................C=2, gamma=scale;, score=0.777 total time= 1.2min\n",
      "[CV 4/10] END .................C=2, gamma=scale;, score=0.691 total time= 1.0min\n",
      "[CV 5/10] END .................C=2, gamma=scale;, score=0.673 total time=  59.8s\n",
      "[CV 6/10] END .................C=2, gamma=scale;, score=0.712 total time= 1.0min\n",
      "[CV 7/10] END .................C=2, gamma=scale;, score=0.660 total time= 1.1min\n",
      "[CV 8/10] END .................C=2, gamma=scale;, score=0.639 total time=  59.0s\n",
      "[CV 9/10] END .................C=2, gamma=scale;, score=0.603 total time=  57.9s\n",
      "[CV 10/10] END ................C=2, gamma=scale;, score=0.410 total time=  58.6s\n",
      "[CV 1/10] END ..................C=2, gamma=auto;, score=0.972 total time= 6.0min\n",
      "[CV 2/10] END ..................C=2, gamma=auto;, score=0.956 total time= 7.0min\n",
      "[CV 3/10] END ..................C=2, gamma=auto;, score=0.940 total time= 7.4min\n",
      "[CV 4/10] END ..................C=2, gamma=auto;, score=0.952 total time= 7.4min\n",
      "[CV 5/10] END ..................C=2, gamma=auto;, score=0.917 total time= 7.1min\n",
      "[CV 6/10] END ..................C=2, gamma=auto;, score=0.930 total time= 6.4min\n",
      "[CV 7/10] END ..................C=2, gamma=auto;, score=0.946 total time= 6.6min\n",
      "[CV 8/10] END ..................C=2, gamma=auto;, score=0.932 total time= 6.8min\n",
      "[CV 9/10] END ..................C=2, gamma=auto;, score=0.954 total time= 6.5min\n",
      "[CV 10/10] END .................C=2, gamma=auto;, score=0.938 total time= 6.1min\n",
      "[CV 1/10] END .................C=3, gamma=0.002;, score=0.994 total time= 1.2min\n",
      "[CV 2/10] END .................C=3, gamma=0.002;, score=0.972 total time= 1.2min\n",
      "[CV 3/10] END .................C=3, gamma=0.002;, score=0.960 total time= 1.2min\n",
      "[CV 4/10] END .................C=3, gamma=0.002;, score=0.958 total time= 1.1min\n",
      "[CV 5/10] END .................C=3, gamma=0.002;, score=0.921 total time= 1.1min\n",
      "[CV 6/10] END .................C=3, gamma=0.002;, score=0.935 total time= 1.1min\n",
      "[CV 7/10] END .................C=3, gamma=0.002;, score=0.928 total time= 1.2min\n",
      "[CV 8/10] END .................C=3, gamma=0.002;, score=0.899 total time= 1.1min\n",
      "[CV 9/10] END .................C=3, gamma=0.002;, score=0.920 total time= 1.1min\n",
      "[CV 10/10] END ................C=3, gamma=0.002;, score=0.913 total time= 1.1min\n",
      "[CV 1/10] END .................C=3, gamma=0.003;, score=0.996 total time= 1.4min\n",
      "[CV 2/10] END .................C=3, gamma=0.003;, score=0.975 total time= 1.4min\n",
      "[CV 3/10] END .................C=3, gamma=0.003;, score=0.961 total time= 1.3min\n",
      "[CV 4/10] END .................C=3, gamma=0.003;, score=0.959 total time= 1.3min\n",
      "[CV 5/10] END .................C=3, gamma=0.003;, score=0.928 total time= 1.3min\n",
      "[CV 6/10] END .................C=3, gamma=0.003;, score=0.946 total time= 1.4min\n",
      "[CV 7/10] END .................C=3, gamma=0.003;, score=0.943 total time= 1.4min\n",
      "[CV 8/10] END .................C=3, gamma=0.003;, score=0.918 total time= 1.3min\n",
      "[CV 9/10] END .................C=3, gamma=0.003;, score=0.938 total time= 1.4min\n",
      "[CV 10/10] END ................C=3, gamma=0.003;, score=0.930 total time= 1.3min\n",
      "[CV 1/10] END .................C=3, gamma=0.004;, score=0.996 total time= 1.7min\n",
      "[CV 2/10] END .................C=3, gamma=0.004;, score=0.974 total time= 1.6min\n",
      "[CV 3/10] END .................C=3, gamma=0.004;, score=0.963 total time= 1.5min\n",
      "[CV 4/10] END .................C=3, gamma=0.004;, score=0.960 total time= 1.5min\n",
      "[CV 5/10] END .................C=3, gamma=0.004;, score=0.929 total time= 1.5min\n",
      "[CV 6/10] END .................C=3, gamma=0.004;, score=0.950 total time= 1.6min\n",
      "[CV 7/10] END .................C=3, gamma=0.004;, score=0.952 total time= 1.5min\n",
      "[CV 8/10] END .................C=3, gamma=0.004;, score=0.927 total time= 1.5min\n",
      "[CV 9/10] END .................C=3, gamma=0.004;, score=0.946 total time= 1.5min\n",
      "[CV 10/10] END ................C=3, gamma=0.004;, score=0.932 total time= 1.5min\n",
      "[CV 1/10] END .................C=3, gamma=0.005;, score=0.996 total time= 1.7min\n",
      "[CV 2/10] END .................C=3, gamma=0.005;, score=0.974 total time= 1.9min\n",
      "[CV 3/10] END .................C=3, gamma=0.005;, score=0.962 total time= 1.7min\n",
      "[CV 4/10] END .................C=3, gamma=0.005;, score=0.959 total time= 1.8min\n",
      "[CV 5/10] END .................C=3, gamma=0.005;, score=0.928 total time= 1.8min\n",
      "[CV 6/10] END .................C=3, gamma=0.005;, score=0.955 total time= 1.7min\n",
      "[CV 7/10] END .................C=3, gamma=0.005;, score=0.955 total time= 1.7min\n",
      "[CV 8/10] END .................C=3, gamma=0.005;, score=0.934 total time= 1.6min\n",
      "[CV 9/10] END .................C=3, gamma=0.005;, score=0.951 total time= 1.6min\n",
      "[CV 10/10] END ................C=3, gamma=0.005;, score=0.936 total time= 1.6min\n",
      "[CV 1/10] END .................C=3, gamma=0.008;, score=0.997 total time= 2.7min\n",
      "[CV 2/10] END .................C=3, gamma=0.008;, score=0.973 total time= 2.7min\n",
      "[CV 3/10] END .................C=3, gamma=0.008;, score=0.959 total time= 2.7min\n",
      "[CV 4/10] END .................C=3, gamma=0.008;, score=0.958 total time= 2.8min\n",
      "[CV 5/10] END .................C=3, gamma=0.008;, score=0.927 total time= 2.7min\n",
      "[CV 6/10] END .................C=3, gamma=0.008;, score=0.961 total time= 2.6min\n",
      "[CV 7/10] END .................C=3, gamma=0.008;, score=0.958 total time= 2.7min\n",
      "[CV 8/10] END .................C=3, gamma=0.008;, score=0.944 total time= 2.7min\n",
      "[CV 9/10] END .................C=3, gamma=0.008;, score=0.959 total time= 2.8min\n",
      "[CV 10/10] END ................C=3, gamma=0.008;, score=0.941 total time= 2.6min\n",
      "[CV 1/10] END .................C=3, gamma=0.009;, score=0.996 total time= 2.9min\n",
      "[CV 2/10] END .................C=3, gamma=0.009;, score=0.972 total time= 3.0min\n",
      "[CV 3/10] END .................C=3, gamma=0.009;, score=0.958 total time= 2.8min\n",
      "[CV 4/10] END .................C=3, gamma=0.009;, score=0.957 total time= 2.8min\n",
      "[CV 5/10] END .................C=3, gamma=0.009;, score=0.927 total time= 3.0min\n",
      "[CV 6/10] END .................C=3, gamma=0.009;, score=0.961 total time= 2.8min\n",
      "[CV 7/10] END .................C=3, gamma=0.009;, score=0.959 total time= 2.7min\n",
      "[CV 8/10] END .................C=3, gamma=0.009;, score=0.946 total time= 2.8min\n",
      "[CV 9/10] END .................C=3, gamma=0.009;, score=0.960 total time= 2.8min\n",
      "[CV 10/10] END ................C=3, gamma=0.009;, score=0.944 total time= 2.8min\n",
      "[CV 1/10] END .................C=3, gamma=scale;, score=0.984 total time= 1.1min\n",
      "[CV 2/10] END .................C=3, gamma=scale;, score=0.909 total time= 1.1min\n",
      "[CV 3/10] END .................C=3, gamma=scale;, score=0.777 total time= 1.1min\n",
      "[CV 4/10] END .................C=3, gamma=scale;, score=0.689 total time= 1.1min\n",
      "[CV 5/10] END .................C=3, gamma=scale;, score=0.674 total time= 1.1min\n",
      "[CV 6/10] END .................C=3, gamma=scale;, score=0.714 total time= 1.1min\n",
      "[CV 7/10] END .................C=3, gamma=scale;, score=0.661 total time= 1.1min\n",
      "[CV 8/10] END .................C=3, gamma=scale;, score=0.641 total time= 1.1min\n",
      "[CV 9/10] END .................C=3, gamma=scale;, score=0.602 total time= 1.0min\n",
      "[CV 10/10] END ................C=3, gamma=scale;, score=0.407 total time= 1.0min\n",
      "[CV 1/10] END ..................C=3, gamma=auto;, score=0.970 total time= 6.2min\n",
      "[CV 2/10] END ..................C=3, gamma=auto;, score=0.956 total time= 6.1min\n",
      "[CV 3/10] END ..................C=3, gamma=auto;, score=0.939 total time= 6.2min\n",
      "[CV 4/10] END ..................C=3, gamma=auto;, score=0.952 total time= 6.2min\n",
      "[CV 5/10] END ..................C=3, gamma=auto;, score=0.913 total time= 6.1min\n",
      "[CV 6/10] END ..................C=3, gamma=auto;, score=0.928 total time= 6.1min\n",
      "[CV 7/10] END ..................C=3, gamma=auto;, score=0.946 total time= 6.1min\n",
      "[CV 8/10] END ..................C=3, gamma=auto;, score=0.932 total time= 6.2min\n",
      "[CV 9/10] END ..................C=3, gamma=auto;, score=0.954 total time= 6.1min\n",
      "[CV 10/10] END .................C=3, gamma=auto;, score=0.936 total time= 6.1min\n",
      "[CV 1/10] END .................C=4, gamma=0.002;, score=0.996 total time= 1.2min\n",
      "[CV 2/10] END .................C=4, gamma=0.002;, score=0.973 total time= 1.2min\n",
      "[CV 3/10] END .................C=4, gamma=0.002;, score=0.960 total time= 1.1min\n",
      "[CV 4/10] END .................C=4, gamma=0.002;, score=0.958 total time= 1.1min\n",
      "[CV 5/10] END .................C=4, gamma=0.002;, score=0.923 total time= 1.1min\n",
      "[CV 6/10] END .................C=4, gamma=0.002;, score=0.935 total time= 1.3min\n",
      "[CV 7/10] END .................C=4, gamma=0.002;, score=0.928 total time= 1.3min\n",
      "[CV 8/10] END .................C=4, gamma=0.002;, score=0.901 total time= 1.5min\n",
      "[CV 9/10] END .................C=4, gamma=0.002;, score=0.919 total time= 1.1min\n",
      "[CV 10/10] END ................C=4, gamma=0.002;, score=0.910 total time= 1.1min\n",
      "[CV 1/10] END .................C=4, gamma=0.003;, score=0.996 total time= 1.4min\n",
      "[CV 2/10] END .................C=4, gamma=0.003;, score=0.973 total time= 1.5min\n",
      "[CV 3/10] END .................C=4, gamma=0.003;, score=0.962 total time= 1.3min\n",
      "[CV 4/10] END .................C=4, gamma=0.003;, score=0.959 total time= 1.3min\n",
      "[CV 5/10] END .................C=4, gamma=0.003;, score=0.929 total time= 1.3min\n",
      "[CV 6/10] END .................C=4, gamma=0.003;, score=0.947 total time= 1.3min\n",
      "[CV 7/10] END .................C=4, gamma=0.003;, score=0.945 total time= 1.3min\n",
      "[CV 8/10] END .................C=4, gamma=0.003;, score=0.919 total time= 1.3min\n",
      "[CV 9/10] END .................C=4, gamma=0.003;, score=0.938 total time= 1.3min\n",
      "[CV 10/10] END ................C=4, gamma=0.003;, score=0.926 total time= 1.3min\n",
      "[CV 1/10] END .................C=4, gamma=0.004;, score=0.996 total time= 1.5min\n",
      "[CV 2/10] END .................C=4, gamma=0.004;, score=0.974 total time= 1.5min\n",
      "[CV 3/10] END .................C=4, gamma=0.004;, score=0.962 total time= 1.6min\n",
      "[CV 4/10] END .................C=4, gamma=0.004;, score=0.959 total time= 1.5min\n",
      "[CV 5/10] END .................C=4, gamma=0.004;, score=0.928 total time= 1.5min\n",
      "[CV 6/10] END .................C=4, gamma=0.004;, score=0.953 total time= 1.6min\n",
      "[CV 7/10] END .................C=4, gamma=0.004;, score=0.951 total time= 1.6min\n",
      "[CV 8/10] END .................C=4, gamma=0.004;, score=0.928 total time= 1.4min\n",
      "[CV 9/10] END .................C=4, gamma=0.004;, score=0.947 total time= 1.6min\n",
      "[CV 10/10] END ................C=4, gamma=0.004;, score=0.932 total time= 1.6min\n",
      "[CV 1/10] END .................C=4, gamma=0.005;, score=0.996 total time= 1.7min\n",
      "[CV 2/10] END .................C=4, gamma=0.005;, score=0.975 total time= 1.7min\n",
      "[CV 3/10] END .................C=4, gamma=0.005;, score=0.960 total time= 1.8min\n",
      "[CV 4/10] END .................C=4, gamma=0.005;, score=0.957 total time= 1.7min\n",
      "[CV 5/10] END .................C=4, gamma=0.005;, score=0.926 total time= 1.8min\n",
      "[CV 6/10] END .................C=4, gamma=0.005;, score=0.957 total time= 1.6min\n",
      "[CV 7/10] END ................C=4, gamma=0.005;, score=0.955 total time=144.7min\n",
      "[CV 8/10] END .................C=4, gamma=0.005;, score=0.934 total time= 1.6min\n",
      "[CV 9/10] END .................C=4, gamma=0.005;, score=0.952 total time= 1.6min\n",
      "[CV 10/10] END ................C=4, gamma=0.005;, score=0.935 total time= 1.8min\n",
      "[CV 1/10] END .................C=4, gamma=0.008;, score=0.995 total time= 2.9min\n",
      "[CV 2/10] END .................C=4, gamma=0.008;, score=0.972 total time= 2.9min\n",
      "[CV 3/10] END .................C=4, gamma=0.008;, score=0.958 total time= 2.8min\n",
      "[CV 4/10] END .................C=4, gamma=0.008;, score=0.956 total time= 2.7min\n",
      "[CV 5/10] END .................C=4, gamma=0.008;, score=0.927 total time= 2.8min\n",
      "[CV 6/10] END .................C=4, gamma=0.008;, score=0.961 total time= 2.7min\n",
      "[CV 7/10] END .................C=4, gamma=0.008;, score=0.959 total time= 2.7min\n",
      "[CV 8/10] END .................C=4, gamma=0.008;, score=0.945 total time= 2.7min\n",
      "[CV 9/10] END .................C=4, gamma=0.008;, score=0.960 total time= 2.6min\n",
      "[CV 10/10] END ................C=4, gamma=0.008;, score=0.942 total time= 2.6min\n",
      "[CV 1/10] END .................C=4, gamma=0.009;, score=0.995 total time= 2.9min\n",
      "[CV 2/10] END .................C=4, gamma=0.009;, score=0.971 total time= 2.9min\n",
      "[CV 3/10] END .................C=4, gamma=0.009;, score=0.957 total time= 2.8min\n",
      "[CV 4/10] END .................C=4, gamma=0.009;, score=0.956 total time= 2.9min\n",
      "[CV 5/10] END .................C=4, gamma=0.009;, score=0.926 total time= 3.0min\n",
      "[CV 6/10] END .................C=4, gamma=0.009;, score=0.960 total time= 3.1min\n",
      "[CV 7/10] END .................C=4, gamma=0.009;, score=0.961 total time= 3.0min\n",
      "[CV 8/10] END .................C=4, gamma=0.009;, score=0.947 total time= 2.8min\n",
      "[CV 9/10] END .................C=4, gamma=0.009;, score=0.961 total time= 2.9min\n",
      "[CV 10/10] END ................C=4, gamma=0.009;, score=0.944 total time= 3.0min\n",
      "[CV 1/10] END .................C=4, gamma=scale;, score=0.984 total time= 1.2min\n",
      "[CV 2/10] END .................C=4, gamma=scale;, score=0.909 total time= 1.2min\n",
      "[CV 3/10] END .................C=4, gamma=scale;, score=0.777 total time= 1.1min\n",
      "[CV 4/10] END .................C=4, gamma=scale;, score=0.688 total time= 1.1min\n",
      "[CV 5/10] END .................C=4, gamma=scale;, score=0.675 total time= 1.1min\n",
      "[CV 6/10] END .................C=4, gamma=scale;, score=0.714 total time= 1.1min\n",
      "[CV 7/10] END .................C=4, gamma=scale;, score=0.662 total time= 1.1min\n",
      "[CV 8/10] END .................C=4, gamma=scale;, score=0.642 total time= 1.1min\n",
      "[CV 9/10] END .................C=4, gamma=scale;, score=0.602 total time= 1.1min\n",
      "[CV 10/10] END ................C=4, gamma=scale;, score=0.411 total time= 1.1min\n",
      "[CV 1/10] END ..................C=4, gamma=auto;, score=0.968 total time= 6.4min\n",
      "[CV 2/10] END ..................C=4, gamma=auto;, score=0.956 total time= 6.2min\n",
      "[CV 3/10] END ..................C=4, gamma=auto;, score=0.939 total time= 6.2min\n",
      "[CV 4/10] END ..................C=4, gamma=auto;, score=0.952 total time= 6.2min\n",
      "[CV 5/10] END ..................C=4, gamma=auto;, score=0.910 total time= 6.3min\n",
      "[CV 6/10] END ..................C=4, gamma=auto;, score=0.928 total time= 6.2min\n",
      "[CV 7/10] END ..................C=4, gamma=auto;, score=0.946 total time= 6.2min\n",
      "[CV 8/10] END ..................C=4, gamma=auto;, score=0.932 total time= 6.2min\n",
      "[CV 9/10] END ..................C=4, gamma=auto;, score=0.952 total time= 6.2min\n",
      "[CV 10/10] END .................C=4, gamma=auto;, score=0.935 total time= 6.3min\n",
      "[CV 1/10] END .................C=5, gamma=0.002;, score=0.996 total time= 1.1min\n",
      "[CV 2/10] END .................C=5, gamma=0.002;, score=0.973 total time= 1.2min\n",
      "[CV 3/10] END .................C=5, gamma=0.002;, score=0.961 total time= 1.1min\n",
      "[CV 4/10] END .................C=5, gamma=0.002;, score=0.958 total time= 1.1min\n",
      "[CV 5/10] END .................C=5, gamma=0.002;, score=0.923 total time= 1.1min\n",
      "[CV 6/10] END .................C=5, gamma=0.002;, score=0.937 total time= 1.1min\n",
      "[CV 7/10] END .................C=5, gamma=0.002;, score=0.928 total time= 1.1min\n",
      "[CV 8/10] END .................C=5, gamma=0.002;, score=0.903 total time= 1.1min\n",
      "[CV 9/10] END .................C=5, gamma=0.002;, score=0.916 total time= 1.1min\n",
      "[CV 10/10] END ................C=5, gamma=0.002;, score=0.907 total time= 1.1min\n",
      "[CV 1/10] END .................C=5, gamma=0.003;, score=0.996 total time= 1.5min\n",
      "[CV 2/10] END .................C=5, gamma=0.003;, score=0.973 total time= 1.4min\n",
      "[CV 3/10] END .................C=5, gamma=0.003;, score=0.962 total time= 1.5min\n",
      "[CV 4/10] END .................C=5, gamma=0.003;, score=0.958 total time= 1.3min\n",
      "[CV 5/10] END .................C=5, gamma=0.003;, score=0.928 total time= 1.3min\n",
      "[CV 6/10] END .................C=5, gamma=0.003;, score=0.948 total time= 1.4min\n",
      "[CV 7/10] END .................C=5, gamma=0.003;, score=0.945 total time= 1.4min\n",
      "[CV 8/10] END .................C=5, gamma=0.003;, score=0.921 total time= 1.4min\n",
      "[CV 9/10] END .................C=5, gamma=0.003;, score=0.938 total time= 1.4min\n",
      "[CV 10/10] END ................C=5, gamma=0.003;, score=0.924 total time= 1.4min\n",
      "[CV 1/10] END .................C=5, gamma=0.004;, score=0.996 total time= 1.7min\n",
      "[CV 2/10] END .................C=5, gamma=0.004;, score=0.975 total time= 1.6min\n",
      "[CV 3/10] END .................C=5, gamma=0.004;, score=0.961 total time= 1.6min\n",
      "[CV 4/10] END .................C=5, gamma=0.004;, score=0.957 total time= 1.5min\n",
      "[CV 5/10] END .................C=5, gamma=0.004;, score=0.927 total time= 1.5min\n",
      "[CV 6/10] END .................C=5, gamma=0.004;, score=0.954 total time= 1.6min\n",
      "[CV 7/10] END .................C=5, gamma=0.004;, score=0.951 total time= 1.7min\n",
      "[CV 8/10] END .................C=5, gamma=0.004;, score=0.929 total time= 1.4min\n",
      "[CV 9/10] END .................C=5, gamma=0.004;, score=0.947 total time= 1.5min\n",
      "[CV 10/10] END ................C=5, gamma=0.004;, score=0.931 total time=16.0min\n",
      "[CV 1/10] END .................C=5, gamma=0.005;, score=0.996 total time= 1.7min\n",
      "[CV 2/10] END .................C=5, gamma=0.005;, score=0.975 total time= 1.7min\n",
      "[CV 3/10] END .................C=5, gamma=0.005;, score=0.960 total time= 1.8min\n",
      "[CV 4/10] END .................C=5, gamma=0.005;, score=0.955 total time= 1.7min\n",
      "[CV 5/10] END .................C=5, gamma=0.005;, score=0.926 total time= 2.0min\n",
      "[CV 6/10] END .................C=5, gamma=0.005;, score=0.958 total time= 1.8min\n",
      "[CV 7/10] END .................C=5, gamma=0.005;, score=0.956 total time= 1.6min\n",
      "[CV 8/10] END .................C=5, gamma=0.005;, score=0.934 total time= 1.7min\n",
      "[CV 9/10] END .................C=5, gamma=0.005;, score=0.954 total time= 1.6min\n",
      "[CV 10/10] END ................C=5, gamma=0.005;, score=0.936 total time= 1.6min\n",
      "[CV 1/10] END .................C=5, gamma=0.008;, score=0.995 total time= 2.8min\n",
      "[CV 2/10] END .................C=5, gamma=0.008;, score=0.971 total time= 2.8min\n",
      "[CV 3/10] END .................C=5, gamma=0.008;, score=0.957 total time= 2.7min\n",
      "[CV 4/10] END .................C=5, gamma=0.008;, score=0.955 total time= 2.7min\n",
      "[CV 5/10] END .................C=5, gamma=0.008;, score=0.925 total time= 2.4min\n",
      "[CV 6/10] END .................C=5, gamma=0.008;, score=0.960 total time= 2.4min\n",
      "[CV 7/10] END .................C=5, gamma=0.008;, score=0.961 total time= 2.3min\n",
      "[CV 8/10] END .................C=5, gamma=0.008;, score=0.946 total time= 2.5min\n",
      "[CV 9/10] END .................C=5, gamma=0.008;, score=0.960 total time= 2.4min\n",
      "[CV 10/10] END ................C=5, gamma=0.008;, score=0.941 total time= 2.3min\n",
      "[CV 1/10] END .................C=5, gamma=0.009;, score=0.994 total time= 2.6min\n",
      "[CV 2/10] END .................C=5, gamma=0.009;, score=0.970 total time= 2.6min\n",
      "[CV 3/10] END .................C=5, gamma=0.009;, score=0.955 total time= 2.6min\n",
      "[CV 4/10] END .................C=5, gamma=0.009;, score=0.954 total time= 2.9min\n",
      "[CV 5/10] END .................C=5, gamma=0.009;, score=0.925 total time= 2.8min\n",
      "[CV 6/10] END .................C=5, gamma=0.009;, score=0.960 total time= 2.5min\n",
      "[CV 7/10] END .................C=5, gamma=0.009;, score=0.961 total time= 2.5min\n",
      "[CV 8/10] END .................C=5, gamma=0.009;, score=0.947 total time= 2.4min\n",
      "[CV 9/10] END .................C=5, gamma=0.009;, score=0.961 total time= 2.5min\n",
      "[CV 10/10] END ................C=5, gamma=0.009;, score=0.943 total time= 2.5min\n",
      "[CV 1/10] END .................C=5, gamma=scale;, score=0.984 total time= 1.0min\n",
      "[CV 2/10] END .................C=5, gamma=scale;, score=0.909 total time=  59.6s\n",
      "[CV 3/10] END .................C=5, gamma=scale;, score=0.776 total time=  58.1s\n",
      "[CV 4/10] END .................C=5, gamma=scale;, score=0.687 total time=  58.6s\n",
      "[CV 5/10] END .................C=5, gamma=scale;, score=0.674 total time=  57.2s\n",
      "[CV 6/10] END .................C=5, gamma=scale;, score=0.714 total time=  58.0s\n",
      "[CV 7/10] END .................C=5, gamma=scale;, score=0.663 total time=  56.8s\n",
      "[CV 8/10] END .................C=5, gamma=scale;, score=0.642 total time=  56.9s\n",
      "[CV 9/10] END .................C=5, gamma=scale;, score=0.600 total time=  56.1s\n",
      "[CV 10/10] END ................C=5, gamma=scale;, score=0.412 total time=  55.8s\n",
      "[CV 1/10] END ..................C=5, gamma=auto;, score=0.968 total time= 6.1min\n",
      "[CV 2/10] END ..................C=5, gamma=auto;, score=0.956 total time= 6.3min\n",
      "[CV 3/10] END ..................C=5, gamma=auto;, score=0.938 total time= 6.3min\n",
      "[CV 4/10] END ..................C=5, gamma=auto;, score=0.952 total time= 6.1min\n",
      "[CV 5/10] END ..................C=5, gamma=auto;, score=0.910 total time= 7.5min\n",
      "[CV 6/10] END ..................C=5, gamma=auto;, score=0.926 total time= 7.0min\n",
      "[CV 7/10] END ..................C=5, gamma=auto;, score=0.946 total time= 6.9min\n",
      "[CV 8/10] END ..................C=5, gamma=auto;, score=0.930 total time= 6.3min\n",
      "[CV 9/10] END ..................C=5, gamma=auto;, score=0.952 total time= 6.2min\n",
      "[CV 10/10] END .................C=5, gamma=auto;, score=0.935 total time= 6.3min\n"
     ]
    },
    {
     "name": "stderr",
     "output_type": "stream",
     "text": [
      " 67%|██████▋   | 2/3 [18:54:23<11:04:38, 39878.12s/it]"
     ]
    },
    {
     "name": "stdout",
     "output_type": "stream",
     "text": [
      "Fitting 10 folds for each of 36 candidates, totalling 360 fits\n",
      "[CV 1/10] END leaf_size=20, n_neighbors=3, weights=uniform;, score=0.993 total time=   0.1s\n",
      "[CV 2/10] END leaf_size=20, n_neighbors=3, weights=uniform;, score=0.977 total time=   0.0s\n",
      "[CV 3/10] END leaf_size=20, n_neighbors=3, weights=uniform;, score=0.912 total time=   0.0s\n",
      "[CV 4/10] END leaf_size=20, n_neighbors=3, weights=uniform;, score=0.905 total time=   0.0s\n",
      "[CV 5/10] END leaf_size=20, n_neighbors=3, weights=uniform;, score=0.863 total time=   0.0s\n",
      "[CV 6/10] END leaf_size=20, n_neighbors=3, weights=uniform;, score=0.880 total time=   0.0s\n",
      "[CV 7/10] END leaf_size=20, n_neighbors=3, weights=uniform;, score=0.828 total time=   0.0s\n",
      "[CV 8/10] END leaf_size=20, n_neighbors=3, weights=uniform;, score=0.733 total time=   0.0s\n",
      "[CV 9/10] END leaf_size=20, n_neighbors=3, weights=uniform;, score=0.786 total time=   0.0s\n",
      "[CV 10/10] END leaf_size=20, n_neighbors=3, weights=uniform;, score=0.691 total time=   0.0s\n",
      "[CV 1/10] END leaf_size=20, n_neighbors=3, weights=distance;, score=0.993 total time=   0.0s\n",
      "[CV 2/10] END leaf_size=20, n_neighbors=3, weights=distance;, score=0.978 total time=   0.0s\n",
      "[CV 3/10] END leaf_size=20, n_neighbors=3, weights=distance;, score=0.913 total time=   0.0s\n",
      "[CV 4/10] END leaf_size=20, n_neighbors=3, weights=distance;, score=0.910 total time=   0.0s\n",
      "[CV 5/10] END leaf_size=20, n_neighbors=3, weights=distance;, score=0.867 total time=   0.0s\n",
      "[CV 6/10] END leaf_size=20, n_neighbors=3, weights=distance;, score=0.882 total time=   0.0s\n",
      "[CV 7/10] END leaf_size=20, n_neighbors=3, weights=distance;, score=0.832 total time=   0.0s\n",
      "[CV 8/10] END leaf_size=20, n_neighbors=3, weights=distance;, score=0.736 total time=   0.0s\n",
      "[CV 9/10] END leaf_size=20, n_neighbors=3, weights=distance;, score=0.789 total time=   0.0s\n",
      "[CV 10/10] END leaf_size=20, n_neighbors=3, weights=distance;, score=0.696 total time=   0.0s\n",
      "[CV 1/10] END leaf_size=20, n_neighbors=5, weights=uniform;, score=0.992 total time=   0.0s\n",
      "[CV 2/10] END leaf_size=20, n_neighbors=5, weights=uniform;, score=0.976 total time=   0.0s\n",
      "[CV 3/10] END leaf_size=20, n_neighbors=5, weights=uniform;, score=0.910 total time=   0.0s\n",
      "[CV 4/10] END leaf_size=20, n_neighbors=5, weights=uniform;, score=0.908 total time=   0.0s\n",
      "[CV 5/10] END leaf_size=20, n_neighbors=5, weights=uniform;, score=0.859 total time=   0.0s\n",
      "[CV 6/10] END leaf_size=20, n_neighbors=5, weights=uniform;, score=0.877 total time=   0.0s\n",
      "[CV 7/10] END leaf_size=20, n_neighbors=5, weights=uniform;, score=0.826 total time=   0.0s\n",
      "[CV 8/10] END leaf_size=20, n_neighbors=5, weights=uniform;, score=0.726 total time=   0.0s\n",
      "[CV 9/10] END leaf_size=20, n_neighbors=5, weights=uniform;, score=0.796 total time=   0.0s\n",
      "[CV 10/10] END leaf_size=20, n_neighbors=5, weights=uniform;, score=0.694 total time=   0.0s\n",
      "[CV 1/10] END leaf_size=20, n_neighbors=5, weights=distance;, score=0.993 total time=   0.0s\n",
      "[CV 2/10] END leaf_size=20, n_neighbors=5, weights=distance;, score=0.979 total time=   0.0s\n",
      "[CV 3/10] END leaf_size=20, n_neighbors=5, weights=distance;, score=0.914 total time=   0.0s\n",
      "[CV 4/10] END leaf_size=20, n_neighbors=5, weights=distance;, score=0.914 total time=   0.0s\n",
      "[CV 5/10] END leaf_size=20, n_neighbors=5, weights=distance;, score=0.868 total time=   0.0s\n",
      "[CV 6/10] END leaf_size=20, n_neighbors=5, weights=distance;, score=0.883 total time=   0.0s\n",
      "[CV 7/10] END leaf_size=20, n_neighbors=5, weights=distance;, score=0.834 total time=   0.0s\n",
      "[CV 8/10] END leaf_size=20, n_neighbors=5, weights=distance;, score=0.732 total time=   0.0s\n",
      "[CV 9/10] END leaf_size=20, n_neighbors=5, weights=distance;, score=0.800 total time=   0.0s\n",
      "[CV 10/10] END leaf_size=20, n_neighbors=5, weights=distance;, score=0.702 total time=   0.0s\n",
      "[CV 1/10] END leaf_size=20, n_neighbors=7, weights=uniform;, score=0.994 total time=   0.0s\n",
      "[CV 2/10] END leaf_size=20, n_neighbors=7, weights=uniform;, score=0.974 total time=   0.0s\n",
      "[CV 3/10] END leaf_size=20, n_neighbors=7, weights=uniform;, score=0.910 total time=   0.0s\n",
      "[CV 4/10] END leaf_size=20, n_neighbors=7, weights=uniform;, score=0.909 total time=   0.0s\n",
      "[CV 5/10] END leaf_size=20, n_neighbors=7, weights=uniform;, score=0.855 total time=   0.0s\n",
      "[CV 6/10] END leaf_size=20, n_neighbors=7, weights=uniform;, score=0.880 total time=   0.0s\n",
      "[CV 7/10] END leaf_size=20, n_neighbors=7, weights=uniform;, score=0.819 total time=   0.0s\n",
      "[CV 8/10] END leaf_size=20, n_neighbors=7, weights=uniform;, score=0.719 total time=   0.0s\n",
      "[CV 9/10] END leaf_size=20, n_neighbors=7, weights=uniform;, score=0.796 total time=   0.0s\n",
      "[CV 10/10] END leaf_size=20, n_neighbors=7, weights=uniform;, score=0.688 total time=   0.0s\n",
      "[CV 1/10] END leaf_size=20, n_neighbors=7, weights=distance;, score=0.995 total time=   0.0s\n",
      "[CV 2/10] END leaf_size=20, n_neighbors=7, weights=distance;, score=0.977 total time=   0.0s\n",
      "[CV 3/10] END leaf_size=20, n_neighbors=7, weights=distance;, score=0.915 total time=   0.0s\n",
      "[CV 4/10] END leaf_size=20, n_neighbors=7, weights=distance;, score=0.918 total time=   0.0s\n",
      "[CV 5/10] END leaf_size=20, n_neighbors=7, weights=distance;, score=0.866 total time=   0.0s\n",
      "[CV 6/10] END leaf_size=20, n_neighbors=7, weights=distance;, score=0.888 total time=   0.0s\n",
      "[CV 7/10] END leaf_size=20, n_neighbors=7, weights=distance;, score=0.831 total time=   0.0s\n",
      "[CV 8/10] END leaf_size=20, n_neighbors=7, weights=distance;, score=0.730 total time=   0.0s\n",
      "[CV 9/10] END leaf_size=20, n_neighbors=7, weights=distance;, score=0.803 total time=   0.0s\n",
      "[CV 10/10] END leaf_size=20, n_neighbors=7, weights=distance;, score=0.698 total time=   0.0s\n",
      "[CV 1/10] END leaf_size=20, n_neighbors=9, weights=uniform;, score=0.994 total time=   0.0s\n",
      "[CV 2/10] END leaf_size=20, n_neighbors=9, weights=uniform;, score=0.973 total time=   0.0s\n",
      "[CV 3/10] END leaf_size=20, n_neighbors=9, weights=uniform;, score=0.904 total time=   0.0s\n",
      "[CV 4/10] END leaf_size=20, n_neighbors=9, weights=uniform;, score=0.908 total time=   0.0s\n",
      "[CV 5/10] END leaf_size=20, n_neighbors=9, weights=uniform;, score=0.847 total time=   0.0s\n",
      "[CV 6/10] END leaf_size=20, n_neighbors=9, weights=uniform;, score=0.877 total time=   0.0s\n",
      "[CV 7/10] END leaf_size=20, n_neighbors=9, weights=uniform;, score=0.814 total time=   0.0s\n",
      "[CV 8/10] END leaf_size=20, n_neighbors=9, weights=uniform;, score=0.704 total time=   0.0s\n",
      "[CV 9/10] END leaf_size=20, n_neighbors=9, weights=uniform;, score=0.802 total time=   0.0s\n",
      "[CV 10/10] END leaf_size=20, n_neighbors=9, weights=uniform;, score=0.678 total time=   0.0s\n",
      "[CV 1/10] END leaf_size=20, n_neighbors=9, weights=distance;, score=0.995 total time=   0.0s\n",
      "[CV 2/10] END leaf_size=20, n_neighbors=9, weights=distance;, score=0.978 total time=   0.0s\n",
      "[CV 3/10] END leaf_size=20, n_neighbors=9, weights=distance;, score=0.913 total time=   0.0s\n",
      "[CV 4/10] END leaf_size=20, n_neighbors=9, weights=distance;, score=0.920 total time=   0.0s\n",
      "[CV 5/10] END leaf_size=20, n_neighbors=9, weights=distance;, score=0.862 total time=   0.0s\n",
      "[CV 6/10] END leaf_size=20, n_neighbors=9, weights=distance;, score=0.888 total time=   0.0s\n",
      "[CV 7/10] END leaf_size=20, n_neighbors=9, weights=distance;, score=0.830 total time=   0.0s\n",
      "[CV 8/10] END leaf_size=20, n_neighbors=9, weights=distance;, score=0.722 total time=   0.0s\n",
      "[CV 9/10] END leaf_size=20, n_neighbors=9, weights=distance;, score=0.813 total time=   0.0s\n",
      "[CV 10/10] END leaf_size=20, n_neighbors=9, weights=distance;, score=0.694 total time=   0.0s\n",
      "[CV 1/10] END leaf_size=20, n_neighbors=11, weights=uniform;, score=0.994 total time=   0.0s\n",
      "[CV 2/10] END leaf_size=20, n_neighbors=11, weights=uniform;, score=0.971 total time=   0.0s\n",
      "[CV 3/10] END leaf_size=20, n_neighbors=11, weights=uniform;, score=0.900 total time=   0.0s\n",
      "[CV 4/10] END leaf_size=20, n_neighbors=11, weights=uniform;, score=0.904 total time=   0.0s\n",
      "[CV 5/10] END leaf_size=20, n_neighbors=11, weights=uniform;, score=0.841 total time=   0.0s\n",
      "[CV 6/10] END leaf_size=20, n_neighbors=11, weights=uniform;, score=0.873 total time=   0.0s\n",
      "[CV 7/10] END leaf_size=20, n_neighbors=11, weights=uniform;, score=0.817 total time=   0.0s\n",
      "[CV 8/10] END leaf_size=20, n_neighbors=11, weights=uniform;, score=0.691 total time=   0.0s\n",
      "[CV 9/10] END leaf_size=20, n_neighbors=11, weights=uniform;, score=0.794 total time=   0.0s\n",
      "[CV 10/10] END leaf_size=20, n_neighbors=11, weights=uniform;, score=0.666 total time=   0.0s\n",
      "[CV 1/10] END leaf_size=20, n_neighbors=11, weights=distance;, score=0.995 total time=   0.0s\n",
      "[CV 2/10] END leaf_size=20, n_neighbors=11, weights=distance;, score=0.978 total time=   0.0s\n",
      "[CV 3/10] END leaf_size=20, n_neighbors=11, weights=distance;, score=0.911 total time=   0.0s\n",
      "[CV 4/10] END leaf_size=20, n_neighbors=11, weights=distance;, score=0.919 total time=   0.0s\n",
      "[CV 5/10] END leaf_size=20, n_neighbors=11, weights=distance;, score=0.860 total time=   0.0s\n",
      "[CV 6/10] END leaf_size=20, n_neighbors=11, weights=distance;, score=0.889 total time=   0.0s\n",
      "[CV 7/10] END leaf_size=20, n_neighbors=11, weights=distance;, score=0.838 total time=   0.0s\n",
      "[CV 8/10] END leaf_size=20, n_neighbors=11, weights=distance;, score=0.713 total time=   0.0s\n",
      "[CV 9/10] END leaf_size=20, n_neighbors=11, weights=distance;, score=0.812 total time=   0.0s\n",
      "[CV 10/10] END leaf_size=20, n_neighbors=11, weights=distance;, score=0.688 total time=   0.0s\n",
      "[CV 1/10] END leaf_size=20, n_neighbors=13, weights=uniform;, score=0.993 total time=   0.0s\n",
      "[CV 2/10] END leaf_size=20, n_neighbors=13, weights=uniform;, score=0.968 total time=   0.0s\n",
      "[CV 3/10] END leaf_size=20, n_neighbors=13, weights=uniform;, score=0.895 total time=   0.0s\n",
      "[CV 4/10] END leaf_size=20, n_neighbors=13, weights=uniform;, score=0.898 total time=   0.0s\n",
      "[CV 5/10] END leaf_size=20, n_neighbors=13, weights=uniform;, score=0.836 total time=   0.0s\n",
      "[CV 6/10] END leaf_size=20, n_neighbors=13, weights=uniform;, score=0.871 total time=   0.0s\n",
      "[CV 7/10] END leaf_size=20, n_neighbors=13, weights=uniform;, score=0.814 total time=   0.0s\n",
      "[CV 8/10] END leaf_size=20, n_neighbors=13, weights=uniform;, score=0.680 total time=   0.0s\n",
      "[CV 9/10] END leaf_size=20, n_neighbors=13, weights=uniform;, score=0.790 total time=   0.0s\n",
      "[CV 10/10] END leaf_size=20, n_neighbors=13, weights=uniform;, score=0.656 total time=   0.0s\n",
      "[CV 1/10] END leaf_size=20, n_neighbors=13, weights=distance;, score=0.995 total time=   0.0s\n",
      "[CV 2/10] END leaf_size=20, n_neighbors=13, weights=distance;, score=0.977 total time=   0.0s\n",
      "[CV 3/10] END leaf_size=20, n_neighbors=13, weights=distance;, score=0.909 total time=   0.0s\n",
      "[CV 4/10] END leaf_size=20, n_neighbors=13, weights=distance;, score=0.918 total time=   0.0s\n",
      "[CV 5/10] END leaf_size=20, n_neighbors=13, weights=distance;, score=0.860 total time=   0.0s\n",
      "[CV 6/10] END leaf_size=20, n_neighbors=13, weights=distance;, score=0.888 total time=   0.0s\n",
      "[CV 7/10] END leaf_size=20, n_neighbors=13, weights=distance;, score=0.840 total time=   0.0s\n",
      "[CV 8/10] END leaf_size=20, n_neighbors=13, weights=distance;, score=0.706 total time=   0.0s\n",
      "[CV 9/10] END leaf_size=20, n_neighbors=13, weights=distance;, score=0.813 total time=   0.0s\n",
      "[CV 10/10] END leaf_size=20, n_neighbors=13, weights=distance;, score=0.682 total time=   0.0s\n",
      "[CV 1/10] END leaf_size=25, n_neighbors=3, weights=uniform;, score=0.993 total time=   0.0s\n",
      "[CV 2/10] END leaf_size=25, n_neighbors=3, weights=uniform;, score=0.977 total time=   0.0s\n",
      "[CV 3/10] END leaf_size=25, n_neighbors=3, weights=uniform;, score=0.912 total time=   0.0s\n",
      "[CV 4/10] END leaf_size=25, n_neighbors=3, weights=uniform;, score=0.905 total time=   0.0s\n",
      "[CV 5/10] END leaf_size=25, n_neighbors=3, weights=uniform;, score=0.863 total time=   0.0s\n",
      "[CV 6/10] END leaf_size=25, n_neighbors=3, weights=uniform;, score=0.880 total time=   0.0s\n",
      "[CV 7/10] END leaf_size=25, n_neighbors=3, weights=uniform;, score=0.828 total time=   0.0s\n",
      "[CV 8/10] END leaf_size=25, n_neighbors=3, weights=uniform;, score=0.733 total time=   0.0s\n",
      "[CV 9/10] END leaf_size=25, n_neighbors=3, weights=uniform;, score=0.786 total time=   0.0s\n",
      "[CV 10/10] END leaf_size=25, n_neighbors=3, weights=uniform;, score=0.691 total time=   0.0s\n",
      "[CV 1/10] END leaf_size=25, n_neighbors=3, weights=distance;, score=0.993 total time=   0.0s\n",
      "[CV 2/10] END leaf_size=25, n_neighbors=3, weights=distance;, score=0.978 total time=   0.0s\n",
      "[CV 3/10] END leaf_size=25, n_neighbors=3, weights=distance;, score=0.913 total time=   0.0s\n",
      "[CV 4/10] END leaf_size=25, n_neighbors=3, weights=distance;, score=0.910 total time=   0.0s\n",
      "[CV 5/10] END leaf_size=25, n_neighbors=3, weights=distance;, score=0.867 total time=   0.0s\n",
      "[CV 6/10] END leaf_size=25, n_neighbors=3, weights=distance;, score=0.882 total time=   0.0s\n",
      "[CV 7/10] END leaf_size=25, n_neighbors=3, weights=distance;, score=0.832 total time=   0.0s\n",
      "[CV 8/10] END leaf_size=25, n_neighbors=3, weights=distance;, score=0.736 total time=   0.0s\n",
      "[CV 9/10] END leaf_size=25, n_neighbors=3, weights=distance;, score=0.789 total time=   0.0s\n",
      "[CV 10/10] END leaf_size=25, n_neighbors=3, weights=distance;, score=0.696 total time=   0.0s\n",
      "[CV 1/10] END leaf_size=25, n_neighbors=5, weights=uniform;, score=0.992 total time=   0.0s\n",
      "[CV 2/10] END leaf_size=25, n_neighbors=5, weights=uniform;, score=0.976 total time=   0.0s\n",
      "[CV 3/10] END leaf_size=25, n_neighbors=5, weights=uniform;, score=0.910 total time=   0.0s\n",
      "[CV 4/10] END leaf_size=25, n_neighbors=5, weights=uniform;, score=0.908 total time=   0.0s\n",
      "[CV 5/10] END leaf_size=25, n_neighbors=5, weights=uniform;, score=0.859 total time=   0.0s\n",
      "[CV 6/10] END leaf_size=25, n_neighbors=5, weights=uniform;, score=0.877 total time=   0.0s\n",
      "[CV 7/10] END leaf_size=25, n_neighbors=5, weights=uniform;, score=0.826 total time=   0.0s\n",
      "[CV 8/10] END leaf_size=25, n_neighbors=5, weights=uniform;, score=0.726 total time=   0.0s\n",
      "[CV 9/10] END leaf_size=25, n_neighbors=5, weights=uniform;, score=0.796 total time=   0.0s\n",
      "[CV 10/10] END leaf_size=25, n_neighbors=5, weights=uniform;, score=0.694 total time=   0.0s\n",
      "[CV 1/10] END leaf_size=25, n_neighbors=5, weights=distance;, score=0.993 total time=   0.1s\n",
      "[CV 2/10] END leaf_size=25, n_neighbors=5, weights=distance;, score=0.979 total time=   0.0s\n",
      "[CV 3/10] END leaf_size=25, n_neighbors=5, weights=distance;, score=0.914 total time=   0.0s\n",
      "[CV 4/10] END leaf_size=25, n_neighbors=5, weights=distance;, score=0.914 total time=   0.0s\n",
      "[CV 5/10] END leaf_size=25, n_neighbors=5, weights=distance;, score=0.868 total time=   0.0s\n",
      "[CV 6/10] END leaf_size=25, n_neighbors=5, weights=distance;, score=0.883 total time=   0.0s\n",
      "[CV 7/10] END leaf_size=25, n_neighbors=5, weights=distance;, score=0.834 total time=   0.0s\n",
      "[CV 8/10] END leaf_size=25, n_neighbors=5, weights=distance;, score=0.732 total time=   0.0s\n",
      "[CV 9/10] END leaf_size=25, n_neighbors=5, weights=distance;, score=0.800 total time=   0.0s\n",
      "[CV 10/10] END leaf_size=25, n_neighbors=5, weights=distance;, score=0.702 total time=   0.0s\n",
      "[CV 1/10] END leaf_size=25, n_neighbors=7, weights=uniform;, score=0.994 total time=   0.0s\n",
      "[CV 2/10] END leaf_size=25, n_neighbors=7, weights=uniform;, score=0.974 total time=   0.0s\n",
      "[CV 3/10] END leaf_size=25, n_neighbors=7, weights=uniform;, score=0.910 total time=   0.0s\n",
      "[CV 4/10] END leaf_size=25, n_neighbors=7, weights=uniform;, score=0.909 total time=   0.0s\n",
      "[CV 5/10] END leaf_size=25, n_neighbors=7, weights=uniform;, score=0.855 total time=   0.0s\n",
      "[CV 6/10] END leaf_size=25, n_neighbors=7, weights=uniform;, score=0.880 total time=   0.0s\n",
      "[CV 7/10] END leaf_size=25, n_neighbors=7, weights=uniform;, score=0.819 total time=   0.0s\n",
      "[CV 8/10] END leaf_size=25, n_neighbors=7, weights=uniform;, score=0.719 total time=   0.1s\n",
      "[CV 9/10] END leaf_size=25, n_neighbors=7, weights=uniform;, score=0.796 total time=   0.0s\n",
      "[CV 10/10] END leaf_size=25, n_neighbors=7, weights=uniform;, score=0.688 total time=   0.0s\n",
      "[CV 1/10] END leaf_size=25, n_neighbors=7, weights=distance;, score=0.995 total time=   0.0s\n",
      "[CV 2/10] END leaf_size=25, n_neighbors=7, weights=distance;, score=0.977 total time=   0.0s\n",
      "[CV 3/10] END leaf_size=25, n_neighbors=7, weights=distance;, score=0.915 total time=   0.0s\n",
      "[CV 4/10] END leaf_size=25, n_neighbors=7, weights=distance;, score=0.918 total time=   0.0s\n",
      "[CV 5/10] END leaf_size=25, n_neighbors=7, weights=distance;, score=0.866 total time=   0.0s\n",
      "[CV 6/10] END leaf_size=25, n_neighbors=7, weights=distance;, score=0.888 total time=   0.0s\n",
      "[CV 7/10] END leaf_size=25, n_neighbors=7, weights=distance;, score=0.831 total time=   0.0s\n",
      "[CV 8/10] END leaf_size=25, n_neighbors=7, weights=distance;, score=0.730 total time=   0.0s\n",
      "[CV 9/10] END leaf_size=25, n_neighbors=7, weights=distance;, score=0.803 total time=   0.0s\n",
      "[CV 10/10] END leaf_size=25, n_neighbors=7, weights=distance;, score=0.698 total time=   0.0s\n",
      "[CV 1/10] END leaf_size=25, n_neighbors=9, weights=uniform;, score=0.994 total time=   0.0s\n",
      "[CV 2/10] END leaf_size=25, n_neighbors=9, weights=uniform;, score=0.973 total time=   0.0s\n",
      "[CV 3/10] END leaf_size=25, n_neighbors=9, weights=uniform;, score=0.904 total time=   0.0s\n",
      "[CV 4/10] END leaf_size=25, n_neighbors=9, weights=uniform;, score=0.908 total time=   0.0s\n",
      "[CV 5/10] END leaf_size=25, n_neighbors=9, weights=uniform;, score=0.847 total time=   0.0s\n",
      "[CV 6/10] END leaf_size=25, n_neighbors=9, weights=uniform;, score=0.877 total time=   0.0s\n",
      "[CV 7/10] END leaf_size=25, n_neighbors=9, weights=uniform;, score=0.814 total time=   0.0s\n",
      "[CV 8/10] END leaf_size=25, n_neighbors=9, weights=uniform;, score=0.704 total time=   0.1s\n",
      "[CV 9/10] END leaf_size=25, n_neighbors=9, weights=uniform;, score=0.802 total time=   0.0s\n",
      "[CV 10/10] END leaf_size=25, n_neighbors=9, weights=uniform;, score=0.678 total time=   0.0s\n",
      "[CV 1/10] END leaf_size=25, n_neighbors=9, weights=distance;, score=0.995 total time=   0.0s\n",
      "[CV 2/10] END leaf_size=25, n_neighbors=9, weights=distance;, score=0.978 total time=   0.0s\n",
      "[CV 3/10] END leaf_size=25, n_neighbors=9, weights=distance;, score=0.913 total time=   0.0s\n",
      "[CV 4/10] END leaf_size=25, n_neighbors=9, weights=distance;, score=0.920 total time=   0.0s\n",
      "[CV 5/10] END leaf_size=25, n_neighbors=9, weights=distance;, score=0.862 total time=   0.0s\n",
      "[CV 6/10] END leaf_size=25, n_neighbors=9, weights=distance;, score=0.888 total time=   0.0s\n",
      "[CV 7/10] END leaf_size=25, n_neighbors=9, weights=distance;, score=0.830 total time=   0.0s\n",
      "[CV 8/10] END leaf_size=25, n_neighbors=9, weights=distance;, score=0.722 total time=   0.0s\n",
      "[CV 9/10] END leaf_size=25, n_neighbors=9, weights=distance;, score=0.813 total time=   0.0s\n",
      "[CV 10/10] END leaf_size=25, n_neighbors=9, weights=distance;, score=0.694 total time=   0.0s\n",
      "[CV 1/10] END leaf_size=25, n_neighbors=11, weights=uniform;, score=0.994 total time=   0.0s\n",
      "[CV 2/10] END leaf_size=25, n_neighbors=11, weights=uniform;, score=0.971 total time=   0.0s\n",
      "[CV 3/10] END leaf_size=25, n_neighbors=11, weights=uniform;, score=0.900 total time=   0.0s\n",
      "[CV 4/10] END leaf_size=25, n_neighbors=11, weights=uniform;, score=0.904 total time=   0.0s\n",
      "[CV 5/10] END leaf_size=25, n_neighbors=11, weights=uniform;, score=0.841 total time=   0.0s\n",
      "[CV 6/10] END leaf_size=25, n_neighbors=11, weights=uniform;, score=0.873 total time=   0.0s\n",
      "[CV 7/10] END leaf_size=25, n_neighbors=11, weights=uniform;, score=0.817 total time=   0.0s\n",
      "[CV 8/10] END leaf_size=25, n_neighbors=11, weights=uniform;, score=0.691 total time=   0.0s\n",
      "[CV 9/10] END leaf_size=25, n_neighbors=11, weights=uniform;, score=0.794 total time=   0.0s\n",
      "[CV 10/10] END leaf_size=25, n_neighbors=11, weights=uniform;, score=0.666 total time=   0.0s\n",
      "[CV 1/10] END leaf_size=25, n_neighbors=11, weights=distance;, score=0.995 total time=   0.0s\n",
      "[CV 2/10] END leaf_size=25, n_neighbors=11, weights=distance;, score=0.978 total time=   0.0s\n",
      "[CV 3/10] END leaf_size=25, n_neighbors=11, weights=distance;, score=0.911 total time=   0.0s\n",
      "[CV 4/10] END leaf_size=25, n_neighbors=11, weights=distance;, score=0.919 total time=   0.0s\n",
      "[CV 5/10] END leaf_size=25, n_neighbors=11, weights=distance;, score=0.860 total time=   0.0s\n",
      "[CV 6/10] END leaf_size=25, n_neighbors=11, weights=distance;, score=0.889 total time=   0.0s\n",
      "[CV 7/10] END leaf_size=25, n_neighbors=11, weights=distance;, score=0.838 total time=   0.0s\n",
      "[CV 8/10] END leaf_size=25, n_neighbors=11, weights=distance;, score=0.713 total time=   0.0s\n",
      "[CV 9/10] END leaf_size=25, n_neighbors=11, weights=distance;, score=0.812 total time=   0.0s\n",
      "[CV 10/10] END leaf_size=25, n_neighbors=11, weights=distance;, score=0.688 total time=   0.0s\n",
      "[CV 1/10] END leaf_size=25, n_neighbors=13, weights=uniform;, score=0.993 total time=   0.0s\n",
      "[CV 2/10] END leaf_size=25, n_neighbors=13, weights=uniform;, score=0.968 total time=   0.0s\n",
      "[CV 3/10] END leaf_size=25, n_neighbors=13, weights=uniform;, score=0.895 total time=   0.0s\n",
      "[CV 4/10] END leaf_size=25, n_neighbors=13, weights=uniform;, score=0.898 total time=   0.0s\n",
      "[CV 5/10] END leaf_size=25, n_neighbors=13, weights=uniform;, score=0.836 total time=   0.0s\n",
      "[CV 6/10] END leaf_size=25, n_neighbors=13, weights=uniform;, score=0.871 total time=   0.0s\n",
      "[CV 7/10] END leaf_size=25, n_neighbors=13, weights=uniform;, score=0.814 total time=   0.0s\n",
      "[CV 8/10] END leaf_size=25, n_neighbors=13, weights=uniform;, score=0.680 total time=   0.0s\n",
      "[CV 9/10] END leaf_size=25, n_neighbors=13, weights=uniform;, score=0.790 total time=   0.0s\n",
      "[CV 10/10] END leaf_size=25, n_neighbors=13, weights=uniform;, score=0.656 total time=   0.0s\n",
      "[CV 1/10] END leaf_size=25, n_neighbors=13, weights=distance;, score=0.995 total time=   0.0s\n",
      "[CV 2/10] END leaf_size=25, n_neighbors=13, weights=distance;, score=0.977 total time=   0.0s\n",
      "[CV 3/10] END leaf_size=25, n_neighbors=13, weights=distance;, score=0.909 total time=   0.1s\n",
      "[CV 4/10] END leaf_size=25, n_neighbors=13, weights=distance;, score=0.918 total time=   0.0s\n",
      "[CV 5/10] END leaf_size=25, n_neighbors=13, weights=distance;, score=0.860 total time=   0.0s\n",
      "[CV 6/10] END leaf_size=25, n_neighbors=13, weights=distance;, score=0.888 total time=   0.0s\n",
      "[CV 7/10] END leaf_size=25, n_neighbors=13, weights=distance;, score=0.840 total time=   0.0s\n",
      "[CV 8/10] END leaf_size=25, n_neighbors=13, weights=distance;, score=0.706 total time=   0.0s\n",
      "[CV 9/10] END leaf_size=25, n_neighbors=13, weights=distance;, score=0.813 total time=   0.0s\n",
      "[CV 10/10] END leaf_size=25, n_neighbors=13, weights=distance;, score=0.682 total time=   0.0s\n",
      "[CV 1/10] END leaf_size=30, n_neighbors=3, weights=uniform;, score=0.993 total time=   0.0s\n",
      "[CV 2/10] END leaf_size=30, n_neighbors=3, weights=uniform;, score=0.977 total time=   0.0s\n",
      "[CV 3/10] END leaf_size=30, n_neighbors=3, weights=uniform;, score=0.912 total time=   0.0s\n",
      "[CV 4/10] END leaf_size=30, n_neighbors=3, weights=uniform;, score=0.905 total time=   0.0s\n",
      "[CV 5/10] END leaf_size=30, n_neighbors=3, weights=uniform;, score=0.863 total time=   0.0s\n",
      "[CV 6/10] END leaf_size=30, n_neighbors=3, weights=uniform;, score=0.880 total time=   0.0s\n",
      "[CV 7/10] END leaf_size=30, n_neighbors=3, weights=uniform;, score=0.828 total time=   0.0s\n",
      "[CV 8/10] END leaf_size=30, n_neighbors=3, weights=uniform;, score=0.733 total time=   0.0s\n",
      "[CV 9/10] END leaf_size=30, n_neighbors=3, weights=uniform;, score=0.786 total time=   0.0s\n",
      "[CV 10/10] END leaf_size=30, n_neighbors=3, weights=uniform;, score=0.691 total time=   0.0s\n",
      "[CV 1/10] END leaf_size=30, n_neighbors=3, weights=distance;, score=0.993 total time=   0.0s\n",
      "[CV 2/10] END leaf_size=30, n_neighbors=3, weights=distance;, score=0.978 total time=   0.0s\n",
      "[CV 3/10] END leaf_size=30, n_neighbors=3, weights=distance;, score=0.913 total time=   0.0s\n",
      "[CV 4/10] END leaf_size=30, n_neighbors=3, weights=distance;, score=0.910 total time=   0.0s\n",
      "[CV 5/10] END leaf_size=30, n_neighbors=3, weights=distance;, score=0.867 total time=   0.0s\n",
      "[CV 6/10] END leaf_size=30, n_neighbors=3, weights=distance;, score=0.882 total time=   0.0s\n",
      "[CV 7/10] END leaf_size=30, n_neighbors=3, weights=distance;, score=0.832 total time=   0.0s\n",
      "[CV 8/10] END leaf_size=30, n_neighbors=3, weights=distance;, score=0.736 total time=   0.0s\n",
      "[CV 9/10] END leaf_size=30, n_neighbors=3, weights=distance;, score=0.789 total time=   0.0s\n",
      "[CV 10/10] END leaf_size=30, n_neighbors=3, weights=distance;, score=0.696 total time=   0.0s\n",
      "[CV 1/10] END leaf_size=30, n_neighbors=5, weights=uniform;, score=0.992 total time=   0.0s\n",
      "[CV 2/10] END leaf_size=30, n_neighbors=5, weights=uniform;, score=0.976 total time=   0.0s\n",
      "[CV 3/10] END leaf_size=30, n_neighbors=5, weights=uniform;, score=0.910 total time=   0.0s\n",
      "[CV 4/10] END leaf_size=30, n_neighbors=5, weights=uniform;, score=0.908 total time=   0.0s\n",
      "[CV 5/10] END leaf_size=30, n_neighbors=5, weights=uniform;, score=0.859 total time=   0.0s\n",
      "[CV 6/10] END leaf_size=30, n_neighbors=5, weights=uniform;, score=0.877 total time=   0.0s\n",
      "[CV 7/10] END leaf_size=30, n_neighbors=5, weights=uniform;, score=0.826 total time=   0.0s\n",
      "[CV 8/10] END leaf_size=30, n_neighbors=5, weights=uniform;, score=0.726 total time=   0.0s\n",
      "[CV 9/10] END leaf_size=30, n_neighbors=5, weights=uniform;, score=0.796 total time=   0.0s\n",
      "[CV 10/10] END leaf_size=30, n_neighbors=5, weights=uniform;, score=0.694 total time=   0.0s\n",
      "[CV 1/10] END leaf_size=30, n_neighbors=5, weights=distance;, score=0.993 total time=   0.0s\n",
      "[CV 2/10] END leaf_size=30, n_neighbors=5, weights=distance;, score=0.979 total time=   0.0s\n",
      "[CV 3/10] END leaf_size=30, n_neighbors=5, weights=distance;, score=0.914 total time=   0.0s\n",
      "[CV 4/10] END leaf_size=30, n_neighbors=5, weights=distance;, score=0.914 total time=   0.0s\n",
      "[CV 5/10] END leaf_size=30, n_neighbors=5, weights=distance;, score=0.868 total time=   0.0s\n",
      "[CV 6/10] END leaf_size=30, n_neighbors=5, weights=distance;, score=0.883 total time=   0.0s\n",
      "[CV 7/10] END leaf_size=30, n_neighbors=5, weights=distance;, score=0.834 total time=   0.0s\n",
      "[CV 8/10] END leaf_size=30, n_neighbors=5, weights=distance;, score=0.732 total time=   0.0s\n",
      "[CV 9/10] END leaf_size=30, n_neighbors=5, weights=distance;, score=0.800 total time=   0.0s\n",
      "[CV 10/10] END leaf_size=30, n_neighbors=5, weights=distance;, score=0.702 total time=   0.0s\n",
      "[CV 1/10] END leaf_size=30, n_neighbors=7, weights=uniform;, score=0.994 total time=   0.0s\n",
      "[CV 2/10] END leaf_size=30, n_neighbors=7, weights=uniform;, score=0.974 total time=   0.0s\n",
      "[CV 3/10] END leaf_size=30, n_neighbors=7, weights=uniform;, score=0.910 total time=   0.0s\n",
      "[CV 4/10] END leaf_size=30, n_neighbors=7, weights=uniform;, score=0.909 total time=   0.0s\n",
      "[CV 5/10] END leaf_size=30, n_neighbors=7, weights=uniform;, score=0.855 total time=   0.0s\n",
      "[CV 6/10] END leaf_size=30, n_neighbors=7, weights=uniform;, score=0.880 total time=   0.0s\n",
      "[CV 7/10] END leaf_size=30, n_neighbors=7, weights=uniform;, score=0.819 total time=   0.0s\n",
      "[CV 8/10] END leaf_size=30, n_neighbors=7, weights=uniform;, score=0.719 total time=   0.0s\n",
      "[CV 9/10] END leaf_size=30, n_neighbors=7, weights=uniform;, score=0.796 total time=   0.0s\n",
      "[CV 10/10] END leaf_size=30, n_neighbors=7, weights=uniform;, score=0.688 total time=   0.0s\n",
      "[CV 1/10] END leaf_size=30, n_neighbors=7, weights=distance;, score=0.995 total time=   0.0s\n",
      "[CV 2/10] END leaf_size=30, n_neighbors=7, weights=distance;, score=0.977 total time=   0.0s\n",
      "[CV 3/10] END leaf_size=30, n_neighbors=7, weights=distance;, score=0.915 total time=   0.0s\n",
      "[CV 4/10] END leaf_size=30, n_neighbors=7, weights=distance;, score=0.918 total time=   0.0s\n",
      "[CV 5/10] END leaf_size=30, n_neighbors=7, weights=distance;, score=0.866 total time=   0.0s\n",
      "[CV 6/10] END leaf_size=30, n_neighbors=7, weights=distance;, score=0.888 total time=   0.0s\n",
      "[CV 7/10] END leaf_size=30, n_neighbors=7, weights=distance;, score=0.831 total time=   0.0s\n",
      "[CV 8/10] END leaf_size=30, n_neighbors=7, weights=distance;, score=0.730 total time=   0.0s\n",
      "[CV 9/10] END leaf_size=30, n_neighbors=7, weights=distance;, score=0.803 total time=   0.0s\n",
      "[CV 10/10] END leaf_size=30, n_neighbors=7, weights=distance;, score=0.698 total time=   0.0s\n",
      "[CV 1/10] END leaf_size=30, n_neighbors=9, weights=uniform;, score=0.994 total time=   0.0s\n",
      "[CV 2/10] END leaf_size=30, n_neighbors=9, weights=uniform;, score=0.973 total time=   0.0s\n",
      "[CV 3/10] END leaf_size=30, n_neighbors=9, weights=uniform;, score=0.904 total time=   0.0s\n",
      "[CV 4/10] END leaf_size=30, n_neighbors=9, weights=uniform;, score=0.908 total time=   0.0s\n",
      "[CV 5/10] END leaf_size=30, n_neighbors=9, weights=uniform;, score=0.847 total time=   0.0s\n",
      "[CV 6/10] END leaf_size=30, n_neighbors=9, weights=uniform;, score=0.877 total time=   0.0s\n",
      "[CV 7/10] END leaf_size=30, n_neighbors=9, weights=uniform;, score=0.814 total time=   0.0s\n",
      "[CV 8/10] END leaf_size=30, n_neighbors=9, weights=uniform;, score=0.704 total time=   0.0s\n",
      "[CV 9/10] END leaf_size=30, n_neighbors=9, weights=uniform;, score=0.802 total time=   0.0s\n",
      "[CV 10/10] END leaf_size=30, n_neighbors=9, weights=uniform;, score=0.678 total time=   0.1s\n",
      "[CV 1/10] END leaf_size=30, n_neighbors=9, weights=distance;, score=0.995 total time=   0.0s\n",
      "[CV 2/10] END leaf_size=30, n_neighbors=9, weights=distance;, score=0.978 total time=   0.0s\n",
      "[CV 3/10] END leaf_size=30, n_neighbors=9, weights=distance;, score=0.913 total time=   0.0s\n",
      "[CV 4/10] END leaf_size=30, n_neighbors=9, weights=distance;, score=0.920 total time=   0.0s\n",
      "[CV 5/10] END leaf_size=30, n_neighbors=9, weights=distance;, score=0.862 total time=   0.0s\n",
      "[CV 6/10] END leaf_size=30, n_neighbors=9, weights=distance;, score=0.888 total time=   0.0s\n",
      "[CV 7/10] END leaf_size=30, n_neighbors=9, weights=distance;, score=0.830 total time=   0.0s\n",
      "[CV 8/10] END leaf_size=30, n_neighbors=9, weights=distance;, score=0.722 total time=   0.0s\n",
      "[CV 9/10] END leaf_size=30, n_neighbors=9, weights=distance;, score=0.813 total time=   0.0s\n",
      "[CV 10/10] END leaf_size=30, n_neighbors=9, weights=distance;, score=0.694 total time=   0.0s\n",
      "[CV 1/10] END leaf_size=30, n_neighbors=11, weights=uniform;, score=0.994 total time=   0.0s\n",
      "[CV 2/10] END leaf_size=30, n_neighbors=11, weights=uniform;, score=0.971 total time=   0.0s\n",
      "[CV 3/10] END leaf_size=30, n_neighbors=11, weights=uniform;, score=0.900 total time=   0.0s\n",
      "[CV 4/10] END leaf_size=30, n_neighbors=11, weights=uniform;, score=0.904 total time=   0.0s\n",
      "[CV 5/10] END leaf_size=30, n_neighbors=11, weights=uniform;, score=0.841 total time=   0.0s\n",
      "[CV 6/10] END leaf_size=30, n_neighbors=11, weights=uniform;, score=0.873 total time=   0.0s\n",
      "[CV 7/10] END leaf_size=30, n_neighbors=11, weights=uniform;, score=0.817 total time=   0.0s\n",
      "[CV 8/10] END leaf_size=30, n_neighbors=11, weights=uniform;, score=0.691 total time=   0.0s\n",
      "[CV 9/10] END leaf_size=30, n_neighbors=11, weights=uniform;, score=0.794 total time=   0.0s\n",
      "[CV 10/10] END leaf_size=30, n_neighbors=11, weights=uniform;, score=0.666 total time=   0.0s\n",
      "[CV 1/10] END leaf_size=30, n_neighbors=11, weights=distance;, score=0.995 total time=   0.0s\n",
      "[CV 2/10] END leaf_size=30, n_neighbors=11, weights=distance;, score=0.978 total time=   0.0s\n",
      "[CV 3/10] END leaf_size=30, n_neighbors=11, weights=distance;, score=0.911 total time=   0.0s\n",
      "[CV 4/10] END leaf_size=30, n_neighbors=11, weights=distance;, score=0.919 total time=   0.0s\n",
      "[CV 5/10] END leaf_size=30, n_neighbors=11, weights=distance;, score=0.860 total time=   0.0s\n",
      "[CV 6/10] END leaf_size=30, n_neighbors=11, weights=distance;, score=0.889 total time=   0.0s\n",
      "[CV 7/10] END leaf_size=30, n_neighbors=11, weights=distance;, score=0.838 total time=   0.0s\n",
      "[CV 8/10] END leaf_size=30, n_neighbors=11, weights=distance;, score=0.713 total time=   0.0s\n",
      "[CV 9/10] END leaf_size=30, n_neighbors=11, weights=distance;, score=0.812 total time=   0.0s\n",
      "[CV 10/10] END leaf_size=30, n_neighbors=11, weights=distance;, score=0.688 total time=   0.0s\n",
      "[CV 1/10] END leaf_size=30, n_neighbors=13, weights=uniform;, score=0.993 total time=   0.0s\n",
      "[CV 2/10] END leaf_size=30, n_neighbors=13, weights=uniform;, score=0.968 total time=   0.0s\n",
      "[CV 3/10] END leaf_size=30, n_neighbors=13, weights=uniform;, score=0.895 total time=   0.0s\n",
      "[CV 4/10] END leaf_size=30, n_neighbors=13, weights=uniform;, score=0.898 total time=   0.0s\n",
      "[CV 5/10] END leaf_size=30, n_neighbors=13, weights=uniform;, score=0.836 total time=   0.0s\n",
      "[CV 6/10] END leaf_size=30, n_neighbors=13, weights=uniform;, score=0.871 total time=   0.0s\n",
      "[CV 7/10] END leaf_size=30, n_neighbors=13, weights=uniform;, score=0.814 total time=   0.0s\n",
      "[CV 8/10] END leaf_size=30, n_neighbors=13, weights=uniform;, score=0.680 total time=   0.0s\n",
      "[CV 9/10] END leaf_size=30, n_neighbors=13, weights=uniform;, score=0.790 total time=   0.0s\n",
      "[CV 10/10] END leaf_size=30, n_neighbors=13, weights=uniform;, score=0.656 total time=   0.0s\n",
      "[CV 1/10] END leaf_size=30, n_neighbors=13, weights=distance;, score=0.995 total time=   0.0s\n",
      "[CV 2/10] END leaf_size=30, n_neighbors=13, weights=distance;, score=0.977 total time=   0.0s\n",
      "[CV 3/10] END leaf_size=30, n_neighbors=13, weights=distance;, score=0.909 total time=   0.0s\n",
      "[CV 4/10] END leaf_size=30, n_neighbors=13, weights=distance;, score=0.918 total time=   0.0s\n",
      "[CV 5/10] END leaf_size=30, n_neighbors=13, weights=distance;, score=0.860 total time=   0.0s\n",
      "[CV 6/10] END leaf_size=30, n_neighbors=13, weights=distance;, score=0.888 total time=   0.0s\n",
      "[CV 7/10] END leaf_size=30, n_neighbors=13, weights=distance;, score=0.840 total time=   0.0s\n",
      "[CV 8/10] END leaf_size=30, n_neighbors=13, weights=distance;, score=0.706 total time=   0.0s\n",
      "[CV 9/10] END leaf_size=30, n_neighbors=13, weights=distance;, score=0.813 total time=   0.0s\n",
      "[CV 10/10] END leaf_size=30, n_neighbors=13, weights=distance;, score=0.682 total time=   0.0s\n"
     ]
    },
    {
     "name": "stderr",
     "output_type": "stream",
     "text": [
      "100%|██████████| 3/3 [18:54:52<00:00, 22697.65s/it]   \n"
     ]
    }
   ],
   "source": [
    "from tqdm import tqdm\n",
    "def gridSearchCV(models,params,count):\n",
    "    best_models=[]\n",
    "    indexes = ['RF0','SVM','KNN']\n",
    "    for i,idx in zip (tqdm(range(0,count)), indexes):\n",
    "        model_grid = GridSearchCV(models[i], parameters[i], verbose=4, cv=10,refit=\"roc_auc\",\n",
    "                      scoring=\"roc_auc\")\n",
    "        model = model_grid.fit(x_all,y_all)\n",
    "        df = pd.DataFrame(model.cv_results_)\n",
    "        df.to_excel (f'{idx} Grid Search.xlsx')\n",
    "        best_models.append(model.best_estimator_)\n",
    "    return best_models\n",
    "\n",
    "best_model_list = gridSearchCV(classifiers,parameters,3)"
   ]
  },
  {
   "cell_type": "code",
   "execution_count": 79,
   "metadata": {},
   "outputs": [
    {
     "data": {
      "text/plain": [
       "[RandomForestClassifier(n_estimators=1200, random_state=0),\n",
       " SVC(C=2, gamma=0.009, probability=True, random_state=0),\n",
       " KNeighborsClassifier(leaf_size=20, n_neighbors=7, weights='distance')]"
      ]
     },
     "execution_count": 79,
     "metadata": {},
     "output_type": "execute_result"
    }
   ],
   "source": [
    "best_model_list"
   ]
  },
  {
   "cell_type": "code",
   "execution_count": 80,
   "metadata": {},
   "outputs": [],
   "source": [
    "vc1 = VotingClassifier(estimators=[('rf', best_model_list[0]), ('svm', best_model_list[1]), \n",
    "                                       ('knn', best_model_list[2])], \n",
    "                            voting='soft',weights=[1,1,1])\n",
    "\n",
    "vc2 = VotingClassifier(estimators=[('rf', best_model_list[0]), ('svm', best_model_list[1]), \n",
    "                                       ('knn', best_model_list[2])], \n",
    "                            voting='soft',weights=[2,1,1])"
   ]
  },
  {
   "cell_type": "code",
   "execution_count": 85,
   "metadata": {},
   "outputs": [],
   "source": [
    "index = ['1','2']\n",
    "ensamble = [vc1, vc2]\n",
    "for a,idx in zip(ensamble,index):\n",
    "    cv_result = cross_val_score(a,x_all,y_all, cv = 10, scoring='roc_auc')\n",
    "    cv = pd.DataFrame(cv_result)\n",
    "    cv.to_excel (f\"VC {idx} Grid Search.xlsx\")"
   ]
  },
  {
   "attachments": {},
   "cell_type": "markdown",
   "metadata": {},
   "source": [
    "# TRAINING MODEL"
   ]
  },
  {
   "cell_type": "code",
   "execution_count": 86,
   "metadata": {},
   "outputs": [],
   "source": [
    "# Wadah semua model\n",
    "est1 = []\n",
    "\n",
    "# Model Random Forest\n",
    "model1 = RandomForestClassifier (random_state=0, n_estimators= 800, criterion = 'entropy') \n",
    "est1.append(('RF',model1))\n",
    "\n",
    "# Model SVM\n",
    "model2 = SVC (random_state=0, gamma = 0.008, C = 1, probability=True)\n",
    "est1.append(('SVM',model2))\n",
    "\n",
    "# Model LR\n",
    "model3 = KNeighborsClassifier (n_neighbors = 11, weights= 'distance', leaf_size = 20)\n",
    "est1.append(('KNN',model3))\n",
    "\n",
    "# Wadah semua model\n",
    "est2 = []\n",
    "\n",
    "# Model Random Forest\n",
    "model1 = RandomForestClassifier (random_state=0, n_estimators= 750, criterion = 'entropy') \n",
    "est2.append(('RF',model1))\n",
    "\n",
    "# Model SVM\n",
    "model2 = SVC (random_state=0, gamma = 0.008, C = 1, probability=True)\n",
    "est2.append(('SVM',model2))\n",
    "\n",
    "# Model LR\n",
    "model3 = KNeighborsClassifier (n_neighbors = 11, weights= 'distance', leaf_size = 20)\n",
    "est2.append(('KNN',model3))\n",
    "\n",
    "# Wadah semua model\n",
    "est3 = []\n",
    "\n",
    "# Model Random Forest\n",
    "model1 = RandomForestClassifier (random_state=0, n_estimators= 1200, criterion = 'gini') \n",
    "est3.append(('RF',model1))\n",
    "\n",
    "# Model SVM\n",
    "model2 = SVC (random_state=0, C=2, gamma=0.009, probability=True)\n",
    "est3.append(('SVM',model2))\n",
    "\n",
    "# Model LR\n",
    "model3 = KNeighborsClassifier (leaf_size=20, n_neighbors=7, weights='distance')\n",
    "est3.append(('KNN',model3))\n",
    "\n",
    "\n",
    "# Wadah semua model\n",
    "est4 = []\n",
    "\n",
    "# Model Random Forest\n",
    "model1 = RandomForestClassifier (random_state=0, n_estimators= 750, criterion = 'entropy') \n",
    "est4.append(('RF',model1))\n",
    "\n",
    "# Model SVM\n",
    "model2 = SVC (random_state=0, gamma = 0.005, C = 1, probability=True)\n",
    "est4.append(('SVM',model2))\n",
    "\n",
    "# Model LR\n",
    "model3 = KNeighborsClassifier (n_neighbors = 11, weights= 'distance', leaf_size = 20)\n",
    "est4.append(('KNN',model3))\n",
    "\n",
    "#Ensemble\n",
    "e1 = VotingClassifier(est1, voting='soft', weights=[1,1,1])\n",
    "e2 = VotingClassifier(est2, voting='soft', weights=[1,1,1])\n",
    "e3 = VotingClassifier(est3, voting='soft', weights=[1,1,1])\n",
    "e4 = VotingClassifier(est4, voting='soft', weights=[1,1,1])\n",
    "e5 = VotingClassifier(est1, voting='soft', weights=[2,1,1])\n",
    "e6 = VotingClassifier(est2, voting='soft', weights=[2,1,1])\n",
    "e7 = VotingClassifier(est3, voting='soft', weights=[2,1,1])\n",
    "e8 = VotingClassifier(est4, voting='soft', weights=[2,1,1])"
   ]
  },
  {
   "cell_type": "code",
   "execution_count": 89,
   "metadata": {},
   "outputs": [],
   "source": [
    "ensembles = [e7]\n",
    "indexes = [\"3.7\"]\n",
    "komposisi = 3\n",
    "for ens, idxs in zip(ensembles, indexes):\n",
    "    ensemble = ens\n",
    "    CV90 = ensemble.fit(x_train90, y_train90)\n",
    "    joblib.dump(CV90, f\"{idxs} Komposisi {komposisi}.joblib\")"
   ]
  },
  {
   "cell_type": "code",
   "execution_count": 92,
   "metadata": {},
   "outputs": [
    {
     "ename": "OSError",
     "evalue": "[Errno 28] No space left on device",
     "output_type": "error",
     "traceback": [
      "\u001b[1;31m---------------------------------------------------------------------------\u001b[0m",
      "\u001b[1;31mOSError\u001b[0m                                   Traceback (most recent call last)",
      "Cell \u001b[1;32mIn[92], line 25\u001b[0m\n\u001b[0;32m     22\u001b[0m y_pred4_90 \u001b[39m=\u001b[39m RSRF90\u001b[39m.\u001b[39mpredict(x_test10)\n\u001b[0;32m     24\u001b[0m joblib\u001b[39m.\u001b[39mdump(RSRF80, \u001b[39mf\u001b[39m\u001b[39m\"\u001b[39m\u001b[39m{\u001b[39;00midxs\u001b[39m}\u001b[39;00m\u001b[39m 80 Komposisi 3.joblib\u001b[39m\u001b[39m\"\u001b[39m)\n\u001b[1;32m---> 25\u001b[0m joblib\u001b[39m.\u001b[39;49mdump(RSRF90, \u001b[39mf\u001b[39;49m\u001b[39m\"\u001b[39;49m\u001b[39m{\u001b[39;49;00midxs\u001b[39m}\u001b[39;49;00m\u001b[39m 90 Komposisi 3.joblib\u001b[39;49m\u001b[39m\"\u001b[39;49m)\n\u001b[0;32m     27\u001b[0m matrix1_10 \u001b[39m=\u001b[39m confusion_matrix(y_test90, y_pred4_10)\n\u001b[0;32m     28\u001b[0m tn_10, fp_10, fn_10, tp_10 \u001b[39m=\u001b[39m matrix1_10\u001b[39m.\u001b[39mravel()\n",
      "File \u001b[1;32m~\\AppData\\Local\\Packages\\PythonSoftwareFoundation.Python.3.11_qbz5n2kfra8p0\\LocalCache\\local-packages\\Python311\\site-packages\\joblib\\numpy_pickle.py:553\u001b[0m, in \u001b[0;36mdump\u001b[1;34m(value, filename, compress, protocol, cache_size)\u001b[0m\n\u001b[0;32m    551\u001b[0m \u001b[39melif\u001b[39;00m is_filename:\n\u001b[0;32m    552\u001b[0m     \u001b[39mwith\u001b[39;00m \u001b[39mopen\u001b[39m(filename, \u001b[39m'\u001b[39m\u001b[39mwb\u001b[39m\u001b[39m'\u001b[39m) \u001b[39mas\u001b[39;00m f:\n\u001b[1;32m--> 553\u001b[0m         NumpyPickler(f, protocol\u001b[39m=\u001b[39;49mprotocol)\u001b[39m.\u001b[39;49mdump(value)\n\u001b[0;32m    554\u001b[0m \u001b[39melse\u001b[39;00m:\n\u001b[0;32m    555\u001b[0m     NumpyPickler(filename, protocol\u001b[39m=\u001b[39mprotocol)\u001b[39m.\u001b[39mdump(value)\n",
      "File \u001b[1;32mC:\\Program Files\\WindowsApps\\PythonSoftwareFoundation.Python.3.11_3.11.1008.0_x64__qbz5n2kfra8p0\\Lib\\pickle.py:487\u001b[0m, in \u001b[0;36m_Pickler.dump\u001b[1;34m(self, obj)\u001b[0m\n\u001b[0;32m    485\u001b[0m \u001b[39mif\u001b[39;00m \u001b[39mself\u001b[39m\u001b[39m.\u001b[39mproto \u001b[39m>\u001b[39m\u001b[39m=\u001b[39m \u001b[39m4\u001b[39m:\n\u001b[0;32m    486\u001b[0m     \u001b[39mself\u001b[39m\u001b[39m.\u001b[39mframer\u001b[39m.\u001b[39mstart_framing()\n\u001b[1;32m--> 487\u001b[0m \u001b[39mself\u001b[39;49m\u001b[39m.\u001b[39;49msave(obj)\n\u001b[0;32m    488\u001b[0m \u001b[39mself\u001b[39m\u001b[39m.\u001b[39mwrite(STOP)\n\u001b[0;32m    489\u001b[0m \u001b[39mself\u001b[39m\u001b[39m.\u001b[39mframer\u001b[39m.\u001b[39mend_framing()\n",
      "File \u001b[1;32m~\\AppData\\Local\\Packages\\PythonSoftwareFoundation.Python.3.11_qbz5n2kfra8p0\\LocalCache\\local-packages\\Python311\\site-packages\\joblib\\numpy_pickle.py:355\u001b[0m, in \u001b[0;36mNumpyPickler.save\u001b[1;34m(self, obj)\u001b[0m\n\u001b[0;32m    352\u001b[0m     wrapper\u001b[39m.\u001b[39mwrite_array(obj, \u001b[39mself\u001b[39m)\n\u001b[0;32m    353\u001b[0m     \u001b[39mreturn\u001b[39;00m\n\u001b[1;32m--> 355\u001b[0m \u001b[39mreturn\u001b[39;00m Pickler\u001b[39m.\u001b[39;49msave(\u001b[39mself\u001b[39;49m, obj)\n",
      "File \u001b[1;32mC:\\Program Files\\WindowsApps\\PythonSoftwareFoundation.Python.3.11_3.11.1008.0_x64__qbz5n2kfra8p0\\Lib\\pickle.py:603\u001b[0m, in \u001b[0;36m_Pickler.save\u001b[1;34m(self, obj, save_persistent_id)\u001b[0m\n\u001b[0;32m    599\u001b[0m     \u001b[39mraise\u001b[39;00m PicklingError(\u001b[39m\"\u001b[39m\u001b[39mTuple returned by \u001b[39m\u001b[39m%s\u001b[39;00m\u001b[39m must have \u001b[39m\u001b[39m\"\u001b[39m\n\u001b[0;32m    600\u001b[0m                         \u001b[39m\"\u001b[39m\u001b[39mtwo to six elements\u001b[39m\u001b[39m\"\u001b[39m \u001b[39m%\u001b[39m reduce)\n\u001b[0;32m    602\u001b[0m \u001b[39m# Save the reduce() output and finally memoize the object\u001b[39;00m\n\u001b[1;32m--> 603\u001b[0m \u001b[39mself\u001b[39;49m\u001b[39m.\u001b[39;49msave_reduce(obj\u001b[39m=\u001b[39;49mobj, \u001b[39m*\u001b[39;49mrv)\n",
      "File \u001b[1;32mC:\\Program Files\\WindowsApps\\PythonSoftwareFoundation.Python.3.11_3.11.1008.0_x64__qbz5n2kfra8p0\\Lib\\pickle.py:717\u001b[0m, in \u001b[0;36m_Pickler.save_reduce\u001b[1;34m(self, func, args, state, listitems, dictitems, state_setter, obj)\u001b[0m\n\u001b[0;32m    715\u001b[0m \u001b[39mif\u001b[39;00m state \u001b[39mis\u001b[39;00m \u001b[39mnot\u001b[39;00m \u001b[39mNone\u001b[39;00m:\n\u001b[0;32m    716\u001b[0m     \u001b[39mif\u001b[39;00m state_setter \u001b[39mis\u001b[39;00m \u001b[39mNone\u001b[39;00m:\n\u001b[1;32m--> 717\u001b[0m         save(state)\n\u001b[0;32m    718\u001b[0m         write(BUILD)\n\u001b[0;32m    719\u001b[0m     \u001b[39melse\u001b[39;00m:\n\u001b[0;32m    720\u001b[0m         \u001b[39m# If a state_setter is specified, call it instead of load_build\u001b[39;00m\n\u001b[0;32m    721\u001b[0m         \u001b[39m# to update obj's with its previous state.\u001b[39;00m\n\u001b[0;32m    722\u001b[0m         \u001b[39m# First, push state_setter and its tuple of expected arguments\u001b[39;00m\n\u001b[0;32m    723\u001b[0m         \u001b[39m# (obj, state) onto the stack.\u001b[39;00m\n",
      "File \u001b[1;32m~\\AppData\\Local\\Packages\\PythonSoftwareFoundation.Python.3.11_qbz5n2kfra8p0\\LocalCache\\local-packages\\Python311\\site-packages\\joblib\\numpy_pickle.py:355\u001b[0m, in \u001b[0;36mNumpyPickler.save\u001b[1;34m(self, obj)\u001b[0m\n\u001b[0;32m    352\u001b[0m     wrapper\u001b[39m.\u001b[39mwrite_array(obj, \u001b[39mself\u001b[39m)\n\u001b[0;32m    353\u001b[0m     \u001b[39mreturn\u001b[39;00m\n\u001b[1;32m--> 355\u001b[0m \u001b[39mreturn\u001b[39;00m Pickler\u001b[39m.\u001b[39;49msave(\u001b[39mself\u001b[39;49m, obj)\n",
      "File \u001b[1;32mC:\\Program Files\\WindowsApps\\PythonSoftwareFoundation.Python.3.11_3.11.1008.0_x64__qbz5n2kfra8p0\\Lib\\pickle.py:560\u001b[0m, in \u001b[0;36m_Pickler.save\u001b[1;34m(self, obj, save_persistent_id)\u001b[0m\n\u001b[0;32m    558\u001b[0m f \u001b[39m=\u001b[39m \u001b[39mself\u001b[39m\u001b[39m.\u001b[39mdispatch\u001b[39m.\u001b[39mget(t)\n\u001b[0;32m    559\u001b[0m \u001b[39mif\u001b[39;00m f \u001b[39mis\u001b[39;00m \u001b[39mnot\u001b[39;00m \u001b[39mNone\u001b[39;00m:\n\u001b[1;32m--> 560\u001b[0m     f(\u001b[39mself\u001b[39;49m, obj)  \u001b[39m# Call unbound method with explicit self\u001b[39;00m\n\u001b[0;32m    561\u001b[0m     \u001b[39mreturn\u001b[39;00m\n\u001b[0;32m    563\u001b[0m \u001b[39m# Check private dispatch table if any, or else\u001b[39;00m\n\u001b[0;32m    564\u001b[0m \u001b[39m# copyreg.dispatch_table\u001b[39;00m\n",
      "File \u001b[1;32mC:\\Program Files\\WindowsApps\\PythonSoftwareFoundation.Python.3.11_3.11.1008.0_x64__qbz5n2kfra8p0\\Lib\\pickle.py:972\u001b[0m, in \u001b[0;36m_Pickler.save_dict\u001b[1;34m(self, obj)\u001b[0m\n\u001b[0;32m    969\u001b[0m     \u001b[39mself\u001b[39m\u001b[39m.\u001b[39mwrite(MARK \u001b[39m+\u001b[39m DICT)\n\u001b[0;32m    971\u001b[0m \u001b[39mself\u001b[39m\u001b[39m.\u001b[39mmemoize(obj)\n\u001b[1;32m--> 972\u001b[0m \u001b[39mself\u001b[39;49m\u001b[39m.\u001b[39;49m_batch_setitems(obj\u001b[39m.\u001b[39;49mitems())\n",
      "File \u001b[1;32mC:\\Program Files\\WindowsApps\\PythonSoftwareFoundation.Python.3.11_3.11.1008.0_x64__qbz5n2kfra8p0\\Lib\\pickle.py:998\u001b[0m, in \u001b[0;36m_Pickler._batch_setitems\u001b[1;34m(self, items)\u001b[0m\n\u001b[0;32m    996\u001b[0m     \u001b[39mfor\u001b[39;00m k, v \u001b[39min\u001b[39;00m tmp:\n\u001b[0;32m    997\u001b[0m         save(k)\n\u001b[1;32m--> 998\u001b[0m         save(v)\n\u001b[0;32m    999\u001b[0m     write(SETITEMS)\n\u001b[0;32m   1000\u001b[0m \u001b[39melif\u001b[39;00m n:\n",
      "File \u001b[1;32m~\\AppData\\Local\\Packages\\PythonSoftwareFoundation.Python.3.11_qbz5n2kfra8p0\\LocalCache\\local-packages\\Python311\\site-packages\\joblib\\numpy_pickle.py:355\u001b[0m, in \u001b[0;36mNumpyPickler.save\u001b[1;34m(self, obj)\u001b[0m\n\u001b[0;32m    352\u001b[0m     wrapper\u001b[39m.\u001b[39mwrite_array(obj, \u001b[39mself\u001b[39m)\n\u001b[0;32m    353\u001b[0m     \u001b[39mreturn\u001b[39;00m\n\u001b[1;32m--> 355\u001b[0m \u001b[39mreturn\u001b[39;00m Pickler\u001b[39m.\u001b[39;49msave(\u001b[39mself\u001b[39;49m, obj)\n",
      "File \u001b[1;32mC:\\Program Files\\WindowsApps\\PythonSoftwareFoundation.Python.3.11_3.11.1008.0_x64__qbz5n2kfra8p0\\Lib\\pickle.py:560\u001b[0m, in \u001b[0;36m_Pickler.save\u001b[1;34m(self, obj, save_persistent_id)\u001b[0m\n\u001b[0;32m    558\u001b[0m f \u001b[39m=\u001b[39m \u001b[39mself\u001b[39m\u001b[39m.\u001b[39mdispatch\u001b[39m.\u001b[39mget(t)\n\u001b[0;32m    559\u001b[0m \u001b[39mif\u001b[39;00m f \u001b[39mis\u001b[39;00m \u001b[39mnot\u001b[39;00m \u001b[39mNone\u001b[39;00m:\n\u001b[1;32m--> 560\u001b[0m     f(\u001b[39mself\u001b[39;49m, obj)  \u001b[39m# Call unbound method with explicit self\u001b[39;00m\n\u001b[0;32m    561\u001b[0m     \u001b[39mreturn\u001b[39;00m\n\u001b[0;32m    563\u001b[0m \u001b[39m# Check private dispatch table if any, or else\u001b[39;00m\n\u001b[0;32m    564\u001b[0m \u001b[39m# copyreg.dispatch_table\u001b[39;00m\n",
      "File \u001b[1;32mC:\\Program Files\\WindowsApps\\PythonSoftwareFoundation.Python.3.11_3.11.1008.0_x64__qbz5n2kfra8p0\\Lib\\pickle.py:932\u001b[0m, in \u001b[0;36m_Pickler.save_list\u001b[1;34m(self, obj)\u001b[0m\n\u001b[0;32m    929\u001b[0m     \u001b[39mself\u001b[39m\u001b[39m.\u001b[39mwrite(MARK \u001b[39m+\u001b[39m LIST)\n\u001b[0;32m    931\u001b[0m \u001b[39mself\u001b[39m\u001b[39m.\u001b[39mmemoize(obj)\n\u001b[1;32m--> 932\u001b[0m \u001b[39mself\u001b[39;49m\u001b[39m.\u001b[39;49m_batch_appends(obj)\n",
      "File \u001b[1;32mC:\\Program Files\\WindowsApps\\PythonSoftwareFoundation.Python.3.11_3.11.1008.0_x64__qbz5n2kfra8p0\\Lib\\pickle.py:956\u001b[0m, in \u001b[0;36m_Pickler._batch_appends\u001b[1;34m(self, items)\u001b[0m\n\u001b[0;32m    954\u001b[0m     write(MARK)\n\u001b[0;32m    955\u001b[0m     \u001b[39mfor\u001b[39;00m x \u001b[39min\u001b[39;00m tmp:\n\u001b[1;32m--> 956\u001b[0m         save(x)\n\u001b[0;32m    957\u001b[0m     write(APPENDS)\n\u001b[0;32m    958\u001b[0m \u001b[39melif\u001b[39;00m n:\n",
      "File \u001b[1;32m~\\AppData\\Local\\Packages\\PythonSoftwareFoundation.Python.3.11_qbz5n2kfra8p0\\LocalCache\\local-packages\\Python311\\site-packages\\joblib\\numpy_pickle.py:355\u001b[0m, in \u001b[0;36mNumpyPickler.save\u001b[1;34m(self, obj)\u001b[0m\n\u001b[0;32m    352\u001b[0m     wrapper\u001b[39m.\u001b[39mwrite_array(obj, \u001b[39mself\u001b[39m)\n\u001b[0;32m    353\u001b[0m     \u001b[39mreturn\u001b[39;00m\n\u001b[1;32m--> 355\u001b[0m \u001b[39mreturn\u001b[39;00m Pickler\u001b[39m.\u001b[39;49msave(\u001b[39mself\u001b[39;49m, obj)\n",
      "File \u001b[1;32mC:\\Program Files\\WindowsApps\\PythonSoftwareFoundation.Python.3.11_3.11.1008.0_x64__qbz5n2kfra8p0\\Lib\\pickle.py:603\u001b[0m, in \u001b[0;36m_Pickler.save\u001b[1;34m(self, obj, save_persistent_id)\u001b[0m\n\u001b[0;32m    599\u001b[0m     \u001b[39mraise\u001b[39;00m PicklingError(\u001b[39m\"\u001b[39m\u001b[39mTuple returned by \u001b[39m\u001b[39m%s\u001b[39;00m\u001b[39m must have \u001b[39m\u001b[39m\"\u001b[39m\n\u001b[0;32m    600\u001b[0m                         \u001b[39m\"\u001b[39m\u001b[39mtwo to six elements\u001b[39m\u001b[39m\"\u001b[39m \u001b[39m%\u001b[39m reduce)\n\u001b[0;32m    602\u001b[0m \u001b[39m# Save the reduce() output and finally memoize the object\u001b[39;00m\n\u001b[1;32m--> 603\u001b[0m \u001b[39mself\u001b[39;49m\u001b[39m.\u001b[39;49msave_reduce(obj\u001b[39m=\u001b[39;49mobj, \u001b[39m*\u001b[39;49mrv)\n",
      "File \u001b[1;32mC:\\Program Files\\WindowsApps\\PythonSoftwareFoundation.Python.3.11_3.11.1008.0_x64__qbz5n2kfra8p0\\Lib\\pickle.py:717\u001b[0m, in \u001b[0;36m_Pickler.save_reduce\u001b[1;34m(self, func, args, state, listitems, dictitems, state_setter, obj)\u001b[0m\n\u001b[0;32m    715\u001b[0m \u001b[39mif\u001b[39;00m state \u001b[39mis\u001b[39;00m \u001b[39mnot\u001b[39;00m \u001b[39mNone\u001b[39;00m:\n\u001b[0;32m    716\u001b[0m     \u001b[39mif\u001b[39;00m state_setter \u001b[39mis\u001b[39;00m \u001b[39mNone\u001b[39;00m:\n\u001b[1;32m--> 717\u001b[0m         save(state)\n\u001b[0;32m    718\u001b[0m         write(BUILD)\n\u001b[0;32m    719\u001b[0m     \u001b[39melse\u001b[39;00m:\n\u001b[0;32m    720\u001b[0m         \u001b[39m# If a state_setter is specified, call it instead of load_build\u001b[39;00m\n\u001b[0;32m    721\u001b[0m         \u001b[39m# to update obj's with its previous state.\u001b[39;00m\n\u001b[0;32m    722\u001b[0m         \u001b[39m# First, push state_setter and its tuple of expected arguments\u001b[39;00m\n\u001b[0;32m    723\u001b[0m         \u001b[39m# (obj, state) onto the stack.\u001b[39;00m\n",
      "File \u001b[1;32m~\\AppData\\Local\\Packages\\PythonSoftwareFoundation.Python.3.11_qbz5n2kfra8p0\\LocalCache\\local-packages\\Python311\\site-packages\\joblib\\numpy_pickle.py:355\u001b[0m, in \u001b[0;36mNumpyPickler.save\u001b[1;34m(self, obj)\u001b[0m\n\u001b[0;32m    352\u001b[0m     wrapper\u001b[39m.\u001b[39mwrite_array(obj, \u001b[39mself\u001b[39m)\n\u001b[0;32m    353\u001b[0m     \u001b[39mreturn\u001b[39;00m\n\u001b[1;32m--> 355\u001b[0m \u001b[39mreturn\u001b[39;00m Pickler\u001b[39m.\u001b[39;49msave(\u001b[39mself\u001b[39;49m, obj)\n",
      "File \u001b[1;32mC:\\Program Files\\WindowsApps\\PythonSoftwareFoundation.Python.3.11_3.11.1008.0_x64__qbz5n2kfra8p0\\Lib\\pickle.py:560\u001b[0m, in \u001b[0;36m_Pickler.save\u001b[1;34m(self, obj, save_persistent_id)\u001b[0m\n\u001b[0;32m    558\u001b[0m f \u001b[39m=\u001b[39m \u001b[39mself\u001b[39m\u001b[39m.\u001b[39mdispatch\u001b[39m.\u001b[39mget(t)\n\u001b[0;32m    559\u001b[0m \u001b[39mif\u001b[39;00m f \u001b[39mis\u001b[39;00m \u001b[39mnot\u001b[39;00m \u001b[39mNone\u001b[39;00m:\n\u001b[1;32m--> 560\u001b[0m     f(\u001b[39mself\u001b[39;49m, obj)  \u001b[39m# Call unbound method with explicit self\u001b[39;00m\n\u001b[0;32m    561\u001b[0m     \u001b[39mreturn\u001b[39;00m\n\u001b[0;32m    563\u001b[0m \u001b[39m# Check private dispatch table if any, or else\u001b[39;00m\n\u001b[0;32m    564\u001b[0m \u001b[39m# copyreg.dispatch_table\u001b[39;00m\n",
      "File \u001b[1;32mC:\\Program Files\\WindowsApps\\PythonSoftwareFoundation.Python.3.11_3.11.1008.0_x64__qbz5n2kfra8p0\\Lib\\pickle.py:972\u001b[0m, in \u001b[0;36m_Pickler.save_dict\u001b[1;34m(self, obj)\u001b[0m\n\u001b[0;32m    969\u001b[0m     \u001b[39mself\u001b[39m\u001b[39m.\u001b[39mwrite(MARK \u001b[39m+\u001b[39m DICT)\n\u001b[0;32m    971\u001b[0m \u001b[39mself\u001b[39m\u001b[39m.\u001b[39mmemoize(obj)\n\u001b[1;32m--> 972\u001b[0m \u001b[39mself\u001b[39;49m\u001b[39m.\u001b[39;49m_batch_setitems(obj\u001b[39m.\u001b[39;49mitems())\n",
      "File \u001b[1;32mC:\\Program Files\\WindowsApps\\PythonSoftwareFoundation.Python.3.11_3.11.1008.0_x64__qbz5n2kfra8p0\\Lib\\pickle.py:998\u001b[0m, in \u001b[0;36m_Pickler._batch_setitems\u001b[1;34m(self, items)\u001b[0m\n\u001b[0;32m    996\u001b[0m     \u001b[39mfor\u001b[39;00m k, v \u001b[39min\u001b[39;00m tmp:\n\u001b[0;32m    997\u001b[0m         save(k)\n\u001b[1;32m--> 998\u001b[0m         save(v)\n\u001b[0;32m    999\u001b[0m     write(SETITEMS)\n\u001b[0;32m   1000\u001b[0m \u001b[39melif\u001b[39;00m n:\n",
      "File \u001b[1;32m~\\AppData\\Local\\Packages\\PythonSoftwareFoundation.Python.3.11_qbz5n2kfra8p0\\LocalCache\\local-packages\\Python311\\site-packages\\joblib\\numpy_pickle.py:355\u001b[0m, in \u001b[0;36mNumpyPickler.save\u001b[1;34m(self, obj)\u001b[0m\n\u001b[0;32m    352\u001b[0m     wrapper\u001b[39m.\u001b[39mwrite_array(obj, \u001b[39mself\u001b[39m)\n\u001b[0;32m    353\u001b[0m     \u001b[39mreturn\u001b[39;00m\n\u001b[1;32m--> 355\u001b[0m \u001b[39mreturn\u001b[39;00m Pickler\u001b[39m.\u001b[39;49msave(\u001b[39mself\u001b[39;49m, obj)\n",
      "File \u001b[1;32mC:\\Program Files\\WindowsApps\\PythonSoftwareFoundation.Python.3.11_3.11.1008.0_x64__qbz5n2kfra8p0\\Lib\\pickle.py:560\u001b[0m, in \u001b[0;36m_Pickler.save\u001b[1;34m(self, obj, save_persistent_id)\u001b[0m\n\u001b[0;32m    558\u001b[0m f \u001b[39m=\u001b[39m \u001b[39mself\u001b[39m\u001b[39m.\u001b[39mdispatch\u001b[39m.\u001b[39mget(t)\n\u001b[0;32m    559\u001b[0m \u001b[39mif\u001b[39;00m f \u001b[39mis\u001b[39;00m \u001b[39mnot\u001b[39;00m \u001b[39mNone\u001b[39;00m:\n\u001b[1;32m--> 560\u001b[0m     f(\u001b[39mself\u001b[39;49m, obj)  \u001b[39m# Call unbound method with explicit self\u001b[39;00m\n\u001b[0;32m    561\u001b[0m     \u001b[39mreturn\u001b[39;00m\n\u001b[0;32m    563\u001b[0m \u001b[39m# Check private dispatch table if any, or else\u001b[39;00m\n\u001b[0;32m    564\u001b[0m \u001b[39m# copyreg.dispatch_table\u001b[39;00m\n",
      "File \u001b[1;32mC:\\Program Files\\WindowsApps\\PythonSoftwareFoundation.Python.3.11_3.11.1008.0_x64__qbz5n2kfra8p0\\Lib\\pickle.py:932\u001b[0m, in \u001b[0;36m_Pickler.save_list\u001b[1;34m(self, obj)\u001b[0m\n\u001b[0;32m    929\u001b[0m     \u001b[39mself\u001b[39m\u001b[39m.\u001b[39mwrite(MARK \u001b[39m+\u001b[39m LIST)\n\u001b[0;32m    931\u001b[0m \u001b[39mself\u001b[39m\u001b[39m.\u001b[39mmemoize(obj)\n\u001b[1;32m--> 932\u001b[0m \u001b[39mself\u001b[39;49m\u001b[39m.\u001b[39;49m_batch_appends(obj)\n",
      "File \u001b[1;32mC:\\Program Files\\WindowsApps\\PythonSoftwareFoundation.Python.3.11_3.11.1008.0_x64__qbz5n2kfra8p0\\Lib\\pickle.py:956\u001b[0m, in \u001b[0;36m_Pickler._batch_appends\u001b[1;34m(self, items)\u001b[0m\n\u001b[0;32m    954\u001b[0m     write(MARK)\n\u001b[0;32m    955\u001b[0m     \u001b[39mfor\u001b[39;00m x \u001b[39min\u001b[39;00m tmp:\n\u001b[1;32m--> 956\u001b[0m         save(x)\n\u001b[0;32m    957\u001b[0m     write(APPENDS)\n\u001b[0;32m    958\u001b[0m \u001b[39melif\u001b[39;00m n:\n",
      "File \u001b[1;32m~\\AppData\\Local\\Packages\\PythonSoftwareFoundation.Python.3.11_qbz5n2kfra8p0\\LocalCache\\local-packages\\Python311\\site-packages\\joblib\\numpy_pickle.py:355\u001b[0m, in \u001b[0;36mNumpyPickler.save\u001b[1;34m(self, obj)\u001b[0m\n\u001b[0;32m    352\u001b[0m     wrapper\u001b[39m.\u001b[39mwrite_array(obj, \u001b[39mself\u001b[39m)\n\u001b[0;32m    353\u001b[0m     \u001b[39mreturn\u001b[39;00m\n\u001b[1;32m--> 355\u001b[0m \u001b[39mreturn\u001b[39;00m Pickler\u001b[39m.\u001b[39;49msave(\u001b[39mself\u001b[39;49m, obj)\n",
      "File \u001b[1;32mC:\\Program Files\\WindowsApps\\PythonSoftwareFoundation.Python.3.11_3.11.1008.0_x64__qbz5n2kfra8p0\\Lib\\pickle.py:603\u001b[0m, in \u001b[0;36m_Pickler.save\u001b[1;34m(self, obj, save_persistent_id)\u001b[0m\n\u001b[0;32m    599\u001b[0m     \u001b[39mraise\u001b[39;00m PicklingError(\u001b[39m\"\u001b[39m\u001b[39mTuple returned by \u001b[39m\u001b[39m%s\u001b[39;00m\u001b[39m must have \u001b[39m\u001b[39m\"\u001b[39m\n\u001b[0;32m    600\u001b[0m                         \u001b[39m\"\u001b[39m\u001b[39mtwo to six elements\u001b[39m\u001b[39m\"\u001b[39m \u001b[39m%\u001b[39m reduce)\n\u001b[0;32m    602\u001b[0m \u001b[39m# Save the reduce() output and finally memoize the object\u001b[39;00m\n\u001b[1;32m--> 603\u001b[0m \u001b[39mself\u001b[39;49m\u001b[39m.\u001b[39;49msave_reduce(obj\u001b[39m=\u001b[39;49mobj, \u001b[39m*\u001b[39;49mrv)\n",
      "File \u001b[1;32mC:\\Program Files\\WindowsApps\\PythonSoftwareFoundation.Python.3.11_3.11.1008.0_x64__qbz5n2kfra8p0\\Lib\\pickle.py:717\u001b[0m, in \u001b[0;36m_Pickler.save_reduce\u001b[1;34m(self, func, args, state, listitems, dictitems, state_setter, obj)\u001b[0m\n\u001b[0;32m    715\u001b[0m \u001b[39mif\u001b[39;00m state \u001b[39mis\u001b[39;00m \u001b[39mnot\u001b[39;00m \u001b[39mNone\u001b[39;00m:\n\u001b[0;32m    716\u001b[0m     \u001b[39mif\u001b[39;00m state_setter \u001b[39mis\u001b[39;00m \u001b[39mNone\u001b[39;00m:\n\u001b[1;32m--> 717\u001b[0m         save(state)\n\u001b[0;32m    718\u001b[0m         write(BUILD)\n\u001b[0;32m    719\u001b[0m     \u001b[39melse\u001b[39;00m:\n\u001b[0;32m    720\u001b[0m         \u001b[39m# If a state_setter is specified, call it instead of load_build\u001b[39;00m\n\u001b[0;32m    721\u001b[0m         \u001b[39m# to update obj's with its previous state.\u001b[39;00m\n\u001b[0;32m    722\u001b[0m         \u001b[39m# First, push state_setter and its tuple of expected arguments\u001b[39;00m\n\u001b[0;32m    723\u001b[0m         \u001b[39m# (obj, state) onto the stack.\u001b[39;00m\n",
      "File \u001b[1;32m~\\AppData\\Local\\Packages\\PythonSoftwareFoundation.Python.3.11_qbz5n2kfra8p0\\LocalCache\\local-packages\\Python311\\site-packages\\joblib\\numpy_pickle.py:355\u001b[0m, in \u001b[0;36mNumpyPickler.save\u001b[1;34m(self, obj)\u001b[0m\n\u001b[0;32m    352\u001b[0m     wrapper\u001b[39m.\u001b[39mwrite_array(obj, \u001b[39mself\u001b[39m)\n\u001b[0;32m    353\u001b[0m     \u001b[39mreturn\u001b[39;00m\n\u001b[1;32m--> 355\u001b[0m \u001b[39mreturn\u001b[39;00m Pickler\u001b[39m.\u001b[39;49msave(\u001b[39mself\u001b[39;49m, obj)\n",
      "File \u001b[1;32mC:\\Program Files\\WindowsApps\\PythonSoftwareFoundation.Python.3.11_3.11.1008.0_x64__qbz5n2kfra8p0\\Lib\\pickle.py:560\u001b[0m, in \u001b[0;36m_Pickler.save\u001b[1;34m(self, obj, save_persistent_id)\u001b[0m\n\u001b[0;32m    558\u001b[0m f \u001b[39m=\u001b[39m \u001b[39mself\u001b[39m\u001b[39m.\u001b[39mdispatch\u001b[39m.\u001b[39mget(t)\n\u001b[0;32m    559\u001b[0m \u001b[39mif\u001b[39;00m f \u001b[39mis\u001b[39;00m \u001b[39mnot\u001b[39;00m \u001b[39mNone\u001b[39;00m:\n\u001b[1;32m--> 560\u001b[0m     f(\u001b[39mself\u001b[39;49m, obj)  \u001b[39m# Call unbound method with explicit self\u001b[39;00m\n\u001b[0;32m    561\u001b[0m     \u001b[39mreturn\u001b[39;00m\n\u001b[0;32m    563\u001b[0m \u001b[39m# Check private dispatch table if any, or else\u001b[39;00m\n\u001b[0;32m    564\u001b[0m \u001b[39m# copyreg.dispatch_table\u001b[39;00m\n",
      "File \u001b[1;32mC:\\Program Files\\WindowsApps\\PythonSoftwareFoundation.Python.3.11_3.11.1008.0_x64__qbz5n2kfra8p0\\Lib\\pickle.py:972\u001b[0m, in \u001b[0;36m_Pickler.save_dict\u001b[1;34m(self, obj)\u001b[0m\n\u001b[0;32m    969\u001b[0m     \u001b[39mself\u001b[39m\u001b[39m.\u001b[39mwrite(MARK \u001b[39m+\u001b[39m DICT)\n\u001b[0;32m    971\u001b[0m \u001b[39mself\u001b[39m\u001b[39m.\u001b[39mmemoize(obj)\n\u001b[1;32m--> 972\u001b[0m \u001b[39mself\u001b[39;49m\u001b[39m.\u001b[39;49m_batch_setitems(obj\u001b[39m.\u001b[39;49mitems())\n",
      "File \u001b[1;32mC:\\Program Files\\WindowsApps\\PythonSoftwareFoundation.Python.3.11_3.11.1008.0_x64__qbz5n2kfra8p0\\Lib\\pickle.py:998\u001b[0m, in \u001b[0;36m_Pickler._batch_setitems\u001b[1;34m(self, items)\u001b[0m\n\u001b[0;32m    996\u001b[0m     \u001b[39mfor\u001b[39;00m k, v \u001b[39min\u001b[39;00m tmp:\n\u001b[0;32m    997\u001b[0m         save(k)\n\u001b[1;32m--> 998\u001b[0m         save(v)\n\u001b[0;32m    999\u001b[0m     write(SETITEMS)\n\u001b[0;32m   1000\u001b[0m \u001b[39melif\u001b[39;00m n:\n",
      "    \u001b[1;31m[... skipping similar frames: NumpyPickler.save at line 355 (1 times)]\u001b[0m\n",
      "File \u001b[1;32mC:\\Program Files\\WindowsApps\\PythonSoftwareFoundation.Python.3.11_3.11.1008.0_x64__qbz5n2kfra8p0\\Lib\\pickle.py:603\u001b[0m, in \u001b[0;36m_Pickler.save\u001b[1;34m(self, obj, save_persistent_id)\u001b[0m\n\u001b[0;32m    599\u001b[0m     \u001b[39mraise\u001b[39;00m PicklingError(\u001b[39m\"\u001b[39m\u001b[39mTuple returned by \u001b[39m\u001b[39m%s\u001b[39;00m\u001b[39m must have \u001b[39m\u001b[39m\"\u001b[39m\n\u001b[0;32m    600\u001b[0m                         \u001b[39m\"\u001b[39m\u001b[39mtwo to six elements\u001b[39m\u001b[39m\"\u001b[39m \u001b[39m%\u001b[39m reduce)\n\u001b[0;32m    602\u001b[0m \u001b[39m# Save the reduce() output and finally memoize the object\u001b[39;00m\n\u001b[1;32m--> 603\u001b[0m \u001b[39mself\u001b[39;49m\u001b[39m.\u001b[39;49msave_reduce(obj\u001b[39m=\u001b[39;49mobj, \u001b[39m*\u001b[39;49mrv)\n",
      "File \u001b[1;32mC:\\Program Files\\WindowsApps\\PythonSoftwareFoundation.Python.3.11_3.11.1008.0_x64__qbz5n2kfra8p0\\Lib\\pickle.py:717\u001b[0m, in \u001b[0;36m_Pickler.save_reduce\u001b[1;34m(self, func, args, state, listitems, dictitems, state_setter, obj)\u001b[0m\n\u001b[0;32m    715\u001b[0m \u001b[39mif\u001b[39;00m state \u001b[39mis\u001b[39;00m \u001b[39mnot\u001b[39;00m \u001b[39mNone\u001b[39;00m:\n\u001b[0;32m    716\u001b[0m     \u001b[39mif\u001b[39;00m state_setter \u001b[39mis\u001b[39;00m \u001b[39mNone\u001b[39;00m:\n\u001b[1;32m--> 717\u001b[0m         save(state)\n\u001b[0;32m    718\u001b[0m         write(BUILD)\n\u001b[0;32m    719\u001b[0m     \u001b[39melse\u001b[39;00m:\n\u001b[0;32m    720\u001b[0m         \u001b[39m# If a state_setter is specified, call it instead of load_build\u001b[39;00m\n\u001b[0;32m    721\u001b[0m         \u001b[39m# to update obj's with its previous state.\u001b[39;00m\n\u001b[0;32m    722\u001b[0m         \u001b[39m# First, push state_setter and its tuple of expected arguments\u001b[39;00m\n\u001b[0;32m    723\u001b[0m         \u001b[39m# (obj, state) onto the stack.\u001b[39;00m\n",
      "File \u001b[1;32m~\\AppData\\Local\\Packages\\PythonSoftwareFoundation.Python.3.11_qbz5n2kfra8p0\\LocalCache\\local-packages\\Python311\\site-packages\\joblib\\numpy_pickle.py:355\u001b[0m, in \u001b[0;36mNumpyPickler.save\u001b[1;34m(self, obj)\u001b[0m\n\u001b[0;32m    352\u001b[0m     wrapper\u001b[39m.\u001b[39mwrite_array(obj, \u001b[39mself\u001b[39m)\n\u001b[0;32m    353\u001b[0m     \u001b[39mreturn\u001b[39;00m\n\u001b[1;32m--> 355\u001b[0m \u001b[39mreturn\u001b[39;00m Pickler\u001b[39m.\u001b[39;49msave(\u001b[39mself\u001b[39;49m, obj)\n",
      "File \u001b[1;32mC:\\Program Files\\WindowsApps\\PythonSoftwareFoundation.Python.3.11_3.11.1008.0_x64__qbz5n2kfra8p0\\Lib\\pickle.py:560\u001b[0m, in \u001b[0;36m_Pickler.save\u001b[1;34m(self, obj, save_persistent_id)\u001b[0m\n\u001b[0;32m    558\u001b[0m f \u001b[39m=\u001b[39m \u001b[39mself\u001b[39m\u001b[39m.\u001b[39mdispatch\u001b[39m.\u001b[39mget(t)\n\u001b[0;32m    559\u001b[0m \u001b[39mif\u001b[39;00m f \u001b[39mis\u001b[39;00m \u001b[39mnot\u001b[39;00m \u001b[39mNone\u001b[39;00m:\n\u001b[1;32m--> 560\u001b[0m     f(\u001b[39mself\u001b[39;49m, obj)  \u001b[39m# Call unbound method with explicit self\u001b[39;00m\n\u001b[0;32m    561\u001b[0m     \u001b[39mreturn\u001b[39;00m\n\u001b[0;32m    563\u001b[0m \u001b[39m# Check private dispatch table if any, or else\u001b[39;00m\n\u001b[0;32m    564\u001b[0m \u001b[39m# copyreg.dispatch_table\u001b[39;00m\n",
      "File \u001b[1;32mC:\\Program Files\\WindowsApps\\PythonSoftwareFoundation.Python.3.11_3.11.1008.0_x64__qbz5n2kfra8p0\\Lib\\pickle.py:972\u001b[0m, in \u001b[0;36m_Pickler.save_dict\u001b[1;34m(self, obj)\u001b[0m\n\u001b[0;32m    969\u001b[0m     \u001b[39mself\u001b[39m\u001b[39m.\u001b[39mwrite(MARK \u001b[39m+\u001b[39m DICT)\n\u001b[0;32m    971\u001b[0m \u001b[39mself\u001b[39m\u001b[39m.\u001b[39mmemoize(obj)\n\u001b[1;32m--> 972\u001b[0m \u001b[39mself\u001b[39;49m\u001b[39m.\u001b[39;49m_batch_setitems(obj\u001b[39m.\u001b[39;49mitems())\n",
      "File \u001b[1;32mC:\\Program Files\\WindowsApps\\PythonSoftwareFoundation.Python.3.11_3.11.1008.0_x64__qbz5n2kfra8p0\\Lib\\pickle.py:998\u001b[0m, in \u001b[0;36m_Pickler._batch_setitems\u001b[1;34m(self, items)\u001b[0m\n\u001b[0;32m    996\u001b[0m     \u001b[39mfor\u001b[39;00m k, v \u001b[39min\u001b[39;00m tmp:\n\u001b[0;32m    997\u001b[0m         save(k)\n\u001b[1;32m--> 998\u001b[0m         save(v)\n\u001b[0;32m    999\u001b[0m     write(SETITEMS)\n\u001b[0;32m   1000\u001b[0m \u001b[39melif\u001b[39;00m n:\n",
      "File \u001b[1;32m~\\AppData\\Local\\Packages\\PythonSoftwareFoundation.Python.3.11_qbz5n2kfra8p0\\LocalCache\\local-packages\\Python311\\site-packages\\joblib\\numpy_pickle.py:352\u001b[0m, in \u001b[0;36mNumpyPickler.save\u001b[1;34m(self, obj)\u001b[0m\n\u001b[0;32m    349\u001b[0m         \u001b[39mself\u001b[39m\u001b[39m.\u001b[39mframer\u001b[39m.\u001b[39mcommit_frame(force\u001b[39m=\u001b[39m\u001b[39mTrue\u001b[39;00m)\n\u001b[0;32m    351\u001b[0m     \u001b[39m# And then array bytes are written right after the wrapper.\u001b[39;00m\n\u001b[1;32m--> 352\u001b[0m     wrapper\u001b[39m.\u001b[39;49mwrite_array(obj, \u001b[39mself\u001b[39;49m)\n\u001b[0;32m    353\u001b[0m     \u001b[39mreturn\u001b[39;00m\n\u001b[0;32m    355\u001b[0m \u001b[39mreturn\u001b[39;00m Pickler\u001b[39m.\u001b[39msave(\u001b[39mself\u001b[39m, obj)\n",
      "File \u001b[1;32m~\\AppData\\Local\\Packages\\PythonSoftwareFoundation.Python.3.11_qbz5n2kfra8p0\\LocalCache\\local-packages\\Python311\\site-packages\\joblib\\numpy_pickle.py:134\u001b[0m, in \u001b[0;36mNumpyArrayWrapper.write_array\u001b[1;34m(self, array, pickler)\u001b[0m\n\u001b[0;32m    126\u001b[0m         pickler\u001b[39m.\u001b[39mfile_handle\u001b[39m.\u001b[39mwrite(padding)\n\u001b[0;32m    128\u001b[0m \u001b[39mfor\u001b[39;00m chunk \u001b[39min\u001b[39;00m pickler\u001b[39m.\u001b[39mnp\u001b[39m.\u001b[39mnditer(array,\n\u001b[0;32m    129\u001b[0m                                flags\u001b[39m=\u001b[39m[\u001b[39m'\u001b[39m\u001b[39mexternal_loop\u001b[39m\u001b[39m'\u001b[39m,\n\u001b[0;32m    130\u001b[0m                                       \u001b[39m'\u001b[39m\u001b[39mbuffered\u001b[39m\u001b[39m'\u001b[39m,\n\u001b[0;32m    131\u001b[0m                                       \u001b[39m'\u001b[39m\u001b[39mzerosize_ok\u001b[39m\u001b[39m'\u001b[39m],\n\u001b[0;32m    132\u001b[0m                                buffersize\u001b[39m=\u001b[39mbuffersize,\n\u001b[0;32m    133\u001b[0m                                order\u001b[39m=\u001b[39m\u001b[39mself\u001b[39m\u001b[39m.\u001b[39morder):\n\u001b[1;32m--> 134\u001b[0m     pickler\u001b[39m.\u001b[39mfile_handle\u001b[39m.\u001b[39mwrite(chunk\u001b[39m.\u001b[39mtobytes(\u001b[39m'\u001b[39m\u001b[39mC\u001b[39m\u001b[39m'\u001b[39m))\n",
      "\u001b[1;31mOSError\u001b[0m: [Errno 28] No space left on device"
     ]
    }
   ],
   "source": [
    "ensembles = [e7]\n",
    "indexes = [\"3.7\"]\n",
    "for ens, idxs in zip(ensembles, indexes):\n",
    "    ensemble = ens\n",
    "    RSRF10 = ensemble.fit(x_train10, y_train10)\n",
    "    y_pred4_10 = RSRF10.predict(x_test90)\n",
    "    RSRF20 = ensemble.fit(x_train20, y_train20)\n",
    "    y_pred4_20 = RSRF20.predict(x_test80)\n",
    "    RSRF30 = ensemble.fit(x_train30, y_train30)\n",
    "    y_pred4_30 = RSRF30.predict(x_test70)\n",
    "    RSRF40 = ensemble.fit(x_train40, y_train40)\n",
    "    y_pred4_40 = RSRF40.predict(x_test60)\n",
    "    RSRF50 = ensemble.fit(x_train50, y_train50)\n",
    "    y_pred4_50 = RSRF50.predict(x_test50)\n",
    "    RSRF60 = ensemble.fit(x_train60, y_train60)\n",
    "    y_pred4_60 = RSRF60.predict(x_test40)\n",
    "    RSRF70 = ensemble.fit(x_train70, y_train70)\n",
    "    y_pred4_70 = RSRF70.predict(x_test30)\n",
    "    RSRF80 = ensemble.fit(x_train80, y_train80)\n",
    "    y_pred4_80 = RSRF80.predict(x_test20)\n",
    "    RSRF90 = ensemble.fit(x_train90, y_train90)\n",
    "    y_pred4_90 = RSRF90.predict(x_test10)\n",
    "\n",
    "    joblib.dump(RSRF80, f\"{idxs} 80 Komposisi 3.joblib\")\n",
    "    joblib.dump(RSRF90, f\"{idxs} 90 Komposisi 3.joblib\")\n",
    "\n",
    "    matrix1_10 = confusion_matrix(y_test90, y_pred4_10)\n",
    "    tn_10, fp_10, fn_10, tp_10 = matrix1_10.ravel()\n",
    "    matrix1_20 = confusion_matrix(y_test80, y_pred4_20)\n",
    "    tn_20, fp_20, fn_20, tp_20 = matrix1_20.ravel()\n",
    "    matrix1_30 = confusion_matrix(y_test70, y_pred4_30)\n",
    "    tn_30, fp_30, fn_30, tp_30 = matrix1_30.ravel()\n",
    "    matrix1_40 = confusion_matrix(y_test60, y_pred4_40)\n",
    "    tn_40, fp_40, fn_40, tp_40 = matrix1_40.ravel()\n",
    "    matrix1_50 = confusion_matrix(y_test50, y_pred4_50)\n",
    "    tn_50, fp_50, fn_50, tp_50 = matrix1_50.ravel()\n",
    "    matrix1_60 = confusion_matrix(y_test40, y_pred4_60)\n",
    "    tn_60, fp_60, fn_60, tp_60 = matrix1_60.ravel()\n",
    "    matrix1_70 = confusion_matrix(y_test30, y_pred4_70)\n",
    "    tn_70, fp_70, fn_70, tp_70 = matrix1_70.ravel()\n",
    "    matrix1_80 = confusion_matrix(y_test20, y_pred4_80)\n",
    "    tn_80, fp_80, fn_80, tp_80 = matrix1_80.ravel()\n",
    "    matrix1_90 = confusion_matrix(y_test10, y_pred4_90)\n",
    "    tn_90, fp_90, fn_90, tp_90 = matrix1_90.ravel()\n",
    "\n",
    "    confusion10 = (tn_10, fp_10, fn_10, tp_10)\n",
    "    confusion20 = (tn_20, fp_20, fn_20, tp_20)\n",
    "    confusion30 = (tn_30, fp_30, fn_30, tp_30)\n",
    "    confusion40 = (tn_40, fp_40, fn_40, tp_40)\n",
    "    confusion50 = (tn_50, fp_50, fn_50, tp_50)\n",
    "    confusion60 = (tn_60, fp_60, fn_60, tp_60)\n",
    "    confusion70 = (tn_70, fp_70, fn_70, tp_70)\n",
    "    confusion80 = (tn_80, fp_80, fn_80, tp_80)\n",
    "    confusion90 = (tn_90, fp_90, fn_90, tp_90)\n",
    "\n",
    "    confusion = pd.DataFrame(np.array([confusion10, confusion20, confusion30, confusion40, confusion50, confusion60, confusion70, confusion80, confusion90]),index=[10,20,30,40,50,60,70,80,90], columns=['TN','FP','FN','TP'])\n",
    "    confusion.to_excel(f'{idxs} Confusion.xlsx')\n",
    "    \n",
    "    fpr_10, tpr_10, threshhold_10 = roc_curve(y_test90, y_pred4_10)\n",
    "    fpr_20, tpr_20, threshhold_20 = roc_curve(y_test80, y_pred4_20)\n",
    "    fpr_30, tpr_30, threshhold_30 = roc_curve(y_test70, y_pred4_30)\n",
    "    fpr_40, tpr_40, threshhold_40 = roc_curve(y_test60, y_pred4_40)\n",
    "    fpr_50, tpr_50, threshhold_50 = roc_curve(y_test50, y_pred4_50)\n",
    "    fpr_60, tpr_60, threshhold_60 = roc_curve(y_test40, y_pred4_60)\n",
    "    fpr_70, tpr_70, threshhold_70 = roc_curve(y_test30, y_pred4_70)\n",
    "    fpr_80, tpr_80, threshhold_80 = roc_curve(y_test20, y_pred4_80)\n",
    "    fpr_90, tpr_90, threshhold_90 = roc_curve(y_test10, y_pred4_90)\n",
    "\n",
    "    nilai_auc_10 = auc(fpr_10, tpr_10)\n",
    "    nilai_auc_20 = auc(fpr_20, tpr_20)\n",
    "    nilai_auc_30 = auc(fpr_30, tpr_30)\n",
    "    nilai_auc_40 = auc(fpr_40, tpr_40)\n",
    "    nilai_auc_50 = auc(fpr_50, tpr_50)\n",
    "    nilai_auc_60 = auc(fpr_60, tpr_60)\n",
    "    nilai_auc_70 = auc(fpr_70, tpr_70)\n",
    "    nilai_auc_80 = auc(fpr_80, tpr_80)\n",
    "    nilai_auc_90 = auc(fpr_90, tpr_90)\n",
    "\n",
    "    plt.plot(fpr_10, tpr_10, 'b', label=f'AUC_10={nilai_auc_10}')\n",
    "    plt.plot(fpr_20, tpr_20, 'r', label=f'AUC_20={nilai_auc_20}')\n",
    "    plt.plot(fpr_30, tpr_30, 'g', label=f'AUC_30={nilai_auc_30}')\n",
    "    plt.plot(fpr_40, tpr_40, 'y', label=f'AUC_40={nilai_auc_40}')\n",
    "    plt.plot(fpr_50, tpr_50, 'p', label=f'AUC_50={nilai_auc_50}')\n",
    "    plt.plot(fpr_60, tpr_60, 'c', label=f'AUC_60={nilai_auc_60}')\n",
    "    plt.plot(fpr_70, tpr_70, 'b', label=f'AUC_70={nilai_auc_70}')\n",
    "    plt.plot(fpr_80, tpr_80, 'o', label=f'AUC_80={nilai_auc_80}')\n",
    "    plt.plot(fpr_90, tpr_90, 'r', label=f'AUC_90={nilai_auc_90}')\n",
    "\n",
    "    plt.plot([0, 1], [0, 1], 'r--', label=\"Random Classifier\")\n",
    "    plt.title('ROC: Receiver Operating Characteristics')\n",
    "    plt.xlabel('Fallout or False Positive Rate')\n",
    "    plt.ylabel('Recall or True Positive Rate')\n",
    "    plt.legend()\n",
    "    plt.savefig(f'{idxs} ROC.png')\n",
    "    plt.clf()\n",
    "\n",
    "    data_auc = {'10:90':nilai_auc_10,'20:80':nilai_auc_20,'30:70':nilai_auc_30,'40:60':nilai_auc_40,'50:50':nilai_auc_50,'60:40':nilai_auc_60,'70:30':nilai_auc_70,'80:20':nilai_auc_80,'90:10':nilai_auc_90}\n",
    "    proporsi = list(data_auc.keys())\n",
    "    nilai_auc = list(data_auc.values())\n",
    "    AUC = pd.DataFrame(nilai_auc).T\n",
    "    AUC.to_excel(f\"{idxs} AUC.xlsx\")\n",
    "\n",
    "    plt.bar(proporsi, nilai_auc)\n",
    "    plt.title('NILAI AUC PROPORSI 5557:8800')\n",
    "    plt.xlabel('Proporsi')\n",
    "    plt.ylabel('AUC')\n",
    "    plt.savefig(f'{idxs} AUC.png')\n",
    "    plt.clf()\n",
    "\n",
    "    x_all = np.concatenate((Xn,Xp))\n",
    "    y_all = np.concatenate((Yn,Yp))\n",
    "    y_all = y_all.flatten()\n",
    "    cv_result = cross_val_score(ensemble,x_all, y_all, cv = 10, scoring='roc_auc')\n",
    "    cv = pd.DataFrame(cv_result).T\n",
    "    cv.to_excel(f\"{idxs} CV.xlsx\")"
   ]
  },
  {
   "cell_type": "markdown",
   "metadata": {},
   "source": [
    "# TRAINING MODEL SINGLE"
   ]
  },
  {
   "cell_type": "code",
   "execution_count": 69,
   "metadata": {},
   "outputs": [],
   "source": [
    "# Wadah semua model\n",
    "estimators = []\n",
    "\n",
    "# Model Random Forest\n",
    "model1 = RandomForestClassifier (random_state=0,n_estimators = 800, criterion = 'entropy', max_features = 'sqrt') \n",
    "estimators.append(('RF',model1))\n",
    "\n",
    "# Model SVM\n",
    "model2 = SVC (random_state=0, kernel = 'rbf', gamma = 0.008, C = 1, probability=True)\n",
    "estimators.append(('SVM',model2))\n",
    "\n",
    "# Model LR\n",
    "model3 = KNeighborsClassifier (n_neighbors = 11, weights = 'distance', leaf_size = 20)\n",
    "estimators.append(('LR',model3))\n",
    "\n",
    "#Ensemble\n",
    "ensemble = VotingClassifier(estimators, voting='soft', weights=[2,1,1])"
   ]
  },
  {
   "attachments": {},
   "cell_type": "markdown",
   "metadata": {},
   "source": [
    "Proporsi 10 : 90"
   ]
  },
  {
   "cell_type": "code",
   "execution_count": 310,
   "metadata": {},
   "outputs": [],
   "source": [
    "ensemble_10 = ensemble.fit(x_train10, y_train10)\n",
    "y_pred4_10 = ensemble_10.predict(x_test90)"
   ]
  },
  {
   "attachments": {},
   "cell_type": "markdown",
   "metadata": {},
   "source": [
    "Proporsi 20 : 80"
   ]
  },
  {
   "cell_type": "code",
   "execution_count": 311,
   "metadata": {},
   "outputs": [],
   "source": [
    "ensemble_20 = ensemble.fit(x_train20, y_train20)\n",
    "y_pred4_20 = ensemble_20.predict(x_test80)"
   ]
  },
  {
   "attachments": {},
   "cell_type": "markdown",
   "metadata": {},
   "source": [
    "Proporsi 30 : 70"
   ]
  },
  {
   "cell_type": "code",
   "execution_count": 312,
   "metadata": {},
   "outputs": [],
   "source": [
    "ensemble_30 = ensemble.fit(x_train30, y_train30)\n",
    "y_pred4_30 = ensemble_30.predict(x_test70)"
   ]
  },
  {
   "attachments": {},
   "cell_type": "markdown",
   "metadata": {},
   "source": [
    "Proporsi 40 : 60"
   ]
  },
  {
   "cell_type": "code",
   "execution_count": 313,
   "metadata": {},
   "outputs": [],
   "source": [
    "ensemble_40 = ensemble.fit(x_train40, y_train40)\n",
    "y_pred4_40 = ensemble_40.predict(x_test60)"
   ]
  },
  {
   "attachments": {},
   "cell_type": "markdown",
   "metadata": {},
   "source": [
    "Proporsi 50 : 50"
   ]
  },
  {
   "cell_type": "code",
   "execution_count": 314,
   "metadata": {},
   "outputs": [],
   "source": [
    "ensemble_50 = ensemble.fit(x_train50, y_train50)\n",
    "y_pred4_50 = ensemble_50.predict(x_test50)"
   ]
  },
  {
   "attachments": {},
   "cell_type": "markdown",
   "metadata": {},
   "source": [
    "Proporsi 60 : 40"
   ]
  },
  {
   "cell_type": "code",
   "execution_count": 315,
   "metadata": {},
   "outputs": [],
   "source": [
    "ensemble_60 = ensemble.fit(x_train60, y_train60)\n",
    "y_pred4_60 = ensemble_60.predict(x_test40)"
   ]
  },
  {
   "attachments": {},
   "cell_type": "markdown",
   "metadata": {},
   "source": [
    "Proporsi 70 : 30"
   ]
  },
  {
   "cell_type": "code",
   "execution_count": 316,
   "metadata": {},
   "outputs": [],
   "source": [
    "ensemble_70 = ensemble.fit(x_train70, y_train70)\n",
    "y_pred4_70 = ensemble_70.predict(x_test30)"
   ]
  },
  {
   "attachments": {},
   "cell_type": "markdown",
   "metadata": {},
   "source": [
    "Proporsi 80 : 20"
   ]
  },
  {
   "cell_type": "code",
   "execution_count": 317,
   "metadata": {},
   "outputs": [],
   "source": [
    "ensemble_80 = ensemble.fit(x_train80, y_train80)\n",
    "y_pred4_80 = ensemble_80.predict(x_test20)"
   ]
  },
  {
   "attachments": {},
   "cell_type": "markdown",
   "metadata": {},
   "source": [
    "Proporsi 90 : 10"
   ]
  },
  {
   "cell_type": "code",
   "execution_count": 70,
   "metadata": {},
   "outputs": [],
   "source": [
    "ensemble_90 = ensemble.fit(x_train90, y_train90)\n",
    "y_pred4_90 = ensemble_90.predict(x_test10)"
   ]
  },
  {
   "attachments": {},
   "cell_type": "markdown",
   "metadata": {},
   "source": [
    "MENYIMPAN MODUL"
   ]
  },
  {
   "cell_type": "code",
   "execution_count": 71,
   "metadata": {},
   "outputs": [
    {
     "data": {
      "text/plain": [
       "['VC.3.1.joblib']"
      ]
     },
     "execution_count": 71,
     "metadata": {},
     "output_type": "execute_result"
    }
   ],
   "source": [
    "joblib.dump(ensemble_90, 'VC.3.1.joblib')"
   ]
  },
  {
   "attachments": {},
   "cell_type": "markdown",
   "metadata": {},
   "source": [
    "Confussion Matrix"
   ]
  },
  {
   "cell_type": "code",
   "execution_count": 319,
   "metadata": {},
   "outputs": [
    {
     "data": {
      "image/png": "[encoded data removed]",
      "text/plain": [
       "<Figure size 640x480 with 2 Axes>"
      ]
     },
     "metadata": {},
     "output_type": "display_data"
    }
   ],
   "source": [
    "ConfusionMatrixDisplay.from_predictions(y_test90, y_pred4_10, \n",
    "                                        cmap=\"Blues\", \n",
    "                                        display_labels=[\"Non-landslide\", \"landslide\"])\n",
    "\n",
    "plt.title('Confusion matrix of the Voting classifier')\n",
    "plt.show()"
   ]
  },
  {
   "cell_type": "code",
   "execution_count": 320,
   "metadata": {},
   "outputs": [
    {
     "name": "stdout",
     "output_type": "stream",
     "text": [
      "TN: 6926\n",
      "FP: 994\n",
      "FN: 756\n",
      "TP: 4246\n"
     ]
    }
   ],
   "source": [
    "matrix1_10 = confusion_matrix(y_test90, y_pred4_10)\n",
    "tn_10, fp_10, fn_10, tp_10 = matrix1_10.ravel()\n",
    "\n",
    "print(f'TN: {tn_10}')\n",
    "print(f'FP: {fp_10}')\n",
    "print(f'FN: {fn_10}')\n",
    "print(f'TP: {tp_10}')"
   ]
  },
  {
   "cell_type": "code",
   "execution_count": 321,
   "metadata": {},
   "outputs": [
    {
     "data": {
      "image/png": "[encoded data removed]",
      "text/plain": [
       "<Figure size 640x480 with 2 Axes>"
      ]
     },
     "metadata": {},
     "output_type": "display_data"
    }
   ],
   "source": [
    "ConfusionMatrixDisplay.from_predictions(y_test80, y_pred4_20, \n",
    "                                        cmap=\"Blues\", \n",
    "                                        display_labels=[\"Non-landslide\", \"landslide\"])\n",
    "\n",
    "plt.title('Confusion matrix of the Voting classifier')\n",
    "plt.show()"
   ]
  },
  {
   "cell_type": "code",
   "execution_count": 322,
   "metadata": {},
   "outputs": [
    {
     "name": "stdout",
     "output_type": "stream",
     "text": [
      "TN: 6320\n",
      "FP: 720\n",
      "FN: 404\n",
      "TP: 4042\n"
     ]
    }
   ],
   "source": [
    "matrix1_20 = confusion_matrix(y_test80, y_pred4_20)\n",
    "tn_20, fp_20, fn_20, tp_20 = matrix1_20.ravel()\n",
    "\n",
    "print(f'TN: {tn_20}')\n",
    "print(f'FP: {fp_20}')\n",
    "print(f'FN: {fn_20}')\n",
    "print(f'TP: {tp_20}')"
   ]
  },
  {
   "cell_type": "code",
   "execution_count": 323,
   "metadata": {},
   "outputs": [
    {
     "data": {
      "image/png": "[encoded data removed]",
      "text/plain": [
       "<Figure size 640x480 with 2 Axes>"
      ]
     },
     "metadata": {},
     "output_type": "display_data"
    }
   ],
   "source": [
    "ConfusionMatrixDisplay.from_predictions(y_test70, y_pred4_30, \n",
    "                                        cmap=\"Blues\", \n",
    "                                        display_labels=[\"Non-landslide\", \"landslide\"])\n",
    "\n",
    "plt.title('Confusion matrix of the Voting classifier')\n",
    "plt.show()"
   ]
  },
  {
   "cell_type": "code",
   "execution_count": 324,
   "metadata": {},
   "outputs": [
    {
     "name": "stdout",
     "output_type": "stream",
     "text": [
      "TN: 5593\n",
      "FP: 567\n",
      "FN: 269\n",
      "TP: 3621\n"
     ]
    }
   ],
   "source": [
    "matrix1_30 = confusion_matrix(y_test70, y_pred4_30)\n",
    "tn_30, fp_30, fn_30, tp_30 = matrix1_30.ravel()\n",
    "\n",
    "print(f'TN: {tn_30}')\n",
    "print(f'FP: {fp_30}')\n",
    "print(f'FN: {fn_30}')\n",
    "print(f'TP: {tp_30}')"
   ]
  },
  {
   "cell_type": "code",
   "execution_count": 325,
   "metadata": {},
   "outputs": [
    {
     "data": {
      "image/png": "[encoded data removed]",
      "text/plain": [
       "<Figure size 640x480 with 2 Axes>"
      ]
     },
     "metadata": {},
     "output_type": "display_data"
    }
   ],
   "source": [
    "ConfusionMatrixDisplay.from_predictions(y_test60, y_pred4_40, \n",
    "                                        cmap=\"Blues\", \n",
    "                                        display_labels=[\"Non-landslide\", \"landslide\"])\n",
    "\n",
    "plt.title('Confusion matrix of the Voting classifier')\n",
    "plt.show()"
   ]
  },
  {
   "cell_type": "code",
   "execution_count": 326,
   "metadata": {},
   "outputs": [
    {
     "name": "stdout",
     "output_type": "stream",
     "text": [
      "TN: 4842\n",
      "FP: 438\n",
      "FN: 173\n",
      "TP: 3162\n"
     ]
    }
   ],
   "source": [
    "matrix1_40 = confusion_matrix(y_test60, y_pred4_40)\n",
    "tn_40, fp_40, fn_40, tp_40 = matrix1_40.ravel()\n",
    "\n",
    "print(f'TN: {tn_40}')\n",
    "print(f'FP: {fp_40}')\n",
    "print(f'FN: {fn_40}')\n",
    "print(f'TP: {tp_40}')"
   ]
  },
  {
   "cell_type": "code",
   "execution_count": 327,
   "metadata": {},
   "outputs": [
    {
     "data": {
      "image/png": "[encoded data removed]",
      "text/plain": [
       "<Figure size 640x480 with 2 Axes>"
      ]
     },
     "metadata": {},
     "output_type": "display_data"
    }
   ],
   "source": [
    "ConfusionMatrixDisplay.from_predictions(y_test50, y_pred4_50, \n",
    "                                        cmap=\"Blues\", \n",
    "                                        display_labels=[\"Non-landslide\", \"landslide\"])\n",
    "\n",
    "plt.title('Confusion matrix of the Voting classifier')\n",
    "plt.show()"
   ]
  },
  {
   "cell_type": "code",
   "execution_count": 328,
   "metadata": {},
   "outputs": [
    {
     "name": "stdout",
     "output_type": "stream",
     "text": [
      "TN: 4087\n",
      "FP: 313\n",
      "FN: 123\n",
      "TP: 2656\n"
     ]
    }
   ],
   "source": [
    "matrix1_50 = confusion_matrix(y_test50, y_pred4_50)\n",
    "tn_50, fp_50, fn_50, tp_50 = matrix1_50.ravel()\n",
    "\n",
    "print(f'TN: {tn_50}')\n",
    "print(f'FP: {fp_50}')\n",
    "print(f'FN: {fn_50}')\n",
    "print(f'TP: {tp_50}')"
   ]
  },
  {
   "cell_type": "code",
   "execution_count": 329,
   "metadata": {},
   "outputs": [
    {
     "data": {
      "image/png": "[encoded data removed]",
      "text/plain": [
       "<Figure size 640x480 with 2 Axes>"
      ]
     },
     "metadata": {},
     "output_type": "display_data"
    }
   ],
   "source": [
    "ConfusionMatrixDisplay.from_predictions(y_test40, y_pred4_60, \n",
    "                                        cmap=\"Blues\", \n",
    "                                        display_labels=[\"Non-landslide\", \"landslide\"])\n",
    "\n",
    "plt.title('Confusion matrix of the Voting classifier')\n",
    "plt.show()"
   ]
  },
  {
   "cell_type": "code",
   "execution_count": 330,
   "metadata": {},
   "outputs": [
    {
     "name": "stdout",
     "output_type": "stream",
     "text": [
      "TN: 3287\n",
      "FP: 233\n",
      "FN: 80\n",
      "TP: 2143\n"
     ]
    }
   ],
   "source": [
    "matrix1_60 = confusion_matrix(y_test40, y_pred4_60)\n",
    "tn_60, fp_60, fn_60, tp_60 = matrix1_60.ravel()\n",
    "\n",
    "print(f'TN: {tn_60}')\n",
    "print(f'FP: {fp_60}')\n",
    "print(f'FN: {fn_60}')\n",
    "print(f'TP: {tp_60}')"
   ]
  },
  {
   "cell_type": "code",
   "execution_count": 331,
   "metadata": {},
   "outputs": [
    {
     "data": {
      "image/png": "[encoded data removed]",
      "text/plain": [
       "<Figure size 640x480 with 2 Axes>"
      ]
     },
     "metadata": {},
     "output_type": "display_data"
    }
   ],
   "source": [
    "ConfusionMatrixDisplay.from_predictions(y_test30, y_pred4_70, \n",
    "                                        cmap=\"Blues\", \n",
    "                                        display_labels=[\"Non-landslide\", \"landslide\"])\n",
    "\n",
    "plt.title('Confusion matrix of the Voting classifier')\n",
    "plt.show()"
   ]
  },
  {
   "cell_type": "code",
   "execution_count": 332,
   "metadata": {},
   "outputs": [
    {
     "name": "stdout",
     "output_type": "stream",
     "text": [
      "TN: 2466\n",
      "FP: 174\n",
      "FN: 58\n",
      "TP: 1610\n"
     ]
    }
   ],
   "source": [
    "matrix1_70 = confusion_matrix(y_test30, y_pred4_70)\n",
    "tn_70, fp_70, fn_70, tp_70 = matrix1_70.ravel()\n",
    "\n",
    "print(f'TN: {tn_70}')\n",
    "print(f'FP: {fp_70}')\n",
    "print(f'FN: {fn_70}')\n",
    "print(f'TP: {tp_70}')"
   ]
  },
  {
   "cell_type": "code",
   "execution_count": 333,
   "metadata": {},
   "outputs": [
    {
     "data": {
      "image/png": "[encoded data removed]",
      "text/plain": [
       "<Figure size 640x480 with 2 Axes>"
      ]
     },
     "metadata": {},
     "output_type": "display_data"
    }
   ],
   "source": [
    "ConfusionMatrixDisplay.from_predictions(y_test20, y_pred4_80, \n",
    "                                        cmap=\"Blues\", \n",
    "                                        display_labels=[\"Non-landslide\", \"landslide\"])\n",
    "\n",
    "plt.title('Confusion matrix of the Voting classifier')\n",
    "plt.show()"
   ]
  },
  {
   "cell_type": "code",
   "execution_count": 334,
   "metadata": {},
   "outputs": [
    {
     "name": "stdout",
     "output_type": "stream",
     "text": [
      "TN: 1652\n",
      "FP: 108\n",
      "FN: 32\n",
      "TP: 1080\n"
     ]
    }
   ],
   "source": [
    "matrix1_80 = confusion_matrix(y_test20, y_pred4_80)\n",
    "tn_80, fp_80, fn_80, tp_80 = matrix1_80.ravel()\n",
    "\n",
    "print(f'TN: {tn_80}')\n",
    "print(f'FP: {fp_80}')\n",
    "print(f'FN: {fn_80}')\n",
    "print(f'TP: {tp_80}')"
   ]
  },
  {
   "cell_type": "code",
   "execution_count": 335,
   "metadata": {},
   "outputs": [
    {
     "data": {
      "image/png": "[encoded data removed]",
      "text/plain": [
       "<Figure size 640x480 with 2 Axes>"
      ]
     },
     "metadata": {},
     "output_type": "display_data"
    }
   ],
   "source": [
    "ConfusionMatrixDisplay.from_predictions(y_test10, y_pred4_90, \n",
    "                                        cmap=\"Blues\", \n",
    "                                        display_labels=[\"Non-landslide\", \"landslide\"])\n",
    "\n",
    "plt.title('Confusion matrix of the Voting classifier')\n",
    "plt.show()"
   ]
  },
  {
   "cell_type": "code",
   "execution_count": 336,
   "metadata": {},
   "outputs": [
    {
     "name": "stdout",
     "output_type": "stream",
     "text": [
      "TN: 830\n",
      "FP: 50\n",
      "FN: 15\n",
      "TP: 541\n"
     ]
    }
   ],
   "source": [
    "matrix1_90 = confusion_matrix(y_test10, y_pred4_90)\n",
    "tn_90, fp_90, fn_90, tp_90 = matrix1_90.ravel()\n",
    "\n",
    "print(f'TN: {tn_90}')\n",
    "print(f'FP: {fp_90}')\n",
    "print(f'FN: {fn_90}')\n",
    "print(f'TP: {tp_90}')"
   ]
  },
  {
   "attachments": {},
   "cell_type": "markdown",
   "metadata": {},
   "source": [
    "Grafik ROC"
   ]
  },
  {
   "cell_type": "code",
   "execution_count": 337,
   "metadata": {},
   "outputs": [
    {
     "data": {
      "image/png": "[encoded data removed]",
      "text/plain": [
       "<Figure size 640x480 with 1 Axes>"
      ]
     },
     "metadata": {},
     "output_type": "display_data"
    }
   ],
   "source": [
    "fpr_10, tpr_10, threshhold_10 = roc_curve(y_test90, y_pred4_10)\n",
    "fpr_20, tpr_20, threshhold_20 = roc_curve(y_test80, y_pred4_20)\n",
    "fpr_30, tpr_30, threshhold_30 = roc_curve(y_test70, y_pred4_30)\n",
    "fpr_40, tpr_40, threshhold_40 = roc_curve(y_test60, y_pred4_40)\n",
    "fpr_50, tpr_50, threshhold_50 = roc_curve(y_test50, y_pred4_50)\n",
    "fpr_60, tpr_60, threshhold_60 = roc_curve(y_test40, y_pred4_60)\n",
    "fpr_70, tpr_70, threshhold_70 = roc_curve(y_test30, y_pred4_70)\n",
    "fpr_80, tpr_80, threshhold_80 = roc_curve(y_test20, y_pred4_80)\n",
    "fpr_90, tpr_90, threshhold_90 = roc_curve(y_test10, y_pred4_90)\n",
    "\n",
    "nilai_auc_10 = auc(fpr_10, tpr_10)\n",
    "nilai_auc_20 = auc(fpr_20, tpr_20)\n",
    "nilai_auc_30 = auc(fpr_30, tpr_30)\n",
    "nilai_auc_40 = auc(fpr_40, tpr_40)\n",
    "nilai_auc_50 = auc(fpr_50, tpr_50)\n",
    "nilai_auc_60 = auc(fpr_60, tpr_60)\n",
    "nilai_auc_70 = auc(fpr_70, tpr_70)\n",
    "nilai_auc_80 = auc(fpr_80, tpr_80)\n",
    "nilai_auc_90 = auc(fpr_90, tpr_90)\n",
    "\n",
    "plt.plot(fpr_10, tpr_10, 'b', label=f'AUC_10={nilai_auc_10}')\n",
    "plt.plot(fpr_20, tpr_20, 'r', label=f'AUC_20={nilai_auc_20}')\n",
    "plt.plot(fpr_30, tpr_30, 'g', label=f'AUC_30={nilai_auc_30}')\n",
    "plt.plot(fpr_40, tpr_40, 'y', label=f'AUC_40={nilai_auc_40}')\n",
    "plt.plot(fpr_50, tpr_50, 'p', label=f'AUC_50={nilai_auc_50}')\n",
    "plt.plot(fpr_60, tpr_60, 'c', label=f'AUC_60={nilai_auc_60}')\n",
    "plt.plot(fpr_70, tpr_70, 'b', label=f'AUC_70={nilai_auc_70}')\n",
    "plt.plot(fpr_80, tpr_80, 'o', label=f'AUC_80={nilai_auc_80}')\n",
    "plt.plot(fpr_90, tpr_90, 'r', label=f'AUC_90={nilai_auc_90}')\n",
    "\n",
    "plt.plot([0, 1], [0, 1], 'r--', label=\"Random Classifier\")\n",
    "plt.title('ROC: Receiver Operating Characteristics')\n",
    "plt.xlabel('Fallout or False Positive Rate')\n",
    "plt.ylabel('Recall or True Positive Rate')\n",
    "plt.legend()\n",
    "plt.show()"
   ]
  },
  {
   "cell_type": "code",
   "execution_count": 338,
   "metadata": {},
   "outputs": [
    {
     "data": {
      "text/html": [
       "<div>\n",
       "<style scoped>\n",
       "    .dataframe tbody tr th:only-of-type {\n",
       "        vertical-align: middle;\n",
       "    }\n",
       "\n",
       "    .dataframe tbody tr th {\n",
       "        vertical-align: top;\n",
       "    }\n",
       "\n",
       "    .dataframe thead th {\n",
       "        text-align: right;\n",
       "    }\n",
       "</style>\n",
       "<table border=\"1\" class=\"dataframe\">\n",
       "  <thead>\n",
       "    <tr style=\"text-align: right;\">\n",
       "      <th></th>\n",
       "      <th>AUC</th>\n",
       "    </tr>\n",
       "  </thead>\n",
       "  <tbody>\n",
       "    <tr>\n",
       "      <th>0</th>\n",
       "      <td>0.861678</td>\n",
       "    </tr>\n",
       "    <tr>\n",
       "      <th>1</th>\n",
       "      <td>0.903430</td>\n",
       "    </tr>\n",
       "    <tr>\n",
       "      <th>2</th>\n",
       "      <td>0.919401</td>\n",
       "    </tr>\n",
       "    <tr>\n",
       "      <th>3</th>\n",
       "      <td>0.932586</td>\n",
       "    </tr>\n",
       "    <tr>\n",
       "      <th>4</th>\n",
       "      <td>0.942302</td>\n",
       "    </tr>\n",
       "    <tr>\n",
       "      <th>5</th>\n",
       "      <td>0.948910</td>\n",
       "    </tr>\n",
       "    <tr>\n",
       "      <th>6</th>\n",
       "      <td>0.949659</td>\n",
       "    </tr>\n",
       "    <tr>\n",
       "      <th>7</th>\n",
       "      <td>0.954930</td>\n",
       "    </tr>\n",
       "    <tr>\n",
       "      <th>8</th>\n",
       "      <td>0.958102</td>\n",
       "    </tr>\n",
       "  </tbody>\n",
       "</table>\n",
       "</div>"
      ],
      "text/plain": [
       "        AUC\n",
       "0  0.861678\n",
       "1  0.903430\n",
       "2  0.919401\n",
       "3  0.932586\n",
       "4  0.942302\n",
       "5  0.948910\n",
       "6  0.949659\n",
       "7  0.954930\n",
       "8  0.958102"
      ]
     },
     "execution_count": 338,
     "metadata": {},
     "output_type": "execute_result"
    }
   ],
   "source": [
    "AUC = []\n",
    "AUC.append(nilai_auc_10)\n",
    "AUC.append(nilai_auc_20)\n",
    "AUC.append(nilai_auc_30)\n",
    "AUC.append(nilai_auc_40)\n",
    "AUC.append(nilai_auc_50)\n",
    "AUC.append(nilai_auc_60)\n",
    "AUC.append(nilai_auc_70)\n",
    "AUC.append(nilai_auc_80)\n",
    "AUC.append(nilai_auc_90)\n",
    "\n",
    "AUC = {'AUC':AUC}\n",
    "\n",
    "tabel_AUC = pd.DataFrame(AUC)\n",
    "tabel_AUC"
   ]
  },
  {
   "cell_type": "code",
   "execution_count": 339,
   "metadata": {},
   "outputs": [
    {
     "data": {
      "text/plain": [
       "Text(0, 0.5, 'AUC')"
      ]
     },
     "execution_count": 339,
     "metadata": {},
     "output_type": "execute_result"
    },
    {
     "data": {
      "image/png": "[encoded data removed]",
      "text/plain": [
       "<Figure size 640x480 with 1 Axes>"
      ]
     },
     "metadata": {},
     "output_type": "display_data"
    }
   ],
   "source": [
    "data_auc = {'10:90':nilai_auc_10,'20:80':nilai_auc_20,'30:70':nilai_auc_30,'40:60':nilai_auc_40,'50:50':nilai_auc_50,'60:40':nilai_auc_60,'70:30':nilai_auc_70,'80:20':nilai_auc_80,'90:10':nilai_auc_90}\n",
    "proporsi = list(data_auc.keys())\n",
    "nilai_auc = list(data_auc.values())\n",
    "\n",
    "plt.bar(proporsi, nilai_auc)\n",
    "plt.title('NILAI AUC PROPORSI 1000:1600')\n",
    "plt.xlabel('Proporsi')\n",
    "plt.ylabel('AUC')"
   ]
  },
  {
   "attachments": {},
   "cell_type": "markdown",
   "metadata": {},
   "source": [
    "VALIDASI MODEL"
   ]
  },
  {
   "cell_type": "code",
   "execution_count": 340,
   "metadata": {},
   "outputs": [],
   "source": [
    "x_all = np.concatenate((Xn,Xp))\n",
    "y_all = np.concatenate((Yn,Yp))\n",
    "\n",
    "y_all = y_all.flatten()"
   ]
  },
  {
   "cell_type": "code",
   "execution_count": 341,
   "metadata": {},
   "outputs": [
    {
     "data": {
      "text/plain": [
       "array([0.9999019 , 0.9955506 , 0.9820757 , 0.98394375, 0.96003924,\n",
       "       0.97322596, 0.94377248, 0.91468673, 0.95095004, 0.90134521])"
      ]
     },
     "execution_count": 341,
     "metadata": {},
     "output_type": "execute_result"
    }
   ],
   "source": [
    "# 10-fold Validation\n",
    "cv_result = cross_val_score(ensemble,x_all, y_all, cv = 10,scoring='roc_auc')\n",
    "\n",
    "cv_result\n"
   ]
  },
  {
   "cell_type": "code",
   "execution_count": 342,
   "metadata": {},
   "outputs": [
    {
     "data": {
      "text/plain": [
       "0.9605491628809973"
      ]
     },
     "execution_count": 342,
     "metadata": {},
     "output_type": "execute_result"
    }
   ],
   "source": [
    "cv_result.mean()"
   ]
  }
 ],
 "metadata": {
  "interpreter": {
   "hash": "3c84d47009487a0bb64752f50cbe216bbb54c7eb8d60f69f824ee6bf23db57a6"
  },
  "kernelspec": {
   "display_name": "Python 3.10.10 64-bit (windows store)",
   "language": "python",
   "name": "python3"
  },
  "language_info": {
   "codemirror_mode": {
    "name": "ipython",
    "version": 3
   },
   "file_extension": ".py",
   "mimetype": "text/x-python",
   "name": "python",
   "nbconvert_exporter": "python",
   "pygments_lexer": "ipython3",
   "version": "3.11.4"
  },
  "orig_nbformat": 4,
  "vscode": {
   "interpreter": {
    "hash": "5fea3ff2a9ace15b684f1fbe35abcba534c11e1202542b87d1c492496266253b"
   }
  }
 },
 "nbformat": 4,
 "nbformat_minor": 2
}
